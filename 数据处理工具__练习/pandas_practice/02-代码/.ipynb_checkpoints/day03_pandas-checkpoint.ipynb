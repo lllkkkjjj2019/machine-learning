{
 "cells": [
  {
   "cell_type": "code",
   "execution_count": 1,
   "id": "bae07a0f-b383-48cd-b5b0-6f781811955d",
   "metadata": {},
   "outputs": [],
   "source": [
    "import numpy as np\n",
    "# 创建一个符合正态分布的10个股票5天的涨跌幅数据\n",
    "stock_change = np.random.normal(0, 1, (10, 5))"
   ]
  },
  {
   "cell_type": "code",
   "execution_count": 2,
   "id": "b5044389-a5e4-4a9d-8c96-bb8811843105",
   "metadata": {},
   "outputs": [
    {
     "data": {
      "text/plain": [
       "array([[-0.01407732, -0.31096572,  1.71024373,  0.08131216, -0.99253048],\n",
       "       [-0.76245941, -1.0751769 , -0.82802687, -0.13704089,  0.14693845],\n",
       "       [ 0.30022287, -0.23874701,  1.62954463, -1.54786956,  0.22112589],\n",
       "       [-0.37593667,  1.89841713, -1.59856781, -1.31275214, -0.65065725],\n",
       "       [-0.54810278, -0.4169931 , -0.01222023, -0.69886342,  1.16573726],\n",
       "       [ 1.54314132, -0.33764582, -2.17428424,  0.51323411,  0.52755374],\n",
       "       [ 0.05021855, -1.03623383, -0.90111595,  0.63202836,  1.75427334],\n",
       "       [-0.75973733,  0.08043624, -1.3664762 ,  0.99196121, -1.57987674],\n",
       "       [-0.97312708, -0.63027547, -1.93137783,  0.55931411, -0.24239526],\n",
       "       [-0.95607994, -0.5476962 , -2.05475118, -0.56509897,  0.65433113]])"
      ]
     },
     "execution_count": 2,
     "metadata": {},
     "output_type": "execute_result"
    }
   ],
   "source": [
    "stock_change"
   ]
  },
  {
   "cell_type": "code",
   "execution_count": 3,
   "id": "7adb1b9d-14c9-450e-8a65-de2e6d02cd2b",
   "metadata": {},
   "outputs": [],
   "source": [
    "import pandas as pd"
   ]
  },
  {
   "cell_type": "code",
   "execution_count": 5,
   "id": "1f1e3ad8-413f-4054-9b7c-3c7cf2c43a43",
   "metadata": {},
   "outputs": [
    {
     "data": {
      "text/html": [
       "<div>\n",
       "<style scoped>\n",
       "    .dataframe tbody tr th:only-of-type {\n",
       "        vertical-align: middle;\n",
       "    }\n",
       "\n",
       "    .dataframe tbody tr th {\n",
       "        vertical-align: top;\n",
       "    }\n",
       "\n",
       "    .dataframe thead th {\n",
       "        text-align: right;\n",
       "    }\n",
       "</style>\n",
       "<table border=\"1\" class=\"dataframe\">\n",
       "  <thead>\n",
       "    <tr style=\"text-align: right;\">\n",
       "      <th></th>\n",
       "      <th>0</th>\n",
       "      <th>1</th>\n",
       "      <th>2</th>\n",
       "      <th>3</th>\n",
       "      <th>4</th>\n",
       "    </tr>\n",
       "  </thead>\n",
       "  <tbody>\n",
       "    <tr>\n",
       "      <th>0</th>\n",
       "      <td>-0.014077</td>\n",
       "      <td>-0.310966</td>\n",
       "      <td>1.710244</td>\n",
       "      <td>0.081312</td>\n",
       "      <td>-0.992530</td>\n",
       "    </tr>\n",
       "    <tr>\n",
       "      <th>1</th>\n",
       "      <td>-0.762459</td>\n",
       "      <td>-1.075177</td>\n",
       "      <td>-0.828027</td>\n",
       "      <td>-0.137041</td>\n",
       "      <td>0.146938</td>\n",
       "    </tr>\n",
       "    <tr>\n",
       "      <th>2</th>\n",
       "      <td>0.300223</td>\n",
       "      <td>-0.238747</td>\n",
       "      <td>1.629545</td>\n",
       "      <td>-1.547870</td>\n",
       "      <td>0.221126</td>\n",
       "    </tr>\n",
       "    <tr>\n",
       "      <th>3</th>\n",
       "      <td>-0.375937</td>\n",
       "      <td>1.898417</td>\n",
       "      <td>-1.598568</td>\n",
       "      <td>-1.312752</td>\n",
       "      <td>-0.650657</td>\n",
       "    </tr>\n",
       "    <tr>\n",
       "      <th>4</th>\n",
       "      <td>-0.548103</td>\n",
       "      <td>-0.416993</td>\n",
       "      <td>-0.012220</td>\n",
       "      <td>-0.698863</td>\n",
       "      <td>1.165737</td>\n",
       "    </tr>\n",
       "    <tr>\n",
       "      <th>5</th>\n",
       "      <td>1.543141</td>\n",
       "      <td>-0.337646</td>\n",
       "      <td>-2.174284</td>\n",
       "      <td>0.513234</td>\n",
       "      <td>0.527554</td>\n",
       "    </tr>\n",
       "    <tr>\n",
       "      <th>6</th>\n",
       "      <td>0.050219</td>\n",
       "      <td>-1.036234</td>\n",
       "      <td>-0.901116</td>\n",
       "      <td>0.632028</td>\n",
       "      <td>1.754273</td>\n",
       "    </tr>\n",
       "    <tr>\n",
       "      <th>7</th>\n",
       "      <td>-0.759737</td>\n",
       "      <td>0.080436</td>\n",
       "      <td>-1.366476</td>\n",
       "      <td>0.991961</td>\n",
       "      <td>-1.579877</td>\n",
       "    </tr>\n",
       "    <tr>\n",
       "      <th>8</th>\n",
       "      <td>-0.973127</td>\n",
       "      <td>-0.630275</td>\n",
       "      <td>-1.931378</td>\n",
       "      <td>0.559314</td>\n",
       "      <td>-0.242395</td>\n",
       "    </tr>\n",
       "    <tr>\n",
       "      <th>9</th>\n",
       "      <td>-0.956080</td>\n",
       "      <td>-0.547696</td>\n",
       "      <td>-2.054751</td>\n",
       "      <td>-0.565099</td>\n",
       "      <td>0.654331</td>\n",
       "    </tr>\n",
       "  </tbody>\n",
       "</table>\n",
       "</div>"
      ],
      "text/plain": [
       "          0         1         2         3         4\n",
       "0 -0.014077 -0.310966  1.710244  0.081312 -0.992530\n",
       "1 -0.762459 -1.075177 -0.828027 -0.137041  0.146938\n",
       "2  0.300223 -0.238747  1.629545 -1.547870  0.221126\n",
       "3 -0.375937  1.898417 -1.598568 -1.312752 -0.650657\n",
       "4 -0.548103 -0.416993 -0.012220 -0.698863  1.165737\n",
       "5  1.543141 -0.337646 -2.174284  0.513234  0.527554\n",
       "6  0.050219 -1.036234 -0.901116  0.632028  1.754273\n",
       "7 -0.759737  0.080436 -1.366476  0.991961 -1.579877\n",
       "8 -0.973127 -0.630275 -1.931378  0.559314 -0.242395\n",
       "9 -0.956080 -0.547696 -2.054751 -0.565099  0.654331"
      ]
     },
     "execution_count": 5,
     "metadata": {},
     "output_type": "execute_result"
    }
   ],
   "source": [
    "pd.DataFrame(stock_change)"
   ]
  },
  {
   "cell_type": "code",
   "execution_count": 7,
   "id": "64b5f8be-d14c-4c16-ad63-13e1736e0c62",
   "metadata": {},
   "outputs": [],
   "source": [
    "stock = [\"股票{}\".format(i) for i in range(10)]\n",
    "date = pd.date_range(start=\"20180101\", periods=5, freq=\"B\")"
   ]
  },
  {
   "cell_type": "code",
   "execution_count": 10,
   "id": "c468ad28-af18-402e-9726-a4dff422cafa",
   "metadata": {},
   "outputs": [],
   "source": [
    "data = pd.DataFrame(stock_change,index=stock,columns=date)"
   ]
  },
  {
   "cell_type": "code",
   "execution_count": 11,
   "id": "52405ff4-b94c-415e-a0e6-98377427d670",
   "metadata": {},
   "outputs": [
    {
     "data": {
      "text/plain": [
       "(10, 5)"
      ]
     },
     "execution_count": 11,
     "metadata": {},
     "output_type": "execute_result"
    }
   ],
   "source": [
    "data.shape"
   ]
  },
  {
   "cell_type": "code",
   "execution_count": 12,
   "id": "f08ae6e1-293a-4e07-9c55-b37a7b4f3af2",
   "metadata": {},
   "outputs": [
    {
     "data": {
      "text/plain": [
       "Index(['股票0', '股票1', '股票2', '股票3', '股票4', '股票5', '股票6', '股票7', '股票8', '股票9'], dtype='object')"
      ]
     },
     "execution_count": 12,
     "metadata": {},
     "output_type": "execute_result"
    }
   ],
   "source": [
    "data.index"
   ]
  },
  {
   "cell_type": "code",
   "execution_count": 14,
   "id": "32cd664b-e66c-432e-8633-a06e4b952c79",
   "metadata": {},
   "outputs": [
    {
     "data": {
      "text/plain": [
       "DatetimeIndex(['2018-01-01', '2018-01-02', '2018-01-03', '2018-01-04',\n",
       "               '2018-01-05'],\n",
       "              dtype='datetime64[ns]', freq='B')"
      ]
     },
     "execution_count": 14,
     "metadata": {},
     "output_type": "execute_result"
    }
   ],
   "source": [
    "data.columns"
   ]
  },
  {
   "cell_type": "code",
   "execution_count": 15,
   "id": "b5a624ed-6c7b-4cad-a540-cb2fb0fc91be",
   "metadata": {},
   "outputs": [
    {
     "data": {
      "text/plain": [
       "array([[-0.01407732, -0.31096572,  1.71024373,  0.08131216, -0.99253048],\n",
       "       [-0.76245941, -1.0751769 , -0.82802687, -0.13704089,  0.14693845],\n",
       "       [ 0.30022287, -0.23874701,  1.62954463, -1.54786956,  0.22112589],\n",
       "       [-0.37593667,  1.89841713, -1.59856781, -1.31275214, -0.65065725],\n",
       "       [-0.54810278, -0.4169931 , -0.01222023, -0.69886342,  1.16573726],\n",
       "       [ 1.54314132, -0.33764582, -2.17428424,  0.51323411,  0.52755374],\n",
       "       [ 0.05021855, -1.03623383, -0.90111595,  0.63202836,  1.75427334],\n",
       "       [-0.75973733,  0.08043624, -1.3664762 ,  0.99196121, -1.57987674],\n",
       "       [-0.97312708, -0.63027547, -1.93137783,  0.55931411, -0.24239526],\n",
       "       [-0.95607994, -0.5476962 , -2.05475118, -0.56509897,  0.65433113]])"
      ]
     },
     "execution_count": 15,
     "metadata": {},
     "output_type": "execute_result"
    }
   ],
   "source": [
    "data.values"
   ]
  },
  {
   "cell_type": "code",
   "execution_count": 16,
   "id": "a3c9056f-8584-468d-828f-77f2efb821ae",
   "metadata": {
    "scrolled": true
   },
   "outputs": [
    {
     "data": {
      "text/html": [
       "<div>\n",
       "<style scoped>\n",
       "    .dataframe tbody tr th:only-of-type {\n",
       "        vertical-align: middle;\n",
       "    }\n",
       "\n",
       "    .dataframe tbody tr th {\n",
       "        vertical-align: top;\n",
       "    }\n",
       "\n",
       "    .dataframe thead th {\n",
       "        text-align: right;\n",
       "    }\n",
       "</style>\n",
       "<table border=\"1\" class=\"dataframe\">\n",
       "  <thead>\n",
       "    <tr style=\"text-align: right;\">\n",
       "      <th></th>\n",
       "      <th>股票0</th>\n",
       "      <th>股票1</th>\n",
       "      <th>股票2</th>\n",
       "      <th>股票3</th>\n",
       "      <th>股票4</th>\n",
       "      <th>股票5</th>\n",
       "      <th>股票6</th>\n",
       "      <th>股票7</th>\n",
       "      <th>股票8</th>\n",
       "      <th>股票9</th>\n",
       "    </tr>\n",
       "  </thead>\n",
       "  <tbody>\n",
       "    <tr>\n",
       "      <th>2018-01-01</th>\n",
       "      <td>-0.014077</td>\n",
       "      <td>-0.762459</td>\n",
       "      <td>0.300223</td>\n",
       "      <td>-0.375937</td>\n",
       "      <td>-0.548103</td>\n",
       "      <td>1.543141</td>\n",
       "      <td>0.050219</td>\n",
       "      <td>-0.759737</td>\n",
       "      <td>-0.973127</td>\n",
       "      <td>-0.956080</td>\n",
       "    </tr>\n",
       "    <tr>\n",
       "      <th>2018-01-02</th>\n",
       "      <td>-0.310966</td>\n",
       "      <td>-1.075177</td>\n",
       "      <td>-0.238747</td>\n",
       "      <td>1.898417</td>\n",
       "      <td>-0.416993</td>\n",
       "      <td>-0.337646</td>\n",
       "      <td>-1.036234</td>\n",
       "      <td>0.080436</td>\n",
       "      <td>-0.630275</td>\n",
       "      <td>-0.547696</td>\n",
       "    </tr>\n",
       "    <tr>\n",
       "      <th>2018-01-03</th>\n",
       "      <td>1.710244</td>\n",
       "      <td>-0.828027</td>\n",
       "      <td>1.629545</td>\n",
       "      <td>-1.598568</td>\n",
       "      <td>-0.012220</td>\n",
       "      <td>-2.174284</td>\n",
       "      <td>-0.901116</td>\n",
       "      <td>-1.366476</td>\n",
       "      <td>-1.931378</td>\n",
       "      <td>-2.054751</td>\n",
       "    </tr>\n",
       "    <tr>\n",
       "      <th>2018-01-04</th>\n",
       "      <td>0.081312</td>\n",
       "      <td>-0.137041</td>\n",
       "      <td>-1.547870</td>\n",
       "      <td>-1.312752</td>\n",
       "      <td>-0.698863</td>\n",
       "      <td>0.513234</td>\n",
       "      <td>0.632028</td>\n",
       "      <td>0.991961</td>\n",
       "      <td>0.559314</td>\n",
       "      <td>-0.565099</td>\n",
       "    </tr>\n",
       "    <tr>\n",
       "      <th>2018-01-05</th>\n",
       "      <td>-0.992530</td>\n",
       "      <td>0.146938</td>\n",
       "      <td>0.221126</td>\n",
       "      <td>-0.650657</td>\n",
       "      <td>1.165737</td>\n",
       "      <td>0.527554</td>\n",
       "      <td>1.754273</td>\n",
       "      <td>-1.579877</td>\n",
       "      <td>-0.242395</td>\n",
       "      <td>0.654331</td>\n",
       "    </tr>\n",
       "  </tbody>\n",
       "</table>\n",
       "</div>"
      ],
      "text/plain": [
       "                 股票0       股票1       股票2       股票3       股票4       股票5  \\\n",
       "2018-01-01 -0.014077 -0.762459  0.300223 -0.375937 -0.548103  1.543141   \n",
       "2018-01-02 -0.310966 -1.075177 -0.238747  1.898417 -0.416993 -0.337646   \n",
       "2018-01-03  1.710244 -0.828027  1.629545 -1.598568 -0.012220 -2.174284   \n",
       "2018-01-04  0.081312 -0.137041 -1.547870 -1.312752 -0.698863  0.513234   \n",
       "2018-01-05 -0.992530  0.146938  0.221126 -0.650657  1.165737  0.527554   \n",
       "\n",
       "                 股票6       股票7       股票8       股票9  \n",
       "2018-01-01  0.050219 -0.759737 -0.973127 -0.956080  \n",
       "2018-01-02 -1.036234  0.080436 -0.630275 -0.547696  \n",
       "2018-01-03 -0.901116 -1.366476 -1.931378 -2.054751  \n",
       "2018-01-04  0.632028  0.991961  0.559314 -0.565099  \n",
       "2018-01-05  1.754273 -1.579877 -0.242395  0.654331  "
      ]
     },
     "execution_count": 16,
     "metadata": {},
     "output_type": "execute_result"
    }
   ],
   "source": [
    "data.T"
   ]
  },
  {
   "cell_type": "code",
   "execution_count": 18,
   "id": "1cc1e0f1-7cdd-47c2-9729-c37c44a16cda",
   "metadata": {},
   "outputs": [
    {
     "data": {
      "text/html": [
       "<div>\n",
       "<style scoped>\n",
       "    .dataframe tbody tr th:only-of-type {\n",
       "        vertical-align: middle;\n",
       "    }\n",
       "\n",
       "    .dataframe tbody tr th {\n",
       "        vertical-align: top;\n",
       "    }\n",
       "\n",
       "    .dataframe thead th {\n",
       "        text-align: right;\n",
       "    }\n",
       "</style>\n",
       "<table border=\"1\" class=\"dataframe\">\n",
       "  <thead>\n",
       "    <tr style=\"text-align: right;\">\n",
       "      <th></th>\n",
       "      <th>2018-01-01</th>\n",
       "      <th>2018-01-02</th>\n",
       "      <th>2018-01-03</th>\n",
       "      <th>2018-01-04</th>\n",
       "      <th>2018-01-05</th>\n",
       "    </tr>\n",
       "  </thead>\n",
       "  <tbody>\n",
       "    <tr>\n",
       "      <th>股票0</th>\n",
       "      <td>-0.014077</td>\n",
       "      <td>-0.310966</td>\n",
       "      <td>1.710244</td>\n",
       "      <td>0.081312</td>\n",
       "      <td>-0.992530</td>\n",
       "    </tr>\n",
       "    <tr>\n",
       "      <th>股票1</th>\n",
       "      <td>-0.762459</td>\n",
       "      <td>-1.075177</td>\n",
       "      <td>-0.828027</td>\n",
       "      <td>-0.137041</td>\n",
       "      <td>0.146938</td>\n",
       "    </tr>\n",
       "    <tr>\n",
       "      <th>股票2</th>\n",
       "      <td>0.300223</td>\n",
       "      <td>-0.238747</td>\n",
       "      <td>1.629545</td>\n",
       "      <td>-1.547870</td>\n",
       "      <td>0.221126</td>\n",
       "    </tr>\n",
       "  </tbody>\n",
       "</table>\n",
       "</div>"
      ],
      "text/plain": [
       "     2018-01-01  2018-01-02  2018-01-03  2018-01-04  2018-01-05\n",
       "股票0   -0.014077   -0.310966    1.710244    0.081312   -0.992530\n",
       "股票1   -0.762459   -1.075177   -0.828027   -0.137041    0.146938\n",
       "股票2    0.300223   -0.238747    1.629545   -1.547870    0.221126"
      ]
     },
     "execution_count": 18,
     "metadata": {},
     "output_type": "execute_result"
    }
   ],
   "source": [
    "data.head(3)"
   ]
  },
  {
   "cell_type": "code",
   "execution_count": 19,
   "id": "49cdd91a-fd80-4ec4-9d68-07906263f26b",
   "metadata": {},
   "outputs": [
    {
     "data": {
      "text/html": [
       "<div>\n",
       "<style scoped>\n",
       "    .dataframe tbody tr th:only-of-type {\n",
       "        vertical-align: middle;\n",
       "    }\n",
       "\n",
       "    .dataframe tbody tr th {\n",
       "        vertical-align: top;\n",
       "    }\n",
       "\n",
       "    .dataframe thead th {\n",
       "        text-align: right;\n",
       "    }\n",
       "</style>\n",
       "<table border=\"1\" class=\"dataframe\">\n",
       "  <thead>\n",
       "    <tr style=\"text-align: right;\">\n",
       "      <th></th>\n",
       "      <th>2018-01-01</th>\n",
       "      <th>2018-01-02</th>\n",
       "      <th>2018-01-03</th>\n",
       "      <th>2018-01-04</th>\n",
       "      <th>2018-01-05</th>\n",
       "    </tr>\n",
       "  </thead>\n",
       "  <tbody>\n",
       "    <tr>\n",
       "      <th>股票8</th>\n",
       "      <td>-0.973127</td>\n",
       "      <td>-0.630275</td>\n",
       "      <td>-1.931378</td>\n",
       "      <td>0.559314</td>\n",
       "      <td>-0.242395</td>\n",
       "    </tr>\n",
       "    <tr>\n",
       "      <th>股票9</th>\n",
       "      <td>-0.956080</td>\n",
       "      <td>-0.547696</td>\n",
       "      <td>-2.054751</td>\n",
       "      <td>-0.565099</td>\n",
       "      <td>0.654331</td>\n",
       "    </tr>\n",
       "  </tbody>\n",
       "</table>\n",
       "</div>"
      ],
      "text/plain": [
       "     2018-01-01  2018-01-02  2018-01-03  2018-01-04  2018-01-05\n",
       "股票8   -0.973127   -0.630275   -1.931378    0.559314   -0.242395\n",
       "股票9   -0.956080   -0.547696   -2.054751   -0.565099    0.654331"
      ]
     },
     "execution_count": 19,
     "metadata": {},
     "output_type": "execute_result"
    }
   ],
   "source": [
    "data.tail(2)"
   ]
  },
  {
   "cell_type": "code",
   "execution_count": 21,
   "id": "b6340223-1bdc-4d5b-88d0-14a2910bda8f",
   "metadata": {},
   "outputs": [],
   "source": [
    "# data.index[2] = \"stock888\""
   ]
  },
  {
   "cell_type": "code",
   "execution_count": 22,
   "id": "b8109ce9-92cb-4183-bd01-aa188b69464a",
   "metadata": {},
   "outputs": [],
   "source": [
    "stock_ = [\"股票_{}\".format(i) for i in range(10)]"
   ]
  },
  {
   "cell_type": "code",
   "execution_count": 23,
   "id": "bdc0c15e-6fa9-46c5-b859-995783fd82d3",
   "metadata": {},
   "outputs": [],
   "source": [
    "data.index = stock_"
   ]
  },
  {
   "cell_type": "code",
   "execution_count": 27,
   "id": "a499b3fe-c5b1-4a51-9818-fdf09be1fbab",
   "metadata": {},
   "outputs": [
    {
     "data": {
      "text/html": [
       "<div>\n",
       "<style scoped>\n",
       "    .dataframe tbody tr th:only-of-type {\n",
       "        vertical-align: middle;\n",
       "    }\n",
       "\n",
       "    .dataframe tbody tr th {\n",
       "        vertical-align: top;\n",
       "    }\n",
       "\n",
       "    .dataframe thead th {\n",
       "        text-align: right;\n",
       "    }\n",
       "</style>\n",
       "<table border=\"1\" class=\"dataframe\">\n",
       "  <thead>\n",
       "    <tr style=\"text-align: right;\">\n",
       "      <th></th>\n",
       "      <th>2018-01-01</th>\n",
       "      <th>2018-01-02</th>\n",
       "      <th>2018-01-03</th>\n",
       "      <th>2018-01-04</th>\n",
       "      <th>2018-01-05</th>\n",
       "    </tr>\n",
       "  </thead>\n",
       "  <tbody>\n",
       "    <tr>\n",
       "      <th>股票_0</th>\n",
       "      <td>-0.014077</td>\n",
       "      <td>-0.310966</td>\n",
       "      <td>1.710244</td>\n",
       "      <td>0.081312</td>\n",
       "      <td>-0.992530</td>\n",
       "    </tr>\n",
       "    <tr>\n",
       "      <th>股票_1</th>\n",
       "      <td>-0.762459</td>\n",
       "      <td>-1.075177</td>\n",
       "      <td>-0.828027</td>\n",
       "      <td>-0.137041</td>\n",
       "      <td>0.146938</td>\n",
       "    </tr>\n",
       "    <tr>\n",
       "      <th>股票_2</th>\n",
       "      <td>0.300223</td>\n",
       "      <td>-0.238747</td>\n",
       "      <td>1.629545</td>\n",
       "      <td>-1.547870</td>\n",
       "      <td>0.221126</td>\n",
       "    </tr>\n",
       "  </tbody>\n",
       "</table>\n",
       "</div>"
      ],
      "text/plain": [
       "      2018-01-01  2018-01-02  2018-01-03  2018-01-04  2018-01-05\n",
       "股票_0   -0.014077   -0.310966    1.710244    0.081312   -0.992530\n",
       "股票_1   -0.762459   -1.075177   -0.828027   -0.137041    0.146938\n",
       "股票_2    0.300223   -0.238747    1.629545   -1.547870    0.221126"
      ]
     },
     "execution_count": 27,
     "metadata": {},
     "output_type": "execute_result"
    }
   ],
   "source": [
    "data.head(3)"
   ]
  },
  {
   "cell_type": "code",
   "execution_count": 28,
   "id": "8de76b87-e092-4e5e-92ac-e5fd308dfb51",
   "metadata": {},
   "outputs": [
    {
     "data": {
      "text/html": [
       "<div>\n",
       "<style scoped>\n",
       "    .dataframe tbody tr th:only-of-type {\n",
       "        vertical-align: middle;\n",
       "    }\n",
       "\n",
       "    .dataframe tbody tr th {\n",
       "        vertical-align: top;\n",
       "    }\n",
       "\n",
       "    .dataframe thead th {\n",
       "        text-align: right;\n",
       "    }\n",
       "</style>\n",
       "<table border=\"1\" class=\"dataframe\">\n",
       "  <thead>\n",
       "    <tr style=\"text-align: right;\">\n",
       "      <th></th>\n",
       "      <th>index</th>\n",
       "      <th>2018-01-01 00:00:00</th>\n",
       "      <th>2018-01-02 00:00:00</th>\n",
       "      <th>2018-01-03 00:00:00</th>\n",
       "      <th>2018-01-04 00:00:00</th>\n",
       "      <th>2018-01-05 00:00:00</th>\n",
       "    </tr>\n",
       "  </thead>\n",
       "  <tbody>\n",
       "    <tr>\n",
       "      <th>0</th>\n",
       "      <td>股票_0</td>\n",
       "      <td>-0.014077</td>\n",
       "      <td>-0.310966</td>\n",
       "      <td>1.710244</td>\n",
       "      <td>0.081312</td>\n",
       "      <td>-0.992530</td>\n",
       "    </tr>\n",
       "    <tr>\n",
       "      <th>1</th>\n",
       "      <td>股票_1</td>\n",
       "      <td>-0.762459</td>\n",
       "      <td>-1.075177</td>\n",
       "      <td>-0.828027</td>\n",
       "      <td>-0.137041</td>\n",
       "      <td>0.146938</td>\n",
       "    </tr>\n",
       "    <tr>\n",
       "      <th>2</th>\n",
       "      <td>股票_2</td>\n",
       "      <td>0.300223</td>\n",
       "      <td>-0.238747</td>\n",
       "      <td>1.629545</td>\n",
       "      <td>-1.547870</td>\n",
       "      <td>0.221126</td>\n",
       "    </tr>\n",
       "    <tr>\n",
       "      <th>3</th>\n",
       "      <td>股票_3</td>\n",
       "      <td>-0.375937</td>\n",
       "      <td>1.898417</td>\n",
       "      <td>-1.598568</td>\n",
       "      <td>-1.312752</td>\n",
       "      <td>-0.650657</td>\n",
       "    </tr>\n",
       "    <tr>\n",
       "      <th>4</th>\n",
       "      <td>股票_4</td>\n",
       "      <td>-0.548103</td>\n",
       "      <td>-0.416993</td>\n",
       "      <td>-0.012220</td>\n",
       "      <td>-0.698863</td>\n",
       "      <td>1.165737</td>\n",
       "    </tr>\n",
       "    <tr>\n",
       "      <th>5</th>\n",
       "      <td>股票_5</td>\n",
       "      <td>1.543141</td>\n",
       "      <td>-0.337646</td>\n",
       "      <td>-2.174284</td>\n",
       "      <td>0.513234</td>\n",
       "      <td>0.527554</td>\n",
       "    </tr>\n",
       "    <tr>\n",
       "      <th>6</th>\n",
       "      <td>股票_6</td>\n",
       "      <td>0.050219</td>\n",
       "      <td>-1.036234</td>\n",
       "      <td>-0.901116</td>\n",
       "      <td>0.632028</td>\n",
       "      <td>1.754273</td>\n",
       "    </tr>\n",
       "    <tr>\n",
       "      <th>7</th>\n",
       "      <td>股票_7</td>\n",
       "      <td>-0.759737</td>\n",
       "      <td>0.080436</td>\n",
       "      <td>-1.366476</td>\n",
       "      <td>0.991961</td>\n",
       "      <td>-1.579877</td>\n",
       "    </tr>\n",
       "    <tr>\n",
       "      <th>8</th>\n",
       "      <td>股票_8</td>\n",
       "      <td>-0.973127</td>\n",
       "      <td>-0.630275</td>\n",
       "      <td>-1.931378</td>\n",
       "      <td>0.559314</td>\n",
       "      <td>-0.242395</td>\n",
       "    </tr>\n",
       "    <tr>\n",
       "      <th>9</th>\n",
       "      <td>股票_9</td>\n",
       "      <td>-0.956080</td>\n",
       "      <td>-0.547696</td>\n",
       "      <td>-2.054751</td>\n",
       "      <td>-0.565099</td>\n",
       "      <td>0.654331</td>\n",
       "    </tr>\n",
       "  </tbody>\n",
       "</table>\n",
       "</div>"
      ],
      "text/plain": [
       "  index  2018-01-01 00:00:00  2018-01-02 00:00:00  2018-01-03 00:00:00  \\\n",
       "0  股票_0            -0.014077            -0.310966             1.710244   \n",
       "1  股票_1            -0.762459            -1.075177            -0.828027   \n",
       "2  股票_2             0.300223            -0.238747             1.629545   \n",
       "3  股票_3            -0.375937             1.898417            -1.598568   \n",
       "4  股票_4            -0.548103            -0.416993            -0.012220   \n",
       "5  股票_5             1.543141            -0.337646            -2.174284   \n",
       "6  股票_6             0.050219            -1.036234            -0.901116   \n",
       "7  股票_7            -0.759737             0.080436            -1.366476   \n",
       "8  股票_8            -0.973127            -0.630275            -1.931378   \n",
       "9  股票_9            -0.956080            -0.547696            -2.054751   \n",
       "\n",
       "   2018-01-04 00:00:00  2018-01-05 00:00:00  \n",
       "0             0.081312            -0.992530  \n",
       "1            -0.137041             0.146938  \n",
       "2            -1.547870             0.221126  \n",
       "3            -1.312752            -0.650657  \n",
       "4            -0.698863             1.165737  \n",
       "5             0.513234             0.527554  \n",
       "6             0.632028             1.754273  \n",
       "7             0.991961            -1.579877  \n",
       "8             0.559314            -0.242395  \n",
       "9            -0.565099             0.654331  "
      ]
     },
     "execution_count": 28,
     "metadata": {},
     "output_type": "execute_result"
    }
   ],
   "source": [
    "data.reset_index(drop=False)"
   ]
  },
  {
   "cell_type": "code",
   "execution_count": 29,
   "id": "6315ed67-1aff-4984-ab30-233abe02fd57",
   "metadata": {},
   "outputs": [],
   "source": [
    "df = pd.DataFrame({'month': [1, 4, 7, 10],\n",
    "                    'year': [2012, 2014, 2013, 2014],\n",
    "                    'sale':[55, 40, 84, 31]})"
   ]
  },
  {
   "cell_type": "code",
   "execution_count": 30,
   "id": "94ccc47d-4ee3-4307-9561-33945a30811d",
   "metadata": {},
   "outputs": [
    {
     "data": {
      "text/html": [
       "<div>\n",
       "<style scoped>\n",
       "    .dataframe tbody tr th:only-of-type {\n",
       "        vertical-align: middle;\n",
       "    }\n",
       "\n",
       "    .dataframe tbody tr th {\n",
       "        vertical-align: top;\n",
       "    }\n",
       "\n",
       "    .dataframe thead th {\n",
       "        text-align: right;\n",
       "    }\n",
       "</style>\n",
       "<table border=\"1\" class=\"dataframe\">\n",
       "  <thead>\n",
       "    <tr style=\"text-align: right;\">\n",
       "      <th></th>\n",
       "      <th>month</th>\n",
       "      <th>year</th>\n",
       "      <th>sale</th>\n",
       "    </tr>\n",
       "  </thead>\n",
       "  <tbody>\n",
       "    <tr>\n",
       "      <th>0</th>\n",
       "      <td>1</td>\n",
       "      <td>2012</td>\n",
       "      <td>55</td>\n",
       "    </tr>\n",
       "    <tr>\n",
       "      <th>1</th>\n",
       "      <td>4</td>\n",
       "      <td>2014</td>\n",
       "      <td>40</td>\n",
       "    </tr>\n",
       "    <tr>\n",
       "      <th>2</th>\n",
       "      <td>7</td>\n",
       "      <td>2013</td>\n",
       "      <td>84</td>\n",
       "    </tr>\n",
       "    <tr>\n",
       "      <th>3</th>\n",
       "      <td>10</td>\n",
       "      <td>2014</td>\n",
       "      <td>31</td>\n",
       "    </tr>\n",
       "  </tbody>\n",
       "</table>\n",
       "</div>"
      ],
      "text/plain": [
       "   month  year  sale\n",
       "0      1  2012    55\n",
       "1      4  2014    40\n",
       "2      7  2013    84\n",
       "3     10  2014    31"
      ]
     },
     "execution_count": 30,
     "metadata": {},
     "output_type": "execute_result"
    }
   ],
   "source": [
    "df"
   ]
  },
  {
   "cell_type": "code",
   "execution_count": 32,
   "id": "a30e2ed1-5937-4057-bff9-9a3b38bd89f0",
   "metadata": {},
   "outputs": [
    {
     "data": {
      "text/html": [
       "<div>\n",
       "<style scoped>\n",
       "    .dataframe tbody tr th:only-of-type {\n",
       "        vertical-align: middle;\n",
       "    }\n",
       "\n",
       "    .dataframe tbody tr th {\n",
       "        vertical-align: top;\n",
       "    }\n",
       "\n",
       "    .dataframe thead th {\n",
       "        text-align: right;\n",
       "    }\n",
       "</style>\n",
       "<table border=\"1\" class=\"dataframe\">\n",
       "  <thead>\n",
       "    <tr style=\"text-align: right;\">\n",
       "      <th></th>\n",
       "      <th>year</th>\n",
       "      <th>sale</th>\n",
       "    </tr>\n",
       "    <tr>\n",
       "      <th>month</th>\n",
       "      <th></th>\n",
       "      <th></th>\n",
       "    </tr>\n",
       "  </thead>\n",
       "  <tbody>\n",
       "    <tr>\n",
       "      <th>1</th>\n",
       "      <td>2012</td>\n",
       "      <td>55</td>\n",
       "    </tr>\n",
       "    <tr>\n",
       "      <th>4</th>\n",
       "      <td>2014</td>\n",
       "      <td>40</td>\n",
       "    </tr>\n",
       "    <tr>\n",
       "      <th>7</th>\n",
       "      <td>2013</td>\n",
       "      <td>84</td>\n",
       "    </tr>\n",
       "    <tr>\n",
       "      <th>10</th>\n",
       "      <td>2014</td>\n",
       "      <td>31</td>\n",
       "    </tr>\n",
       "  </tbody>\n",
       "</table>\n",
       "</div>"
      ],
      "text/plain": [
       "       year  sale\n",
       "month            \n",
       "1      2012    55\n",
       "4      2014    40\n",
       "7      2013    84\n",
       "10     2014    31"
      ]
     },
     "execution_count": 32,
     "metadata": {},
     "output_type": "execute_result"
    }
   ],
   "source": [
    "# 以月份设置新的索引\n",
    "df.set_index(\"month\", drop=True)"
   ]
  },
  {
   "cell_type": "code",
   "execution_count": 33,
   "id": "f5a0e776-432f-41fc-a91c-e0de815659a0",
   "metadata": {},
   "outputs": [],
   "source": [
    "# 设置多个索引，以年和月份\n",
    "new_df = df.set_index([\"year\", \"month\"])"
   ]
  },
  {
   "cell_type": "code",
   "execution_count": 34,
   "id": "2c5a364a-932b-438e-8f38-c03891eb710c",
   "metadata": {},
   "outputs": [
    {
     "data": {
      "text/plain": [
       "MultiIndex([(2012,  1),\n",
       "            (2014,  4),\n",
       "            (2013,  7),\n",
       "            (2014, 10)],\n",
       "           names=['year', 'month'])"
      ]
     },
     "execution_count": 34,
     "metadata": {},
     "output_type": "execute_result"
    }
   ],
   "source": [
    "new_df.index"
   ]
  },
  {
   "cell_type": "code",
   "execution_count": 35,
   "id": "9518bd9a-77bf-4cea-92e7-fb5418203c55",
   "metadata": {},
   "outputs": [
    {
     "data": {
      "text/plain": [
       "FrozenList(['year', 'month'])"
      ]
     },
     "execution_count": 35,
     "metadata": {},
     "output_type": "execute_result"
    }
   ],
   "source": [
    "new_df.index.names"
   ]
  },
  {
   "cell_type": "code",
   "execution_count": 36,
   "id": "abf24505-4f1b-4049-b992-3eca4e092797",
   "metadata": {},
   "outputs": [
    {
     "data": {
      "text/plain": [
       "FrozenList([[2012, 2013, 2014], [1, 4, 7, 10]])"
      ]
     },
     "execution_count": 36,
     "metadata": {},
     "output_type": "execute_result"
    }
   ],
   "source": [
    "new_df.index.levels"
   ]
  },
  {
   "cell_type": "code",
   "execution_count": 38,
   "id": "48275819-440e-4a6e-bafd-f2a79b610c2b",
   "metadata": {},
   "outputs": [
    {
     "data": {
      "text/html": [
       "<div>\n",
       "<style scoped>\n",
       "    .dataframe tbody tr th:only-of-type {\n",
       "        vertical-align: middle;\n",
       "    }\n",
       "\n",
       "    .dataframe tbody tr th {\n",
       "        vertical-align: top;\n",
       "    }\n",
       "\n",
       "    .dataframe thead th {\n",
       "        text-align: right;\n",
       "    }\n",
       "</style>\n",
       "<table border=\"1\" class=\"dataframe\">\n",
       "  <thead>\n",
       "    <tr style=\"text-align: right;\">\n",
       "      <th></th>\n",
       "      <th>2018-01-01</th>\n",
       "      <th>2018-01-02</th>\n",
       "      <th>2018-01-03</th>\n",
       "      <th>2018-01-04</th>\n",
       "      <th>2018-01-05</th>\n",
       "    </tr>\n",
       "  </thead>\n",
       "  <tbody>\n",
       "    <tr>\n",
       "      <th>股票_0</th>\n",
       "      <td>-0.014077</td>\n",
       "      <td>-0.310966</td>\n",
       "      <td>1.710244</td>\n",
       "      <td>0.081312</td>\n",
       "      <td>-0.992530</td>\n",
       "    </tr>\n",
       "    <tr>\n",
       "      <th>股票_1</th>\n",
       "      <td>-0.762459</td>\n",
       "      <td>-1.075177</td>\n",
       "      <td>-0.828027</td>\n",
       "      <td>-0.137041</td>\n",
       "      <td>0.146938</td>\n",
       "    </tr>\n",
       "    <tr>\n",
       "      <th>股票_2</th>\n",
       "      <td>0.300223</td>\n",
       "      <td>-0.238747</td>\n",
       "      <td>1.629545</td>\n",
       "      <td>-1.547870</td>\n",
       "      <td>0.221126</td>\n",
       "    </tr>\n",
       "    <tr>\n",
       "      <th>股票_3</th>\n",
       "      <td>-0.375937</td>\n",
       "      <td>1.898417</td>\n",
       "      <td>-1.598568</td>\n",
       "      <td>-1.312752</td>\n",
       "      <td>-0.650657</td>\n",
       "    </tr>\n",
       "    <tr>\n",
       "      <th>股票_4</th>\n",
       "      <td>-0.548103</td>\n",
       "      <td>-0.416993</td>\n",
       "      <td>-0.012220</td>\n",
       "      <td>-0.698863</td>\n",
       "      <td>1.165737</td>\n",
       "    </tr>\n",
       "    <tr>\n",
       "      <th>股票_5</th>\n",
       "      <td>1.543141</td>\n",
       "      <td>-0.337646</td>\n",
       "      <td>-2.174284</td>\n",
       "      <td>0.513234</td>\n",
       "      <td>0.527554</td>\n",
       "    </tr>\n",
       "    <tr>\n",
       "      <th>股票_6</th>\n",
       "      <td>0.050219</td>\n",
       "      <td>-1.036234</td>\n",
       "      <td>-0.901116</td>\n",
       "      <td>0.632028</td>\n",
       "      <td>1.754273</td>\n",
       "    </tr>\n",
       "    <tr>\n",
       "      <th>股票_7</th>\n",
       "      <td>-0.759737</td>\n",
       "      <td>0.080436</td>\n",
       "      <td>-1.366476</td>\n",
       "      <td>0.991961</td>\n",
       "      <td>-1.579877</td>\n",
       "    </tr>\n",
       "    <tr>\n",
       "      <th>股票_8</th>\n",
       "      <td>-0.973127</td>\n",
       "      <td>-0.630275</td>\n",
       "      <td>-1.931378</td>\n",
       "      <td>0.559314</td>\n",
       "      <td>-0.242395</td>\n",
       "    </tr>\n",
       "    <tr>\n",
       "      <th>股票_9</th>\n",
       "      <td>-0.956080</td>\n",
       "      <td>-0.547696</td>\n",
       "      <td>-2.054751</td>\n",
       "      <td>-0.565099</td>\n",
       "      <td>0.654331</td>\n",
       "    </tr>\n",
       "  </tbody>\n",
       "</table>\n",
       "</div>"
      ],
      "text/plain": [
       "      2018-01-01  2018-01-02  2018-01-03  2018-01-04  2018-01-05\n",
       "股票_0   -0.014077   -0.310966    1.710244    0.081312   -0.992530\n",
       "股票_1   -0.762459   -1.075177   -0.828027   -0.137041    0.146938\n",
       "股票_2    0.300223   -0.238747    1.629545   -1.547870    0.221126\n",
       "股票_3   -0.375937    1.898417   -1.598568   -1.312752   -0.650657\n",
       "股票_4   -0.548103   -0.416993   -0.012220   -0.698863    1.165737\n",
       "股票_5    1.543141   -0.337646   -2.174284    0.513234    0.527554\n",
       "股票_6    0.050219   -1.036234   -0.901116    0.632028    1.754273\n",
       "股票_7   -0.759737    0.080436   -1.366476    0.991961   -1.579877\n",
       "股票_8   -0.973127   -0.630275   -1.931378    0.559314   -0.242395\n",
       "股票_9   -0.956080   -0.547696   -2.054751   -0.565099    0.654331"
      ]
     },
     "execution_count": 38,
     "metadata": {},
     "output_type": "execute_result"
    }
   ],
   "source": [
    "data"
   ]
  },
  {
   "cell_type": "code",
   "execution_count": 39,
   "id": "048128fe-ed65-4e86-98f0-3f0faf48ed8d",
   "metadata": {},
   "outputs": [
    {
     "data": {
      "text/plain": [
       "2018-01-01   -0.762459\n",
       "2018-01-02   -1.075177\n",
       "2018-01-03   -0.828027\n",
       "2018-01-04   -0.137041\n",
       "2018-01-05    0.146938\n",
       "Freq: B, Name: 股票_1, dtype: float64"
      ]
     },
     "execution_count": 39,
     "metadata": {},
     "output_type": "execute_result"
    }
   ],
   "source": [
    "data.iloc[1,:]"
   ]
  },
  {
   "cell_type": "code",
   "execution_count": 40,
   "id": "e9baefe7-5089-4365-836e-e85fe84681b0",
   "metadata": {},
   "outputs": [
    {
     "data": {
      "text/plain": [
       "DatetimeIndex(['2018-01-01', '2018-01-02', '2018-01-03', '2018-01-04',\n",
       "               '2018-01-05'],\n",
       "              dtype='datetime64[ns]', freq='B')"
      ]
     },
     "execution_count": 40,
     "metadata": {},
     "output_type": "execute_result"
    }
   ],
   "source": [
    "data.iloc[1,:].index"
   ]
  },
  {
   "cell_type": "code",
   "execution_count": 41,
   "id": "565da4c7-3ddd-47da-b983-062190278666",
   "metadata": {},
   "outputs": [
    {
     "data": {
      "text/plain": [
       "array([-0.76245941, -1.0751769 , -0.82802687, -0.13704089,  0.14693845])"
      ]
     },
     "execution_count": 41,
     "metadata": {},
     "output_type": "execute_result"
    }
   ],
   "source": [
    "data.iloc[1,:].values"
   ]
  },
  {
   "cell_type": "code",
   "execution_count": 46,
   "id": "2137cfc7-764c-46bc-a215-41ca2f4f8991",
   "metadata": {},
   "outputs": [
    {
     "data": {
      "text/plain": [
       "red        100\n",
       "blue       200\n",
       "green      500\n",
       "yellow    1000\n",
       "dtype: int64"
      ]
     },
     "execution_count": 46,
     "metadata": {},
     "output_type": "execute_result"
    }
   ],
   "source": [
    "pd.Series({'red':100, 'blue':200, 'green': 500, 'yellow':1000})"
   ]
  },
  {
   "cell_type": "markdown",
   "id": "d90fc65d-bc34-44ae-a023-1a29bb717557",
   "metadata": {},
   "source": [
    "###  基本数据操作"
   ]
  },
  {
   "cell_type": "code",
   "execution_count": 47,
   "id": "d5b71cd4-b68f-4fdc-956c-fee03876279b",
   "metadata": {},
   "outputs": [],
   "source": [
    "data = pd.read_csv(\"./stock_day/stock_day.csv\")"
   ]
  },
  {
   "cell_type": "code",
   "execution_count": 50,
   "id": "318331e4-d045-43da-9408-955a66eb1863",
   "metadata": {},
   "outputs": [
    {
     "data": {
      "text/html": [
       "<div>\n",
       "<style scoped>\n",
       "    .dataframe tbody tr th:only-of-type {\n",
       "        vertical-align: middle;\n",
       "    }\n",
       "\n",
       "    .dataframe tbody tr th {\n",
       "        vertical-align: top;\n",
       "    }\n",
       "\n",
       "    .dataframe thead th {\n",
       "        text-align: right;\n",
       "    }\n",
       "</style>\n",
       "<table border=\"1\" class=\"dataframe\">\n",
       "  <thead>\n",
       "    <tr style=\"text-align: right;\">\n",
       "      <th></th>\n",
       "      <th>open</th>\n",
       "      <th>high</th>\n",
       "      <th>close</th>\n",
       "      <th>low</th>\n",
       "      <th>volume</th>\n",
       "      <th>price_change</th>\n",
       "      <th>p_change</th>\n",
       "      <th>ma5</th>\n",
       "      <th>ma10</th>\n",
       "      <th>ma20</th>\n",
       "      <th>v_ma5</th>\n",
       "      <th>v_ma10</th>\n",
       "      <th>v_ma20</th>\n",
       "      <th>turnover</th>\n",
       "    </tr>\n",
       "  </thead>\n",
       "  <tbody>\n",
       "    <tr>\n",
       "      <th>2018-02-27</th>\n",
       "      <td>23.53</td>\n",
       "      <td>25.88</td>\n",
       "      <td>24.16</td>\n",
       "      <td>23.53</td>\n",
       "      <td>95578.03</td>\n",
       "      <td>0.63</td>\n",
       "      <td>2.68</td>\n",
       "      <td>22.942</td>\n",
       "      <td>22.142</td>\n",
       "      <td>22.875</td>\n",
       "      <td>53782.64</td>\n",
       "      <td>46738.65</td>\n",
       "      <td>55576.11</td>\n",
       "      <td>2.39</td>\n",
       "    </tr>\n",
       "    <tr>\n",
       "      <th>2018-02-26</th>\n",
       "      <td>22.80</td>\n",
       "      <td>23.78</td>\n",
       "      <td>23.53</td>\n",
       "      <td>22.80</td>\n",
       "      <td>60985.11</td>\n",
       "      <td>0.69</td>\n",
       "      <td>3.02</td>\n",
       "      <td>22.406</td>\n",
       "      <td>21.955</td>\n",
       "      <td>22.942</td>\n",
       "      <td>40827.52</td>\n",
       "      <td>42736.34</td>\n",
       "      <td>56007.50</td>\n",
       "      <td>1.53</td>\n",
       "    </tr>\n",
       "    <tr>\n",
       "      <th>2018-02-23</th>\n",
       "      <td>22.88</td>\n",
       "      <td>23.37</td>\n",
       "      <td>22.82</td>\n",
       "      <td>22.71</td>\n",
       "      <td>52914.01</td>\n",
       "      <td>0.54</td>\n",
       "      <td>2.42</td>\n",
       "      <td>21.938</td>\n",
       "      <td>21.929</td>\n",
       "      <td>23.022</td>\n",
       "      <td>35119.58</td>\n",
       "      <td>41871.97</td>\n",
       "      <td>56372.85</td>\n",
       "      <td>1.32</td>\n",
       "    </tr>\n",
       "  </tbody>\n",
       "</table>\n",
       "</div>"
      ],
      "text/plain": [
       "             open   high  close    low    volume  price_change  p_change  \\\n",
       "2018-02-27  23.53  25.88  24.16  23.53  95578.03          0.63      2.68   \n",
       "2018-02-26  22.80  23.78  23.53  22.80  60985.11          0.69      3.02   \n",
       "2018-02-23  22.88  23.37  22.82  22.71  52914.01          0.54      2.42   \n",
       "\n",
       "               ma5    ma10    ma20     v_ma5    v_ma10    v_ma20  turnover  \n",
       "2018-02-27  22.942  22.142  22.875  53782.64  46738.65  55576.11      2.39  \n",
       "2018-02-26  22.406  21.955  22.942  40827.52  42736.34  56007.50      1.53  \n",
       "2018-02-23  21.938  21.929  23.022  35119.58  41871.97  56372.85      1.32  "
      ]
     },
     "execution_count": 50,
     "metadata": {},
     "output_type": "execute_result"
    }
   ],
   "source": [
    "data.head(3)"
   ]
  },
  {
   "cell_type": "code",
   "execution_count": 51,
   "id": "590aa43d-9752-458e-9868-87d9bbdfe875",
   "metadata": {},
   "outputs": [],
   "source": [
    "data = data.drop([\"ma5\",\"ma10\",\"ma20\",\"v_ma5\",\"v_ma10\",\"v_ma20\"], axis=1)"
   ]
  },
  {
   "cell_type": "code",
   "execution_count": 52,
   "id": "c3259acc-6b8e-4ae1-8105-205640a3252b",
   "metadata": {},
   "outputs": [
    {
     "data": {
      "text/html": [
       "<div>\n",
       "<style scoped>\n",
       "    .dataframe tbody tr th:only-of-type {\n",
       "        vertical-align: middle;\n",
       "    }\n",
       "\n",
       "    .dataframe tbody tr th {\n",
       "        vertical-align: top;\n",
       "    }\n",
       "\n",
       "    .dataframe thead th {\n",
       "        text-align: right;\n",
       "    }\n",
       "</style>\n",
       "<table border=\"1\" class=\"dataframe\">\n",
       "  <thead>\n",
       "    <tr style=\"text-align: right;\">\n",
       "      <th></th>\n",
       "      <th>open</th>\n",
       "      <th>high</th>\n",
       "      <th>close</th>\n",
       "      <th>low</th>\n",
       "      <th>volume</th>\n",
       "      <th>price_change</th>\n",
       "      <th>p_change</th>\n",
       "      <th>turnover</th>\n",
       "    </tr>\n",
       "  </thead>\n",
       "  <tbody>\n",
       "    <tr>\n",
       "      <th>2018-02-27</th>\n",
       "      <td>23.53</td>\n",
       "      <td>25.88</td>\n",
       "      <td>24.16</td>\n",
       "      <td>23.53</td>\n",
       "      <td>95578.03</td>\n",
       "      <td>0.63</td>\n",
       "      <td>2.68</td>\n",
       "      <td>2.39</td>\n",
       "    </tr>\n",
       "    <tr>\n",
       "      <th>2018-02-26</th>\n",
       "      <td>22.80</td>\n",
       "      <td>23.78</td>\n",
       "      <td>23.53</td>\n",
       "      <td>22.80</td>\n",
       "      <td>60985.11</td>\n",
       "      <td>0.69</td>\n",
       "      <td>3.02</td>\n",
       "      <td>1.53</td>\n",
       "    </tr>\n",
       "    <tr>\n",
       "      <th>2018-02-23</th>\n",
       "      <td>22.88</td>\n",
       "      <td>23.37</td>\n",
       "      <td>22.82</td>\n",
       "      <td>22.71</td>\n",
       "      <td>52914.01</td>\n",
       "      <td>0.54</td>\n",
       "      <td>2.42</td>\n",
       "      <td>1.32</td>\n",
       "    </tr>\n",
       "  </tbody>\n",
       "</table>\n",
       "</div>"
      ],
      "text/plain": [
       "             open   high  close    low    volume  price_change  p_change  \\\n",
       "2018-02-27  23.53  25.88  24.16  23.53  95578.03          0.63      2.68   \n",
       "2018-02-26  22.80  23.78  23.53  22.80  60985.11          0.69      3.02   \n",
       "2018-02-23  22.88  23.37  22.82  22.71  52914.01          0.54      2.42   \n",
       "\n",
       "            turnover  \n",
       "2018-02-27      2.39  \n",
       "2018-02-26      1.53  \n",
       "2018-02-23      1.32  "
      ]
     },
     "execution_count": 52,
     "metadata": {},
     "output_type": "execute_result"
    }
   ],
   "source": [
    "data.head(3)"
   ]
  },
  {
   "cell_type": "code",
   "execution_count": 53,
   "id": "8eafb101-f7c6-48d2-8860-3f2c44009024",
   "metadata": {},
   "outputs": [
    {
     "data": {
      "text/plain": [
       "np.float64(22.8)"
      ]
     },
     "execution_count": 53,
     "metadata": {},
     "output_type": "execute_result"
    }
   ],
   "source": [
    "data[\"open\"][\"2018-02-26\"]"
   ]
  },
  {
   "cell_type": "code",
   "execution_count": 54,
   "id": "735442ea-3463-4f51-848e-ecdf8f89f4c2",
   "metadata": {},
   "outputs": [],
   "source": [
    "# data[\"2018-02-26\"][\"open\"] 必须先列后行"
   ]
  },
  {
   "cell_type": "code",
   "execution_count": 55,
   "id": "11bc757b-7dae-4a44-9edf-9c5caf1ef940",
   "metadata": {},
   "outputs": [
    {
     "data": {
      "text/plain": [
       "np.float64(22.8)"
      ]
     },
     "execution_count": 55,
     "metadata": {},
     "output_type": "execute_result"
    }
   ],
   "source": [
    "data.loc[\"2018-02-26\"][\"open\"]"
   ]
  },
  {
   "cell_type": "code",
   "execution_count": 57,
   "id": "25ede2ee-e4d2-44fc-871d-345061ea6b16",
   "metadata": {},
   "outputs": [
    {
     "data": {
      "text/plain": [
       "np.float64(22.8)"
      ]
     },
     "execution_count": 57,
     "metadata": {},
     "output_type": "execute_result"
    }
   ],
   "source": [
    "data.loc[\"2018-02-26\", \"open\"]"
   ]
  },
  {
   "cell_type": "code",
   "execution_count": 56,
   "id": "c76b848a-8a0e-4c00-9e79-6b75be463b23",
   "metadata": {},
   "outputs": [
    {
     "data": {
      "text/plain": [
       "np.float64(22.8)"
      ]
     },
     "execution_count": 56,
     "metadata": {},
     "output_type": "execute_result"
    }
   ],
   "source": [
    "data.iloc[1, 0]"
   ]
  },
  {
   "cell_type": "code",
   "execution_count": 58,
   "id": "a874e854-0fb9-4912-bf61-4cd5d107158a",
   "metadata": {},
   "outputs": [],
   "source": [
    "###  赋值排序"
   ]
  },
  {
   "cell_type": "code",
   "execution_count": 59,
   "id": "dff0e107-9de2-4dc7-bf23-cb5515ef7de8",
   "metadata": {},
   "outputs": [],
   "source": [
    "data.open=100"
   ]
  },
  {
   "cell_type": "code",
   "execution_count": 61,
   "id": "9a62fba8-a77f-4d7e-b220-2246819b1b5b",
   "metadata": {},
   "outputs": [],
   "source": [
    "data.iloc[1, 0] = 222"
   ]
  },
  {
   "cell_type": "code",
   "execution_count": 62,
   "id": "d3ad0e7a-5c48-4a28-a82f-311487338476",
   "metadata": {},
   "outputs": [
    {
     "data": {
      "text/html": [
       "<div>\n",
       "<style scoped>\n",
       "    .dataframe tbody tr th:only-of-type {\n",
       "        vertical-align: middle;\n",
       "    }\n",
       "\n",
       "    .dataframe tbody tr th {\n",
       "        vertical-align: top;\n",
       "    }\n",
       "\n",
       "    .dataframe thead th {\n",
       "        text-align: right;\n",
       "    }\n",
       "</style>\n",
       "<table border=\"1\" class=\"dataframe\">\n",
       "  <thead>\n",
       "    <tr style=\"text-align: right;\">\n",
       "      <th></th>\n",
       "      <th>open</th>\n",
       "      <th>high</th>\n",
       "      <th>close</th>\n",
       "      <th>low</th>\n",
       "      <th>volume</th>\n",
       "      <th>price_change</th>\n",
       "      <th>p_change</th>\n",
       "      <th>turnover</th>\n",
       "    </tr>\n",
       "  </thead>\n",
       "  <tbody>\n",
       "    <tr>\n",
       "      <th>2018-02-27</th>\n",
       "      <td>100</td>\n",
       "      <td>25.88</td>\n",
       "      <td>24.16</td>\n",
       "      <td>23.53</td>\n",
       "      <td>95578.03</td>\n",
       "      <td>0.63</td>\n",
       "      <td>2.68</td>\n",
       "      <td>2.39</td>\n",
       "    </tr>\n",
       "    <tr>\n",
       "      <th>2018-02-26</th>\n",
       "      <td>222</td>\n",
       "      <td>23.78</td>\n",
       "      <td>23.53</td>\n",
       "      <td>22.80</td>\n",
       "      <td>60985.11</td>\n",
       "      <td>0.69</td>\n",
       "      <td>3.02</td>\n",
       "      <td>1.53</td>\n",
       "    </tr>\n",
       "    <tr>\n",
       "      <th>2018-02-23</th>\n",
       "      <td>100</td>\n",
       "      <td>23.37</td>\n",
       "      <td>22.82</td>\n",
       "      <td>22.71</td>\n",
       "      <td>52914.01</td>\n",
       "      <td>0.54</td>\n",
       "      <td>2.42</td>\n",
       "      <td>1.32</td>\n",
       "    </tr>\n",
       "    <tr>\n",
       "      <th>2018-02-22</th>\n",
       "      <td>100</td>\n",
       "      <td>22.76</td>\n",
       "      <td>22.28</td>\n",
       "      <td>22.02</td>\n",
       "      <td>36105.01</td>\n",
       "      <td>0.36</td>\n",
       "      <td>1.64</td>\n",
       "      <td>0.90</td>\n",
       "    </tr>\n",
       "    <tr>\n",
       "      <th>2018-02-14</th>\n",
       "      <td>100</td>\n",
       "      <td>21.99</td>\n",
       "      <td>21.92</td>\n",
       "      <td>21.48</td>\n",
       "      <td>23331.04</td>\n",
       "      <td>0.44</td>\n",
       "      <td>2.05</td>\n",
       "      <td>0.58</td>\n",
       "    </tr>\n",
       "  </tbody>\n",
       "</table>\n",
       "</div>"
      ],
      "text/plain": [
       "            open   high  close    low    volume  price_change  p_change  \\\n",
       "2018-02-27   100  25.88  24.16  23.53  95578.03          0.63      2.68   \n",
       "2018-02-26   222  23.78  23.53  22.80  60985.11          0.69      3.02   \n",
       "2018-02-23   100  23.37  22.82  22.71  52914.01          0.54      2.42   \n",
       "2018-02-22   100  22.76  22.28  22.02  36105.01          0.36      1.64   \n",
       "2018-02-14   100  21.99  21.92  21.48  23331.04          0.44      2.05   \n",
       "\n",
       "            turnover  \n",
       "2018-02-27      2.39  \n",
       "2018-02-26      1.53  \n",
       "2018-02-23      1.32  \n",
       "2018-02-22      0.90  \n",
       "2018-02-14      0.58  "
      ]
     },
     "execution_count": 62,
     "metadata": {},
     "output_type": "execute_result"
    }
   ],
   "source": [
    "data.head()"
   ]
  },
  {
   "cell_type": "code",
   "execution_count": 64,
   "id": "cde63da9-f47d-4440-91e0-5075b367442d",
   "metadata": {},
   "outputs": [
    {
     "data": {
      "text/html": [
       "<div>\n",
       "<style scoped>\n",
       "    .dataframe tbody tr th:only-of-type {\n",
       "        vertical-align: middle;\n",
       "    }\n",
       "\n",
       "    .dataframe tbody tr th {\n",
       "        vertical-align: top;\n",
       "    }\n",
       "\n",
       "    .dataframe thead th {\n",
       "        text-align: right;\n",
       "    }\n",
       "</style>\n",
       "<table border=\"1\" class=\"dataframe\">\n",
       "  <thead>\n",
       "    <tr style=\"text-align: right;\">\n",
       "      <th></th>\n",
       "      <th>open</th>\n",
       "      <th>high</th>\n",
       "      <th>close</th>\n",
       "      <th>low</th>\n",
       "      <th>volume</th>\n",
       "      <th>price_change</th>\n",
       "      <th>p_change</th>\n",
       "      <th>turnover</th>\n",
       "    </tr>\n",
       "  </thead>\n",
       "  <tbody>\n",
       "    <tr>\n",
       "      <th>2015-06-10</th>\n",
       "      <td>100</td>\n",
       "      <td>36.35</td>\n",
       "      <td>33.85</td>\n",
       "      <td>32.23</td>\n",
       "      <td>269033.12</td>\n",
       "      <td>0.51</td>\n",
       "      <td>1.53</td>\n",
       "      <td>9.21</td>\n",
       "    </tr>\n",
       "    <tr>\n",
       "      <th>2015-06-12</th>\n",
       "      <td>100</td>\n",
       "      <td>35.98</td>\n",
       "      <td>35.21</td>\n",
       "      <td>34.01</td>\n",
       "      <td>159825.88</td>\n",
       "      <td>0.82</td>\n",
       "      <td>2.38</td>\n",
       "      <td>5.47</td>\n",
       "    </tr>\n",
       "    <tr>\n",
       "      <th>2017-10-31</th>\n",
       "      <td>100</td>\n",
       "      <td>35.22</td>\n",
       "      <td>34.44</td>\n",
       "      <td>32.20</td>\n",
       "      <td>361660.88</td>\n",
       "      <td>2.38</td>\n",
       "      <td>7.42</td>\n",
       "      <td>9.05</td>\n",
       "    </tr>\n",
       "    <tr>\n",
       "      <th>2015-06-15</th>\n",
       "      <td>100</td>\n",
       "      <td>34.99</td>\n",
       "      <td>31.69</td>\n",
       "      <td>31.69</td>\n",
       "      <td>199369.53</td>\n",
       "      <td>-3.52</td>\n",
       "      <td>-10.00</td>\n",
       "      <td>6.82</td>\n",
       "    </tr>\n",
       "    <tr>\n",
       "      <th>2015-06-11</th>\n",
       "      <td>100</td>\n",
       "      <td>34.98</td>\n",
       "      <td>34.39</td>\n",
       "      <td>32.51</td>\n",
       "      <td>173075.73</td>\n",
       "      <td>0.54</td>\n",
       "      <td>1.59</td>\n",
       "      <td>5.92</td>\n",
       "    </tr>\n",
       "  </tbody>\n",
       "</table>\n",
       "</div>"
      ],
      "text/plain": [
       "            open   high  close    low     volume  price_change  p_change  \\\n",
       "2015-06-10   100  36.35  33.85  32.23  269033.12          0.51      1.53   \n",
       "2015-06-12   100  35.98  35.21  34.01  159825.88          0.82      2.38   \n",
       "2017-10-31   100  35.22  34.44  32.20  361660.88          2.38      7.42   \n",
       "2015-06-15   100  34.99  31.69  31.69  199369.53         -3.52    -10.00   \n",
       "2015-06-11   100  34.98  34.39  32.51  173075.73          0.54      1.59   \n",
       "\n",
       "            turnover  \n",
       "2015-06-10      9.21  \n",
       "2015-06-12      5.47  \n",
       "2017-10-31      9.05  \n",
       "2015-06-15      6.82  \n",
       "2015-06-11      5.92  "
      ]
     },
     "execution_count": 64,
     "metadata": {},
     "output_type": "execute_result"
    }
   ],
   "source": [
    "data.sort_values(by=[\"high\", \"p_change\"], ascending=False).head()"
   ]
  },
  {
   "cell_type": "code",
   "execution_count": 66,
   "id": "3e82490b-f24a-4b5b-b3f5-a8f1728d4d80",
   "metadata": {},
   "outputs": [
    {
     "data": {
      "text/html": [
       "<div>\n",
       "<style scoped>\n",
       "    .dataframe tbody tr th:only-of-type {\n",
       "        vertical-align: middle;\n",
       "    }\n",
       "\n",
       "    .dataframe tbody tr th {\n",
       "        vertical-align: top;\n",
       "    }\n",
       "\n",
       "    .dataframe thead th {\n",
       "        text-align: right;\n",
       "    }\n",
       "</style>\n",
       "<table border=\"1\" class=\"dataframe\">\n",
       "  <thead>\n",
       "    <tr style=\"text-align: right;\">\n",
       "      <th></th>\n",
       "      <th>open</th>\n",
       "      <th>high</th>\n",
       "      <th>close</th>\n",
       "      <th>low</th>\n",
       "      <th>volume</th>\n",
       "      <th>price_change</th>\n",
       "      <th>p_change</th>\n",
       "      <th>turnover</th>\n",
       "    </tr>\n",
       "  </thead>\n",
       "  <tbody>\n",
       "    <tr>\n",
       "      <th>2015-03-02</th>\n",
       "      <td>100</td>\n",
       "      <td>12.67</td>\n",
       "      <td>12.52</td>\n",
       "      <td>12.20</td>\n",
       "      <td>96291.73</td>\n",
       "      <td>0.32</td>\n",
       "      <td>2.62</td>\n",
       "      <td>3.30</td>\n",
       "    </tr>\n",
       "    <tr>\n",
       "      <th>2015-03-03</th>\n",
       "      <td>100</td>\n",
       "      <td>13.06</td>\n",
       "      <td>12.70</td>\n",
       "      <td>12.52</td>\n",
       "      <td>139071.61</td>\n",
       "      <td>0.18</td>\n",
       "      <td>1.44</td>\n",
       "      <td>4.76</td>\n",
       "    </tr>\n",
       "    <tr>\n",
       "      <th>2015-03-04</th>\n",
       "      <td>100</td>\n",
       "      <td>12.92</td>\n",
       "      <td>12.90</td>\n",
       "      <td>12.61</td>\n",
       "      <td>67075.44</td>\n",
       "      <td>0.20</td>\n",
       "      <td>1.57</td>\n",
       "      <td>2.30</td>\n",
       "    </tr>\n",
       "    <tr>\n",
       "      <th>2015-03-05</th>\n",
       "      <td>100</td>\n",
       "      <td>13.45</td>\n",
       "      <td>13.16</td>\n",
       "      <td>12.87</td>\n",
       "      <td>93180.39</td>\n",
       "      <td>0.26</td>\n",
       "      <td>2.02</td>\n",
       "      <td>3.19</td>\n",
       "    </tr>\n",
       "    <tr>\n",
       "      <th>2015-03-06</th>\n",
       "      <td>100</td>\n",
       "      <td>14.48</td>\n",
       "      <td>14.28</td>\n",
       "      <td>13.13</td>\n",
       "      <td>179831.72</td>\n",
       "      <td>1.12</td>\n",
       "      <td>8.51</td>\n",
       "      <td>6.16</td>\n",
       "    </tr>\n",
       "  </tbody>\n",
       "</table>\n",
       "</div>"
      ],
      "text/plain": [
       "            open   high  close    low     volume  price_change  p_change  \\\n",
       "2015-03-02   100  12.67  12.52  12.20   96291.73          0.32      2.62   \n",
       "2015-03-03   100  13.06  12.70  12.52  139071.61          0.18      1.44   \n",
       "2015-03-04   100  12.92  12.90  12.61   67075.44          0.20      1.57   \n",
       "2015-03-05   100  13.45  13.16  12.87   93180.39          0.26      2.02   \n",
       "2015-03-06   100  14.48  14.28  13.13  179831.72          1.12      8.51   \n",
       "\n",
       "            turnover  \n",
       "2015-03-02      3.30  \n",
       "2015-03-03      4.76  \n",
       "2015-03-04      2.30  \n",
       "2015-03-05      3.19  \n",
       "2015-03-06      6.16  "
      ]
     },
     "execution_count": 66,
     "metadata": {},
     "output_type": "execute_result"
    }
   ],
   "source": [
    "data.sort_index().head()"
   ]
  },
  {
   "cell_type": "code",
   "execution_count": 67,
   "id": "7b883647-e382-41d4-9730-f4d6176e9b3b",
   "metadata": {},
   "outputs": [],
   "source": [
    "sr = data[\"price_change\"]"
   ]
  },
  {
   "cell_type": "code",
   "execution_count": 68,
   "id": "3df9bb92-fa55-42b9-905a-3d93a3969b99",
   "metadata": {},
   "outputs": [
    {
     "data": {
      "text/plain": [
       "2015-06-09    3.03\n",
       "2017-10-26    2.68\n",
       "2015-05-21    2.57\n",
       "2017-10-31    2.38\n",
       "2017-06-22    2.36\n",
       "Name: price_change, dtype: float64"
      ]
     },
     "execution_count": 68,
     "metadata": {},
     "output_type": "execute_result"
    }
   ],
   "source": [
    "sr.sort_values(ascending=False).head()"
   ]
  },
  {
   "cell_type": "code",
   "execution_count": 69,
   "id": "b5db603e-c15c-4031-8325-6335bf88099b",
   "metadata": {},
   "outputs": [
    {
     "data": {
      "text/plain": [
       "2015-03-02    0.32\n",
       "2015-03-03    0.18\n",
       "2015-03-04    0.20\n",
       "2015-03-05    0.26\n",
       "2015-03-06    1.12\n",
       "Name: price_change, dtype: float64"
      ]
     },
     "execution_count": 69,
     "metadata": {},
     "output_type": "execute_result"
    }
   ],
   "source": [
    "sr.sort_index().head()"
   ]
  },
  {
   "cell_type": "markdown",
   "id": "28756bec-d74e-4aff-8f9e-8dbf8288186b",
   "metadata": {},
   "source": [
    "###  运算"
   ]
  },
  {
   "cell_type": "code",
   "execution_count": 70,
   "id": "a42f3d59-777e-4140-ae2c-b8264f76589c",
   "metadata": {},
   "outputs": [
    {
     "data": {
      "text/plain": [
       "2018-02-27    103\n",
       "2018-02-26    225\n",
       "2018-02-23    103\n",
       "2018-02-22    103\n",
       "2018-02-14    103\n",
       "Name: open, dtype: int64"
      ]
     },
     "execution_count": 70,
     "metadata": {},
     "output_type": "execute_result"
    }
   ],
   "source": [
    "data[\"open\"].add(3).head()"
   ]
  },
  {
   "cell_type": "code",
   "execution_count": 71,
   "id": "fcbf3df6-8a1d-4684-ac13-68821ec0718a",
   "metadata": {},
   "outputs": [
    {
     "data": {
      "text/html": [
       "<div>\n",
       "<style scoped>\n",
       "    .dataframe tbody tr th:only-of-type {\n",
       "        vertical-align: middle;\n",
       "    }\n",
       "\n",
       "    .dataframe tbody tr th {\n",
       "        vertical-align: top;\n",
       "    }\n",
       "\n",
       "    .dataframe thead th {\n",
       "        text-align: right;\n",
       "    }\n",
       "</style>\n",
       "<table border=\"1\" class=\"dataframe\">\n",
       "  <thead>\n",
       "    <tr style=\"text-align: right;\">\n",
       "      <th></th>\n",
       "      <th>open</th>\n",
       "      <th>high</th>\n",
       "      <th>close</th>\n",
       "      <th>low</th>\n",
       "      <th>volume</th>\n",
       "      <th>price_change</th>\n",
       "      <th>p_change</th>\n",
       "      <th>turnover</th>\n",
       "    </tr>\n",
       "  </thead>\n",
       "  <tbody>\n",
       "    <tr>\n",
       "      <th>2018-02-27</th>\n",
       "      <td>0</td>\n",
       "      <td>-74.12</td>\n",
       "      <td>-75.84</td>\n",
       "      <td>-76.47</td>\n",
       "      <td>95478.03</td>\n",
       "      <td>-99.37</td>\n",
       "      <td>-97.32</td>\n",
       "      <td>-97.61</td>\n",
       "    </tr>\n",
       "    <tr>\n",
       "      <th>2018-02-26</th>\n",
       "      <td>122</td>\n",
       "      <td>-76.22</td>\n",
       "      <td>-76.47</td>\n",
       "      <td>-77.20</td>\n",
       "      <td>60885.11</td>\n",
       "      <td>-99.31</td>\n",
       "      <td>-96.98</td>\n",
       "      <td>-98.47</td>\n",
       "    </tr>\n",
       "    <tr>\n",
       "      <th>2018-02-23</th>\n",
       "      <td>0</td>\n",
       "      <td>-76.63</td>\n",
       "      <td>-77.18</td>\n",
       "      <td>-77.29</td>\n",
       "      <td>52814.01</td>\n",
       "      <td>-99.46</td>\n",
       "      <td>-97.58</td>\n",
       "      <td>-98.68</td>\n",
       "    </tr>\n",
       "    <tr>\n",
       "      <th>2018-02-22</th>\n",
       "      <td>0</td>\n",
       "      <td>-77.24</td>\n",
       "      <td>-77.72</td>\n",
       "      <td>-77.98</td>\n",
       "      <td>36005.01</td>\n",
       "      <td>-99.64</td>\n",
       "      <td>-98.36</td>\n",
       "      <td>-99.10</td>\n",
       "    </tr>\n",
       "    <tr>\n",
       "      <th>2018-02-14</th>\n",
       "      <td>0</td>\n",
       "      <td>-78.01</td>\n",
       "      <td>-78.08</td>\n",
       "      <td>-78.52</td>\n",
       "      <td>23231.04</td>\n",
       "      <td>-99.56</td>\n",
       "      <td>-97.95</td>\n",
       "      <td>-99.42</td>\n",
       "    </tr>\n",
       "  </tbody>\n",
       "</table>\n",
       "</div>"
      ],
      "text/plain": [
       "            open   high  close    low    volume  price_change  p_change  \\\n",
       "2018-02-27     0 -74.12 -75.84 -76.47  95478.03        -99.37    -97.32   \n",
       "2018-02-26   122 -76.22 -76.47 -77.20  60885.11        -99.31    -96.98   \n",
       "2018-02-23     0 -76.63 -77.18 -77.29  52814.01        -99.46    -97.58   \n",
       "2018-02-22     0 -77.24 -77.72 -77.98  36005.01        -99.64    -98.36   \n",
       "2018-02-14     0 -78.01 -78.08 -78.52  23231.04        -99.56    -97.95   \n",
       "\n",
       "            turnover  \n",
       "2018-02-27    -97.61  \n",
       "2018-02-26    -98.47  \n",
       "2018-02-23    -98.68  \n",
       "2018-02-22    -99.10  \n",
       "2018-02-14    -99.42  "
      ]
     },
     "execution_count": 71,
     "metadata": {},
     "output_type": "execute_result"
    }
   ],
   "source": [
    "data.sub(100).head()"
   ]
  },
  {
   "cell_type": "code",
   "execution_count": 72,
   "id": "88e41d0a-c5a8-4ab1-9df0-410364d5fd49",
   "metadata": {},
   "outputs": [
    {
     "data": {
      "text/plain": [
       "2018-02-27    -75.84\n",
       "2018-02-26   -198.47\n",
       "2018-02-23    -77.18\n",
       "2018-02-22    -77.72\n",
       "2018-02-14    -78.08\n",
       "dtype: float64"
      ]
     },
     "execution_count": 72,
     "metadata": {},
     "output_type": "execute_result"
    }
   ],
   "source": [
    "data[\"close\"].sub(data[\"open\"]).head()"
   ]
  },
  {
   "cell_type": "code",
   "execution_count": 74,
   "id": "dda15f62-5ff9-4593-a255-4c2f637ab9dd",
   "metadata": {},
   "outputs": [
    {
     "data": {
      "text/plain": [
       "2018-02-27     True\n",
       "2018-02-26     True\n",
       "2018-02-23     True\n",
       "2018-02-22    False\n",
       "2018-02-14     True\n",
       "              ...  \n",
       "2015-03-06     True\n",
       "2015-03-05     True\n",
       "2015-03-04    False\n",
       "2015-03-03    False\n",
       "2015-03-02     True\n",
       "Name: p_change, Length: 643, dtype: bool"
      ]
     },
     "execution_count": 74,
     "metadata": {},
     "output_type": "execute_result"
    }
   ],
   "source": [
    "data[\"p_change\"] > 2"
   ]
  },
  {
   "cell_type": "code",
   "execution_count": 77,
   "id": "ebf4727b-eef8-45c3-bbc2-3cfc555429e8",
   "metadata": {},
   "outputs": [
    {
     "data": {
      "text/html": [
       "<div>\n",
       "<style scoped>\n",
       "    .dataframe tbody tr th:only-of-type {\n",
       "        vertical-align: middle;\n",
       "    }\n",
       "\n",
       "    .dataframe tbody tr th {\n",
       "        vertical-align: top;\n",
       "    }\n",
       "\n",
       "    .dataframe thead th {\n",
       "        text-align: right;\n",
       "    }\n",
       "</style>\n",
       "<table border=\"1\" class=\"dataframe\">\n",
       "  <thead>\n",
       "    <tr style=\"text-align: right;\">\n",
       "      <th></th>\n",
       "      <th>open</th>\n",
       "      <th>high</th>\n",
       "      <th>close</th>\n",
       "      <th>low</th>\n",
       "      <th>volume</th>\n",
       "      <th>price_change</th>\n",
       "      <th>p_change</th>\n",
       "      <th>turnover</th>\n",
       "    </tr>\n",
       "  </thead>\n",
       "  <tbody>\n",
       "    <tr>\n",
       "      <th>2018-02-27</th>\n",
       "      <td>100</td>\n",
       "      <td>25.88</td>\n",
       "      <td>24.16</td>\n",
       "      <td>23.53</td>\n",
       "      <td>95578.03</td>\n",
       "      <td>0.63</td>\n",
       "      <td>2.68</td>\n",
       "      <td>2.39</td>\n",
       "    </tr>\n",
       "    <tr>\n",
       "      <th>2018-02-26</th>\n",
       "      <td>222</td>\n",
       "      <td>23.78</td>\n",
       "      <td>23.53</td>\n",
       "      <td>22.80</td>\n",
       "      <td>60985.11</td>\n",
       "      <td>0.69</td>\n",
       "      <td>3.02</td>\n",
       "      <td>1.53</td>\n",
       "    </tr>\n",
       "    <tr>\n",
       "      <th>2018-02-23</th>\n",
       "      <td>100</td>\n",
       "      <td>23.37</td>\n",
       "      <td>22.82</td>\n",
       "      <td>22.71</td>\n",
       "      <td>52914.01</td>\n",
       "      <td>0.54</td>\n",
       "      <td>2.42</td>\n",
       "      <td>1.32</td>\n",
       "    </tr>\n",
       "    <tr>\n",
       "      <th>2018-02-14</th>\n",
       "      <td>100</td>\n",
       "      <td>21.99</td>\n",
       "      <td>21.92</td>\n",
       "      <td>21.48</td>\n",
       "      <td>23331.04</td>\n",
       "      <td>0.44</td>\n",
       "      <td>2.05</td>\n",
       "      <td>0.58</td>\n",
       "    </tr>\n",
       "    <tr>\n",
       "      <th>2018-02-12</th>\n",
       "      <td>100</td>\n",
       "      <td>21.40</td>\n",
       "      <td>21.19</td>\n",
       "      <td>20.63</td>\n",
       "      <td>32445.39</td>\n",
       "      <td>0.82</td>\n",
       "      <td>4.03</td>\n",
       "      <td>0.81</td>\n",
       "    </tr>\n",
       "  </tbody>\n",
       "</table>\n",
       "</div>"
      ],
      "text/plain": [
       "            open   high  close    low    volume  price_change  p_change  \\\n",
       "2018-02-27   100  25.88  24.16  23.53  95578.03          0.63      2.68   \n",
       "2018-02-26   222  23.78  23.53  22.80  60985.11          0.69      3.02   \n",
       "2018-02-23   100  23.37  22.82  22.71  52914.01          0.54      2.42   \n",
       "2018-02-14   100  21.99  21.92  21.48  23331.04          0.44      2.05   \n",
       "2018-02-12   100  21.40  21.19  20.63  32445.39          0.82      4.03   \n",
       "\n",
       "            turnover  \n",
       "2018-02-27      2.39  \n",
       "2018-02-26      1.53  \n",
       "2018-02-23      1.32  \n",
       "2018-02-14      0.58  \n",
       "2018-02-12      0.81  "
      ]
     },
     "execution_count": 77,
     "metadata": {},
     "output_type": "execute_result"
    }
   ],
   "source": [
    "data[data[\"p_change\"] > 2].head()"
   ]
  },
  {
   "cell_type": "code",
   "execution_count": 78,
   "id": "ea81cdd4-fb80-4a7b-9299-82ce71bfe1ff",
   "metadata": {},
   "outputs": [
    {
     "data": {
      "text/html": [
       "<div>\n",
       "<style scoped>\n",
       "    .dataframe tbody tr th:only-of-type {\n",
       "        vertical-align: middle;\n",
       "    }\n",
       "\n",
       "    .dataframe tbody tr th {\n",
       "        vertical-align: top;\n",
       "    }\n",
       "\n",
       "    .dataframe thead th {\n",
       "        text-align: right;\n",
       "    }\n",
       "</style>\n",
       "<table border=\"1\" class=\"dataframe\">\n",
       "  <thead>\n",
       "    <tr style=\"text-align: right;\">\n",
       "      <th></th>\n",
       "      <th>open</th>\n",
       "      <th>high</th>\n",
       "      <th>close</th>\n",
       "      <th>low</th>\n",
       "      <th>volume</th>\n",
       "      <th>price_change</th>\n",
       "      <th>p_change</th>\n",
       "      <th>turnover</th>\n",
       "    </tr>\n",
       "  </thead>\n",
       "  <tbody>\n",
       "    <tr>\n",
       "      <th>2018-02-27</th>\n",
       "      <td>100</td>\n",
       "      <td>25.88</td>\n",
       "      <td>24.16</td>\n",
       "      <td>23.53</td>\n",
       "      <td>95578.03</td>\n",
       "      <td>0.63</td>\n",
       "      <td>2.68</td>\n",
       "      <td>2.39</td>\n",
       "    </tr>\n",
       "    <tr>\n",
       "      <th>2018-02-26</th>\n",
       "      <td>222</td>\n",
       "      <td>23.78</td>\n",
       "      <td>23.53</td>\n",
       "      <td>22.80</td>\n",
       "      <td>60985.11</td>\n",
       "      <td>0.69</td>\n",
       "      <td>3.02</td>\n",
       "      <td>1.53</td>\n",
       "    </tr>\n",
       "    <tr>\n",
       "      <th>2018-02-23</th>\n",
       "      <td>100</td>\n",
       "      <td>23.37</td>\n",
       "      <td>22.82</td>\n",
       "      <td>22.71</td>\n",
       "      <td>52914.01</td>\n",
       "      <td>0.54</td>\n",
       "      <td>2.42</td>\n",
       "      <td>1.32</td>\n",
       "    </tr>\n",
       "    <tr>\n",
       "      <th>2018-02-14</th>\n",
       "      <td>100</td>\n",
       "      <td>21.99</td>\n",
       "      <td>21.92</td>\n",
       "      <td>21.48</td>\n",
       "      <td>23331.04</td>\n",
       "      <td>0.44</td>\n",
       "      <td>2.05</td>\n",
       "      <td>0.58</td>\n",
       "    </tr>\n",
       "    <tr>\n",
       "      <th>2018-02-12</th>\n",
       "      <td>100</td>\n",
       "      <td>21.40</td>\n",
       "      <td>21.19</td>\n",
       "      <td>20.63</td>\n",
       "      <td>32445.39</td>\n",
       "      <td>0.82</td>\n",
       "      <td>4.03</td>\n",
       "      <td>0.81</td>\n",
       "    </tr>\n",
       "  </tbody>\n",
       "</table>\n",
       "</div>"
      ],
      "text/plain": [
       "            open   high  close    low    volume  price_change  p_change  \\\n",
       "2018-02-27   100  25.88  24.16  23.53  95578.03          0.63      2.68   \n",
       "2018-02-26   222  23.78  23.53  22.80  60985.11          0.69      3.02   \n",
       "2018-02-23   100  23.37  22.82  22.71  52914.01          0.54      2.42   \n",
       "2018-02-14   100  21.99  21.92  21.48  23331.04          0.44      2.05   \n",
       "2018-02-12   100  21.40  21.19  20.63  32445.39          0.82      4.03   \n",
       "\n",
       "            turnover  \n",
       "2018-02-27      2.39  \n",
       "2018-02-26      1.53  \n",
       "2018-02-23      1.32  \n",
       "2018-02-14      0.58  \n",
       "2018-02-12      0.81  "
      ]
     },
     "execution_count": 78,
     "metadata": {},
     "output_type": "execute_result"
    }
   ],
   "source": [
    "# 完成一个多个逻辑判断， 筛选p_change > 2并且low > 15\n",
    "data[(data[\"p_change\"] > 2) & (data[\"low\"] > 15)].head()"
   ]
  },
  {
   "cell_type": "code",
   "execution_count": 80,
   "id": "c17c366b-41aa-4842-a687-c7b47e02a3c4",
   "metadata": {},
   "outputs": [
    {
     "data": {
      "text/html": [
       "<div>\n",
       "<style scoped>\n",
       "    .dataframe tbody tr th:only-of-type {\n",
       "        vertical-align: middle;\n",
       "    }\n",
       "\n",
       "    .dataframe tbody tr th {\n",
       "        vertical-align: top;\n",
       "    }\n",
       "\n",
       "    .dataframe thead th {\n",
       "        text-align: right;\n",
       "    }\n",
       "</style>\n",
       "<table border=\"1\" class=\"dataframe\">\n",
       "  <thead>\n",
       "    <tr style=\"text-align: right;\">\n",
       "      <th></th>\n",
       "      <th>open</th>\n",
       "      <th>high</th>\n",
       "      <th>close</th>\n",
       "      <th>low</th>\n",
       "      <th>volume</th>\n",
       "      <th>price_change</th>\n",
       "      <th>p_change</th>\n",
       "      <th>turnover</th>\n",
       "    </tr>\n",
       "  </thead>\n",
       "  <tbody>\n",
       "    <tr>\n",
       "      <th>2018-02-27</th>\n",
       "      <td>100</td>\n",
       "      <td>25.88</td>\n",
       "      <td>24.16</td>\n",
       "      <td>23.53</td>\n",
       "      <td>95578.03</td>\n",
       "      <td>0.63</td>\n",
       "      <td>2.68</td>\n",
       "      <td>2.39</td>\n",
       "    </tr>\n",
       "    <tr>\n",
       "      <th>2018-02-26</th>\n",
       "      <td>222</td>\n",
       "      <td>23.78</td>\n",
       "      <td>23.53</td>\n",
       "      <td>22.80</td>\n",
       "      <td>60985.11</td>\n",
       "      <td>0.69</td>\n",
       "      <td>3.02</td>\n",
       "      <td>1.53</td>\n",
       "    </tr>\n",
       "    <tr>\n",
       "      <th>2018-02-23</th>\n",
       "      <td>100</td>\n",
       "      <td>23.37</td>\n",
       "      <td>22.82</td>\n",
       "      <td>22.71</td>\n",
       "      <td>52914.01</td>\n",
       "      <td>0.54</td>\n",
       "      <td>2.42</td>\n",
       "      <td>1.32</td>\n",
       "    </tr>\n",
       "    <tr>\n",
       "      <th>2018-02-14</th>\n",
       "      <td>100</td>\n",
       "      <td>21.99</td>\n",
       "      <td>21.92</td>\n",
       "      <td>21.48</td>\n",
       "      <td>23331.04</td>\n",
       "      <td>0.44</td>\n",
       "      <td>2.05</td>\n",
       "      <td>0.58</td>\n",
       "    </tr>\n",
       "    <tr>\n",
       "      <th>2018-02-12</th>\n",
       "      <td>100</td>\n",
       "      <td>21.40</td>\n",
       "      <td>21.19</td>\n",
       "      <td>20.63</td>\n",
       "      <td>32445.39</td>\n",
       "      <td>0.82</td>\n",
       "      <td>4.03</td>\n",
       "      <td>0.81</td>\n",
       "    </tr>\n",
       "  </tbody>\n",
       "</table>\n",
       "</div>"
      ],
      "text/plain": [
       "            open   high  close    low    volume  price_change  p_change  \\\n",
       "2018-02-27   100  25.88  24.16  23.53  95578.03          0.63      2.68   \n",
       "2018-02-26   222  23.78  23.53  22.80  60985.11          0.69      3.02   \n",
       "2018-02-23   100  23.37  22.82  22.71  52914.01          0.54      2.42   \n",
       "2018-02-14   100  21.99  21.92  21.48  23331.04          0.44      2.05   \n",
       "2018-02-12   100  21.40  21.19  20.63  32445.39          0.82      4.03   \n",
       "\n",
       "            turnover  \n",
       "2018-02-27      2.39  \n",
       "2018-02-26      1.53  \n",
       "2018-02-23      1.32  \n",
       "2018-02-14      0.58  \n",
       "2018-02-12      0.81  "
      ]
     },
     "execution_count": 80,
     "metadata": {},
     "output_type": "execute_result"
    }
   ],
   "source": [
    "data.query(\"p_change>2&low>15\").head()"
   ]
  },
  {
   "cell_type": "code",
   "execution_count": 81,
   "id": "b1960737-1a3f-469c-8e8b-cb6df42ef43f",
   "metadata": {},
   "outputs": [
    {
     "data": {
      "text/html": [
       "<div>\n",
       "<style scoped>\n",
       "    .dataframe tbody tr th:only-of-type {\n",
       "        vertical-align: middle;\n",
       "    }\n",
       "\n",
       "    .dataframe tbody tr th {\n",
       "        vertical-align: top;\n",
       "    }\n",
       "\n",
       "    .dataframe thead th {\n",
       "        text-align: right;\n",
       "    }\n",
       "</style>\n",
       "<table border=\"1\" class=\"dataframe\">\n",
       "  <thead>\n",
       "    <tr style=\"text-align: right;\">\n",
       "      <th></th>\n",
       "      <th>open</th>\n",
       "      <th>high</th>\n",
       "      <th>close</th>\n",
       "      <th>low</th>\n",
       "      <th>volume</th>\n",
       "      <th>price_change</th>\n",
       "      <th>p_change</th>\n",
       "      <th>turnover</th>\n",
       "    </tr>\n",
       "  </thead>\n",
       "  <tbody>\n",
       "    <tr>\n",
       "      <th>2018-02-27</th>\n",
       "      <td>100</td>\n",
       "      <td>25.88</td>\n",
       "      <td>24.16</td>\n",
       "      <td>23.53</td>\n",
       "      <td>95578.03</td>\n",
       "      <td>0.63</td>\n",
       "      <td>2.68</td>\n",
       "      <td>2.39</td>\n",
       "    </tr>\n",
       "    <tr>\n",
       "      <th>2017-07-25</th>\n",
       "      <td>100</td>\n",
       "      <td>24.20</td>\n",
       "      <td>23.70</td>\n",
       "      <td>22.64</td>\n",
       "      <td>167489.48</td>\n",
       "      <td>0.67</td>\n",
       "      <td>2.91</td>\n",
       "      <td>4.19</td>\n",
       "    </tr>\n",
       "    <tr>\n",
       "      <th>2016-09-28</th>\n",
       "      <td>100</td>\n",
       "      <td>20.98</td>\n",
       "      <td>20.86</td>\n",
       "      <td>19.71</td>\n",
       "      <td>95580.75</td>\n",
       "      <td>0.98</td>\n",
       "      <td>4.93</td>\n",
       "      <td>2.39</td>\n",
       "    </tr>\n",
       "    <tr>\n",
       "      <th>2015-04-07</th>\n",
       "      <td>100</td>\n",
       "      <td>17.98</td>\n",
       "      <td>17.54</td>\n",
       "      <td>16.50</td>\n",
       "      <td>122471.85</td>\n",
       "      <td>0.88</td>\n",
       "      <td>5.28</td>\n",
       "      <td>4.19</td>\n",
       "    </tr>\n",
       "  </tbody>\n",
       "</table>\n",
       "</div>"
      ],
      "text/plain": [
       "            open   high  close    low     volume  price_change  p_change  \\\n",
       "2018-02-27   100  25.88  24.16  23.53   95578.03          0.63      2.68   \n",
       "2017-07-25   100  24.20  23.70  22.64  167489.48          0.67      2.91   \n",
       "2016-09-28   100  20.98  20.86  19.71   95580.75          0.98      4.93   \n",
       "2015-04-07   100  17.98  17.54  16.50  122471.85          0.88      5.28   \n",
       "\n",
       "            turnover  \n",
       "2018-02-27      2.39  \n",
       "2017-07-25      4.19  \n",
       "2016-09-28      2.39  \n",
       "2015-04-07      4.19  "
      ]
     },
     "execution_count": 81,
     "metadata": {},
     "output_type": "execute_result"
    }
   ],
   "source": [
    "# 判断'turnover'是否为4.19, 2.39\n",
    "data[data[\"turnover\"].isin([4.19, 2.39])]"
   ]
  },
  {
   "cell_type": "code",
   "execution_count": 82,
   "id": "31913b40-0945-41d5-a44e-622a0d8ac762",
   "metadata": {},
   "outputs": [
    {
     "data": {
      "text/html": [
       "<div>\n",
       "<style scoped>\n",
       "    .dataframe tbody tr th:only-of-type {\n",
       "        vertical-align: middle;\n",
       "    }\n",
       "\n",
       "    .dataframe tbody tr th {\n",
       "        vertical-align: top;\n",
       "    }\n",
       "\n",
       "    .dataframe thead th {\n",
       "        text-align: right;\n",
       "    }\n",
       "</style>\n",
       "<table border=\"1\" class=\"dataframe\">\n",
       "  <thead>\n",
       "    <tr style=\"text-align: right;\">\n",
       "      <th></th>\n",
       "      <th>open</th>\n",
       "      <th>high</th>\n",
       "      <th>close</th>\n",
       "      <th>low</th>\n",
       "      <th>volume</th>\n",
       "      <th>price_change</th>\n",
       "      <th>p_change</th>\n",
       "      <th>turnover</th>\n",
       "    </tr>\n",
       "  </thead>\n",
       "  <tbody>\n",
       "    <tr>\n",
       "      <th>count</th>\n",
       "      <td>643.000000</td>\n",
       "      <td>643.000000</td>\n",
       "      <td>643.000000</td>\n",
       "      <td>643.000000</td>\n",
       "      <td>643.000000</td>\n",
       "      <td>643.000000</td>\n",
       "      <td>643.000000</td>\n",
       "      <td>643.000000</td>\n",
       "    </tr>\n",
       "    <tr>\n",
       "      <th>mean</th>\n",
       "      <td>100.189736</td>\n",
       "      <td>21.900513</td>\n",
       "      <td>21.336267</td>\n",
       "      <td>20.771835</td>\n",
       "      <td>99905.519114</td>\n",
       "      <td>0.018802</td>\n",
       "      <td>0.190280</td>\n",
       "      <td>2.936190</td>\n",
       "    </tr>\n",
       "    <tr>\n",
       "      <th>std</th>\n",
       "      <td>4.811210</td>\n",
       "      <td>4.077578</td>\n",
       "      <td>3.942806</td>\n",
       "      <td>3.791968</td>\n",
       "      <td>73879.119354</td>\n",
       "      <td>0.898476</td>\n",
       "      <td>4.079698</td>\n",
       "      <td>2.079375</td>\n",
       "    </tr>\n",
       "    <tr>\n",
       "      <th>min</th>\n",
       "      <td>100.000000</td>\n",
       "      <td>12.670000</td>\n",
       "      <td>12.360000</td>\n",
       "      <td>12.200000</td>\n",
       "      <td>1158.120000</td>\n",
       "      <td>-3.520000</td>\n",
       "      <td>-10.030000</td>\n",
       "      <td>0.040000</td>\n",
       "    </tr>\n",
       "    <tr>\n",
       "      <th>25%</th>\n",
       "      <td>100.000000</td>\n",
       "      <td>19.500000</td>\n",
       "      <td>19.045000</td>\n",
       "      <td>18.525000</td>\n",
       "      <td>48533.210000</td>\n",
       "      <td>-0.390000</td>\n",
       "      <td>-1.850000</td>\n",
       "      <td>1.360000</td>\n",
       "    </tr>\n",
       "    <tr>\n",
       "      <th>50%</th>\n",
       "      <td>100.000000</td>\n",
       "      <td>21.970000</td>\n",
       "      <td>21.450000</td>\n",
       "      <td>20.980000</td>\n",
       "      <td>83175.930000</td>\n",
       "      <td>0.050000</td>\n",
       "      <td>0.260000</td>\n",
       "      <td>2.500000</td>\n",
       "    </tr>\n",
       "    <tr>\n",
       "      <th>75%</th>\n",
       "      <td>100.000000</td>\n",
       "      <td>24.065000</td>\n",
       "      <td>23.415000</td>\n",
       "      <td>22.850000</td>\n",
       "      <td>127580.055000</td>\n",
       "      <td>0.455000</td>\n",
       "      <td>2.305000</td>\n",
       "      <td>3.915000</td>\n",
       "    </tr>\n",
       "    <tr>\n",
       "      <th>max</th>\n",
       "      <td>222.000000</td>\n",
       "      <td>36.350000</td>\n",
       "      <td>35.210000</td>\n",
       "      <td>34.010000</td>\n",
       "      <td>501915.410000</td>\n",
       "      <td>3.030000</td>\n",
       "      <td>10.030000</td>\n",
       "      <td>12.560000</td>\n",
       "    </tr>\n",
       "  </tbody>\n",
       "</table>\n",
       "</div>"
      ],
      "text/plain": [
       "             open        high       close         low         volume  \\\n",
       "count  643.000000  643.000000  643.000000  643.000000     643.000000   \n",
       "mean   100.189736   21.900513   21.336267   20.771835   99905.519114   \n",
       "std      4.811210    4.077578    3.942806    3.791968   73879.119354   \n",
       "min    100.000000   12.670000   12.360000   12.200000    1158.120000   \n",
       "25%    100.000000   19.500000   19.045000   18.525000   48533.210000   \n",
       "50%    100.000000   21.970000   21.450000   20.980000   83175.930000   \n",
       "75%    100.000000   24.065000   23.415000   22.850000  127580.055000   \n",
       "max    222.000000   36.350000   35.210000   34.010000  501915.410000   \n",
       "\n",
       "       price_change    p_change    turnover  \n",
       "count    643.000000  643.000000  643.000000  \n",
       "mean       0.018802    0.190280    2.936190  \n",
       "std        0.898476    4.079698    2.079375  \n",
       "min       -3.520000  -10.030000    0.040000  \n",
       "25%       -0.390000   -1.850000    1.360000  \n",
       "50%        0.050000    0.260000    2.500000  \n",
       "75%        0.455000    2.305000    3.915000  \n",
       "max        3.030000   10.030000   12.560000  "
      ]
     },
     "execution_count": 82,
     "metadata": {},
     "output_type": "execute_result"
    }
   ],
   "source": [
    "data.describe()"
   ]
  },
  {
   "cell_type": "code",
   "execution_count": 83,
   "id": "16f6c0e1-6312-4ff0-bd9c-0ca679cac62b",
   "metadata": {},
   "outputs": [
    {
     "data": {
      "text/plain": [
       "open            2018-02-26\n",
       "high            2015-06-10\n",
       "close           2015-06-12\n",
       "low             2015-06-12\n",
       "volume          2017-10-26\n",
       "price_change    2015-06-09\n",
       "p_change        2015-08-28\n",
       "turnover        2017-10-26\n",
       "dtype: object"
      ]
     },
     "execution_count": 83,
     "metadata": {},
     "output_type": "execute_result"
    }
   ],
   "source": [
    "data.idxmax()"
   ]
  },
  {
   "cell_type": "code",
   "execution_count": 86,
   "id": "5e21ff4f-795c-45a8-a2a8-529d68340b6c",
   "metadata": {},
   "outputs": [
    {
     "data": {
      "text/plain": [
       "<Axes: >"
      ]
     },
     "execution_count": 86,
     "metadata": {},
     "output_type": "execute_result"
    },
    {
     "data": {
      "image/png": "[encoded data removed]",
      "text/plain": [
       "<Figure size 640x480 with 1 Axes>"
      ]
     },
     "metadata": {},
     "output_type": "display_data"
    }
   ],
   "source": [
    "data[\"p_change\"].sort_index().cumsum().plot()"
   ]
  },
  {
   "cell_type": "code",
   "execution_count": 88,
   "id": "50e1b867-dcf6-4823-b3f0-a5f08e7b3744",
   "metadata": {},
   "outputs": [
    {
     "data": {
      "text/plain": [
       "open               122.00\n",
       "high                23.68\n",
       "close               22.85\n",
       "low                 21.81\n",
       "volume          500757.29\n",
       "price_change         6.55\n",
       "p_change            20.06\n",
       "turnover            12.52\n",
       "dtype: float64"
      ]
     },
     "execution_count": 88,
     "metadata": {},
     "output_type": "execute_result"
    }
   ],
   "source": [
    "data.apply(lambda x: x.max() - x.min())"
   ]
  },
  {
   "cell_type": "code",
   "execution_count": 89,
   "id": "32ea65be-7c37-41bc-8f14-37d74b591600",
   "metadata": {},
   "outputs": [
    {
     "data": {
      "text/plain": [
       "<Axes: xlabel='volume', ylabel='turnover'>"
      ]
     },
     "execution_count": 89,
     "metadata": {},
     "output_type": "execute_result"
    },
    {
     "data": {
      "image/png": "[encoded data removed]",
      "text/plain": [
       "<Figure size 640x480 with 1 Axes>"
      ]
     },
     "metadata": {},
     "output_type": "display_data"
    }
   ],
   "source": [
    "data.plot(x=\"volume\",y=\"turnover\",kind=\"scatter\")"
   ]
  },
  {
   "cell_type": "code",
   "execution_count": 90,
   "id": "b035b3a2-2f17-43f3-8d21-d48ad7058f85",
   "metadata": {},
   "outputs": [
    {
     "data": {
      "text/html": [
       "<div>\n",
       "<style scoped>\n",
       "    .dataframe tbody tr th:only-of-type {\n",
       "        vertical-align: middle;\n",
       "    }\n",
       "\n",
       "    .dataframe tbody tr th {\n",
       "        vertical-align: top;\n",
       "    }\n",
       "\n",
       "    .dataframe thead th {\n",
       "        text-align: right;\n",
       "    }\n",
       "</style>\n",
       "<table border=\"1\" class=\"dataframe\">\n",
       "  <thead>\n",
       "    <tr style=\"text-align: right;\">\n",
       "      <th></th>\n",
       "      <th>open</th>\n",
       "      <th>high</th>\n",
       "      <th>close</th>\n",
       "      <th>low</th>\n",
       "    </tr>\n",
       "  </thead>\n",
       "  <tbody>\n",
       "    <tr>\n",
       "      <th>2018-02-27</th>\n",
       "      <td>23.53</td>\n",
       "      <td>25.88</td>\n",
       "      <td>24.16</td>\n",
       "      <td>23.53</td>\n",
       "    </tr>\n",
       "    <tr>\n",
       "      <th>2018-02-26</th>\n",
       "      <td>22.80</td>\n",
       "      <td>23.78</td>\n",
       "      <td>23.53</td>\n",
       "      <td>22.80</td>\n",
       "    </tr>\n",
       "    <tr>\n",
       "      <th>2018-02-23</th>\n",
       "      <td>22.88</td>\n",
       "      <td>23.37</td>\n",
       "      <td>22.82</td>\n",
       "      <td>22.71</td>\n",
       "    </tr>\n",
       "    <tr>\n",
       "      <th>2018-02-22</th>\n",
       "      <td>22.25</td>\n",
       "      <td>22.76</td>\n",
       "      <td>22.28</td>\n",
       "      <td>22.02</td>\n",
       "    </tr>\n",
       "    <tr>\n",
       "      <th>2018-02-14</th>\n",
       "      <td>21.49</td>\n",
       "      <td>21.99</td>\n",
       "      <td>21.92</td>\n",
       "      <td>21.48</td>\n",
       "    </tr>\n",
       "  </tbody>\n",
       "</table>\n",
       "</div>"
      ],
      "text/plain": [
       "             open   high  close    low\n",
       "2018-02-27  23.53  25.88  24.16  23.53\n",
       "2018-02-26  22.80  23.78  23.53  22.80\n",
       "2018-02-23  22.88  23.37  22.82  22.71\n",
       "2018-02-22  22.25  22.76  22.28  22.02\n",
       "2018-02-14  21.49  21.99  21.92  21.48"
      ]
     },
     "execution_count": 90,
     "metadata": {},
     "output_type": "execute_result"
    }
   ],
   "source": [
    "pd.read_csv(\"./stock_day/stock_day.csv\", usecols=[\"high\", \"low\", \"open\", \"close\"]).head()"
   ]
  },
  {
   "cell_type": "code",
   "execution_count": 92,
   "id": "ce916a88-40d0-4ebf-8c77-bf1efa327cd3",
   "metadata": {},
   "outputs": [],
   "source": [
    "data = pd.read_csv(\"./stock_day/stock_day2.csv\", names=[\"open\", \"high\", \"close\", \"low\", \"volume\", \"price_change\", \"p_change\", \"ma5\", \"ma10\", \"ma20\", \"v_ma5\", \"v_ma10\", \"v_ma20\", \"turnover\"])"
   ]
  },
  {
   "cell_type": "code",
   "execution_count": 93,
   "id": "7011bdff-e6c4-4812-aa2f-34b6da906575",
   "metadata": {},
   "outputs": [
    {
     "data": {
      "text/html": [
       "<div>\n",
       "<style scoped>\n",
       "    .dataframe tbody tr th:only-of-type {\n",
       "        vertical-align: middle;\n",
       "    }\n",
       "\n",
       "    .dataframe tbody tr th {\n",
       "        vertical-align: top;\n",
       "    }\n",
       "\n",
       "    .dataframe thead th {\n",
       "        text-align: right;\n",
       "    }\n",
       "</style>\n",
       "<table border=\"1\" class=\"dataframe\">\n",
       "  <thead>\n",
       "    <tr style=\"text-align: right;\">\n",
       "      <th></th>\n",
       "      <th>open</th>\n",
       "      <th>high</th>\n",
       "      <th>close</th>\n",
       "      <th>low</th>\n",
       "      <th>volume</th>\n",
       "      <th>price_change</th>\n",
       "      <th>p_change</th>\n",
       "      <th>ma5</th>\n",
       "      <th>ma10</th>\n",
       "      <th>ma20</th>\n",
       "      <th>v_ma5</th>\n",
       "      <th>v_ma10</th>\n",
       "      <th>v_ma20</th>\n",
       "      <th>turnover</th>\n",
       "    </tr>\n",
       "  </thead>\n",
       "  <tbody>\n",
       "    <tr>\n",
       "      <th>2018-02-27</th>\n",
       "      <td>23.53</td>\n",
       "      <td>25.88</td>\n",
       "      <td>24.16</td>\n",
       "      <td>23.53</td>\n",
       "      <td>95578.03</td>\n",
       "      <td>0.63</td>\n",
       "      <td>2.68</td>\n",
       "      <td>22.942</td>\n",
       "      <td>22.142</td>\n",
       "      <td>22.875</td>\n",
       "      <td>53782.64</td>\n",
       "      <td>46738.65</td>\n",
       "      <td>55576.11</td>\n",
       "      <td>2.39</td>\n",
       "    </tr>\n",
       "    <tr>\n",
       "      <th>2018-02-26</th>\n",
       "      <td>22.80</td>\n",
       "      <td>23.78</td>\n",
       "      <td>23.53</td>\n",
       "      <td>22.80</td>\n",
       "      <td>60985.11</td>\n",
       "      <td>0.69</td>\n",
       "      <td>3.02</td>\n",
       "      <td>22.406</td>\n",
       "      <td>21.955</td>\n",
       "      <td>22.942</td>\n",
       "      <td>40827.52</td>\n",
       "      <td>42736.34</td>\n",
       "      <td>56007.50</td>\n",
       "      <td>1.53</td>\n",
       "    </tr>\n",
       "    <tr>\n",
       "      <th>2018-02-23</th>\n",
       "      <td>22.88</td>\n",
       "      <td>23.37</td>\n",
       "      <td>22.82</td>\n",
       "      <td>22.71</td>\n",
       "      <td>52914.01</td>\n",
       "      <td>0.54</td>\n",
       "      <td>2.42</td>\n",
       "      <td>21.938</td>\n",
       "      <td>21.929</td>\n",
       "      <td>23.022</td>\n",
       "      <td>35119.58</td>\n",
       "      <td>41871.97</td>\n",
       "      <td>56372.85</td>\n",
       "      <td>1.32</td>\n",
       "    </tr>\n",
       "    <tr>\n",
       "      <th>2018-02-22</th>\n",
       "      <td>22.25</td>\n",
       "      <td>22.76</td>\n",
       "      <td>22.28</td>\n",
       "      <td>22.02</td>\n",
       "      <td>36105.01</td>\n",
       "      <td>0.36</td>\n",
       "      <td>1.64</td>\n",
       "      <td>21.446</td>\n",
       "      <td>21.909</td>\n",
       "      <td>23.137</td>\n",
       "      <td>35397.58</td>\n",
       "      <td>39904.78</td>\n",
       "      <td>60149.60</td>\n",
       "      <td>0.90</td>\n",
       "    </tr>\n",
       "    <tr>\n",
       "      <th>2018-02-14</th>\n",
       "      <td>21.49</td>\n",
       "      <td>21.99</td>\n",
       "      <td>21.92</td>\n",
       "      <td>21.48</td>\n",
       "      <td>23331.04</td>\n",
       "      <td>0.44</td>\n",
       "      <td>2.05</td>\n",
       "      <td>21.366</td>\n",
       "      <td>21.923</td>\n",
       "      <td>23.253</td>\n",
       "      <td>33590.21</td>\n",
       "      <td>42935.74</td>\n",
       "      <td>61716.11</td>\n",
       "      <td>0.58</td>\n",
       "    </tr>\n",
       "    <tr>\n",
       "      <th>...</th>\n",
       "      <td>...</td>\n",
       "      <td>...</td>\n",
       "      <td>...</td>\n",
       "      <td>...</td>\n",
       "      <td>...</td>\n",
       "      <td>...</td>\n",
       "      <td>...</td>\n",
       "      <td>...</td>\n",
       "      <td>...</td>\n",
       "      <td>...</td>\n",
       "      <td>...</td>\n",
       "      <td>...</td>\n",
       "      <td>...</td>\n",
       "      <td>...</td>\n",
       "    </tr>\n",
       "    <tr>\n",
       "      <th>2015-03-06</th>\n",
       "      <td>13.17</td>\n",
       "      <td>14.48</td>\n",
       "      <td>14.28</td>\n",
       "      <td>13.13</td>\n",
       "      <td>179831.72</td>\n",
       "      <td>1.12</td>\n",
       "      <td>8.51</td>\n",
       "      <td>13.112</td>\n",
       "      <td>13.112</td>\n",
       "      <td>13.112</td>\n",
       "      <td>115090.18</td>\n",
       "      <td>115090.18</td>\n",
       "      <td>115090.18</td>\n",
       "      <td>6.16</td>\n",
       "    </tr>\n",
       "    <tr>\n",
       "      <th>2015-03-05</th>\n",
       "      <td>12.88</td>\n",
       "      <td>13.45</td>\n",
       "      <td>13.16</td>\n",
       "      <td>12.87</td>\n",
       "      <td>93180.39</td>\n",
       "      <td>0.26</td>\n",
       "      <td>2.02</td>\n",
       "      <td>12.820</td>\n",
       "      <td>12.820</td>\n",
       "      <td>12.820</td>\n",
       "      <td>98904.79</td>\n",
       "      <td>98904.79</td>\n",
       "      <td>98904.79</td>\n",
       "      <td>3.19</td>\n",
       "    </tr>\n",
       "    <tr>\n",
       "      <th>2015-03-04</th>\n",
       "      <td>12.80</td>\n",
       "      <td>12.92</td>\n",
       "      <td>12.90</td>\n",
       "      <td>12.61</td>\n",
       "      <td>67075.44</td>\n",
       "      <td>0.20</td>\n",
       "      <td>1.57</td>\n",
       "      <td>12.707</td>\n",
       "      <td>12.707</td>\n",
       "      <td>12.707</td>\n",
       "      <td>100812.93</td>\n",
       "      <td>100812.93</td>\n",
       "      <td>100812.93</td>\n",
       "      <td>2.30</td>\n",
       "    </tr>\n",
       "    <tr>\n",
       "      <th>2015-03-03</th>\n",
       "      <td>12.52</td>\n",
       "      <td>13.06</td>\n",
       "      <td>12.70</td>\n",
       "      <td>12.52</td>\n",
       "      <td>139071.61</td>\n",
       "      <td>0.18</td>\n",
       "      <td>1.44</td>\n",
       "      <td>12.610</td>\n",
       "      <td>12.610</td>\n",
       "      <td>12.610</td>\n",
       "      <td>117681.67</td>\n",
       "      <td>117681.67</td>\n",
       "      <td>117681.67</td>\n",
       "      <td>4.76</td>\n",
       "    </tr>\n",
       "    <tr>\n",
       "      <th>2015-03-02</th>\n",
       "      <td>12.25</td>\n",
       "      <td>12.67</td>\n",
       "      <td>12.52</td>\n",
       "      <td>12.20</td>\n",
       "      <td>96291.73</td>\n",
       "      <td>0.32</td>\n",
       "      <td>2.62</td>\n",
       "      <td>12.520</td>\n",
       "      <td>12.520</td>\n",
       "      <td>12.520</td>\n",
       "      <td>96291.73</td>\n",
       "      <td>96291.73</td>\n",
       "      <td>96291.73</td>\n",
       "      <td>3.30</td>\n",
       "    </tr>\n",
       "  </tbody>\n",
       "</table>\n",
       "<p>643 rows × 14 columns</p>\n",
       "</div>"
      ],
      "text/plain": [
       "             open   high  close    low     volume  price_change  p_change  \\\n",
       "2018-02-27  23.53  25.88  24.16  23.53   95578.03          0.63      2.68   \n",
       "2018-02-26  22.80  23.78  23.53  22.80   60985.11          0.69      3.02   \n",
       "2018-02-23  22.88  23.37  22.82  22.71   52914.01          0.54      2.42   \n",
       "2018-02-22  22.25  22.76  22.28  22.02   36105.01          0.36      1.64   \n",
       "2018-02-14  21.49  21.99  21.92  21.48   23331.04          0.44      2.05   \n",
       "...           ...    ...    ...    ...        ...           ...       ...   \n",
       "2015-03-06  13.17  14.48  14.28  13.13  179831.72          1.12      8.51   \n",
       "2015-03-05  12.88  13.45  13.16  12.87   93180.39          0.26      2.02   \n",
       "2015-03-04  12.80  12.92  12.90  12.61   67075.44          0.20      1.57   \n",
       "2015-03-03  12.52  13.06  12.70  12.52  139071.61          0.18      1.44   \n",
       "2015-03-02  12.25  12.67  12.52  12.20   96291.73          0.32      2.62   \n",
       "\n",
       "               ma5    ma10    ma20      v_ma5     v_ma10     v_ma20  turnover  \n",
       "2018-02-27  22.942  22.142  22.875   53782.64   46738.65   55576.11      2.39  \n",
       "2018-02-26  22.406  21.955  22.942   40827.52   42736.34   56007.50      1.53  \n",
       "2018-02-23  21.938  21.929  23.022   35119.58   41871.97   56372.85      1.32  \n",
       "2018-02-22  21.446  21.909  23.137   35397.58   39904.78   60149.60      0.90  \n",
       "2018-02-14  21.366  21.923  23.253   33590.21   42935.74   61716.11      0.58  \n",
       "...            ...     ...     ...        ...        ...        ...       ...  \n",
       "2015-03-06  13.112  13.112  13.112  115090.18  115090.18  115090.18      6.16  \n",
       "2015-03-05  12.820  12.820  12.820   98904.79   98904.79   98904.79      3.19  \n",
       "2015-03-04  12.707  12.707  12.707  100812.93  100812.93  100812.93      2.30  \n",
       "2015-03-03  12.610  12.610  12.610  117681.67  117681.67  117681.67      4.76  \n",
       "2015-03-02  12.520  12.520  12.520   96291.73   96291.73   96291.73      3.30  \n",
       "\n",
       "[643 rows x 14 columns]"
      ]
     },
     "execution_count": 93,
     "metadata": {},
     "output_type": "execute_result"
    }
   ],
   "source": [
    "data"
   ]
  },
  {
   "cell_type": "code",
   "execution_count": 94,
   "id": "3ccacaed-ce18-4732-ab2b-306b921ba23e",
   "metadata": {},
   "outputs": [],
   "source": [
    "# 保存'open'列的数据\n",
    "data[:10].to_csv(\"test.csv\", columns=[\"open\"])"
   ]
  },
  {
   "cell_type": "code",
   "execution_count": 95,
   "id": "f6f8acd9-833d-46b0-bc83-413fe7eb3ba5",
   "metadata": {},
   "outputs": [
    {
     "data": {
      "text/html": [
       "<div>\n",
       "<style scoped>\n",
       "    .dataframe tbody tr th:only-of-type {\n",
       "        vertical-align: middle;\n",
       "    }\n",
       "\n",
       "    .dataframe tbody tr th {\n",
       "        vertical-align: top;\n",
       "    }\n",
       "\n",
       "    .dataframe thead th {\n",
       "        text-align: right;\n",
       "    }\n",
       "</style>\n",
       "<table border=\"1\" class=\"dataframe\">\n",
       "  <thead>\n",
       "    <tr style=\"text-align: right;\">\n",
       "      <th></th>\n",
       "      <th>Unnamed: 0</th>\n",
       "      <th>open</th>\n",
       "    </tr>\n",
       "  </thead>\n",
       "  <tbody>\n",
       "    <tr>\n",
       "      <th>0</th>\n",
       "      <td>2018-02-27</td>\n",
       "      <td>23.53</td>\n",
       "    </tr>\n",
       "    <tr>\n",
       "      <th>1</th>\n",
       "      <td>2018-02-26</td>\n",
       "      <td>22.80</td>\n",
       "    </tr>\n",
       "    <tr>\n",
       "      <th>2</th>\n",
       "      <td>2018-02-23</td>\n",
       "      <td>22.88</td>\n",
       "    </tr>\n",
       "    <tr>\n",
       "      <th>3</th>\n",
       "      <td>2018-02-22</td>\n",
       "      <td>22.25</td>\n",
       "    </tr>\n",
       "    <tr>\n",
       "      <th>4</th>\n",
       "      <td>2018-02-14</td>\n",
       "      <td>21.49</td>\n",
       "    </tr>\n",
       "    <tr>\n",
       "      <th>5</th>\n",
       "      <td>2018-02-13</td>\n",
       "      <td>21.40</td>\n",
       "    </tr>\n",
       "    <tr>\n",
       "      <th>6</th>\n",
       "      <td>2018-02-12</td>\n",
       "      <td>20.70</td>\n",
       "    </tr>\n",
       "    <tr>\n",
       "      <th>7</th>\n",
       "      <td>2018-02-09</td>\n",
       "      <td>21.20</td>\n",
       "    </tr>\n",
       "    <tr>\n",
       "      <th>8</th>\n",
       "      <td>2018-02-08</td>\n",
       "      <td>21.79</td>\n",
       "    </tr>\n",
       "    <tr>\n",
       "      <th>9</th>\n",
       "      <td>2018-02-07</td>\n",
       "      <td>22.69</td>\n",
       "    </tr>\n",
       "  </tbody>\n",
       "</table>\n",
       "</div>"
      ],
      "text/plain": [
       "   Unnamed: 0   open\n",
       "0  2018-02-27  23.53\n",
       "1  2018-02-26  22.80\n",
       "2  2018-02-23  22.88\n",
       "3  2018-02-22  22.25\n",
       "4  2018-02-14  21.49\n",
       "5  2018-02-13  21.40\n",
       "6  2018-02-12  20.70\n",
       "7  2018-02-09  21.20\n",
       "8  2018-02-08  21.79\n",
       "9  2018-02-07  22.69"
      ]
     },
     "execution_count": 95,
     "metadata": {},
     "output_type": "execute_result"
    }
   ],
   "source": [
    "pd.read_csv(\"test.csv\")"
   ]
  },
  {
   "cell_type": "code",
   "execution_count": 96,
   "id": "47656baf-7274-48fa-92bc-43ea7f7d5e79",
   "metadata": {},
   "outputs": [],
   "source": [
    "data[:10].to_csv(\"test.csv\", columns=[\"open\"], index=False, mode=\"a\", header=False)"
   ]
  },
  {
   "cell_type": "code",
   "execution_count": 98,
   "id": "87a84be3-110a-4075-b650-4486b7b14660",
   "metadata": {},
   "outputs": [
    {
     "ename": "ImportError",
     "evalue": "Missing optional dependency 'pytables'.  Use pip or conda to install pytables.",
     "output_type": "error",
     "traceback": [
      "\u001b[0;31m---------------------------------------------------------------------------\u001b[0m",
      "\u001b[0;31mModuleNotFoundError\u001b[0m                       Traceback (most recent call last)",
      "File \u001b[0;32m~/PycharmProjects/machine_learning/.venv/lib/python3.10/site-packages/pandas/compat/_optional.py:135\u001b[0m, in \u001b[0;36mimport_optional_dependency\u001b[0;34m(name, extra, errors, min_version)\u001b[0m\n\u001b[1;32m    134\u001b[0m \u001b[38;5;28;01mtry\u001b[39;00m:\n\u001b[0;32m--> 135\u001b[0m     module \u001b[38;5;241m=\u001b[39m \u001b[43mimportlib\u001b[49m\u001b[38;5;241;43m.\u001b[39;49m\u001b[43mimport_module\u001b[49m\u001b[43m(\u001b[49m\u001b[43mname\u001b[49m\u001b[43m)\u001b[49m\n\u001b[1;32m    136\u001b[0m \u001b[38;5;28;01mexcept\u001b[39;00m \u001b[38;5;167;01mImportError\u001b[39;00m:\n",
      "File \u001b[0;32m/usr/lib/python3.10/importlib/__init__.py:126\u001b[0m, in \u001b[0;36mimport_module\u001b[0;34m(name, package)\u001b[0m\n\u001b[1;32m    125\u001b[0m         level \u001b[38;5;241m+\u001b[39m\u001b[38;5;241m=\u001b[39m \u001b[38;5;241m1\u001b[39m\n\u001b[0;32m--> 126\u001b[0m \u001b[38;5;28;01mreturn\u001b[39;00m \u001b[43m_bootstrap\u001b[49m\u001b[38;5;241;43m.\u001b[39;49m\u001b[43m_gcd_import\u001b[49m\u001b[43m(\u001b[49m\u001b[43mname\u001b[49m\u001b[43m[\u001b[49m\u001b[43mlevel\u001b[49m\u001b[43m:\u001b[49m\u001b[43m]\u001b[49m\u001b[43m,\u001b[49m\u001b[43m \u001b[49m\u001b[43mpackage\u001b[49m\u001b[43m,\u001b[49m\u001b[43m \u001b[49m\u001b[43mlevel\u001b[49m\u001b[43m)\u001b[49m\n",
      "File \u001b[0;32m<frozen importlib._bootstrap>:1050\u001b[0m, in \u001b[0;36m_gcd_import\u001b[0;34m(name, package, level)\u001b[0m\n",
      "File \u001b[0;32m<frozen importlib._bootstrap>:1027\u001b[0m, in \u001b[0;36m_find_and_load\u001b[0;34m(name, import_)\u001b[0m\n",
      "File \u001b[0;32m<frozen importlib._bootstrap>:1004\u001b[0m, in \u001b[0;36m_find_and_load_unlocked\u001b[0;34m(name, import_)\u001b[0m\n",
      "\u001b[0;31mModuleNotFoundError\u001b[0m: No module named 'tables'",
      "\nDuring handling of the above exception, another exception occurred:\n",
      "\u001b[0;31mImportError\u001b[0m                               Traceback (most recent call last)",
      "Cell \u001b[0;32mIn[98], line 1\u001b[0m\n\u001b[0;32m----> 1\u001b[0m day_close \u001b[38;5;241m=\u001b[39m \u001b[43mpd\u001b[49m\u001b[38;5;241;43m.\u001b[39;49m\u001b[43mread_hdf\u001b[49m\u001b[43m(\u001b[49m\u001b[38;5;124;43m\"\u001b[39;49m\u001b[38;5;124;43m./stock_day/day_close.h5\u001b[39;49m\u001b[38;5;124;43m\"\u001b[39;49m\u001b[43m)\u001b[49m\n",
      "File \u001b[0;32m~/PycharmProjects/machine_learning/.venv/lib/python3.10/site-packages/pandas/io/pytables.py:426\u001b[0m, in \u001b[0;36mread_hdf\u001b[0;34m(path_or_buf, key, mode, errors, where, start, stop, columns, iterator, chunksize, **kwargs)\u001b[0m\n\u001b[1;32m    423\u001b[0m \u001b[38;5;28;01mif\u001b[39;00m \u001b[38;5;129;01mnot\u001b[39;00m exists:\n\u001b[1;32m    424\u001b[0m     \u001b[38;5;28;01mraise\u001b[39;00m \u001b[38;5;167;01mFileNotFoundError\u001b[39;00m(\u001b[38;5;124mf\u001b[39m\u001b[38;5;124m\"\u001b[39m\u001b[38;5;124mFile \u001b[39m\u001b[38;5;132;01m{\u001b[39;00mpath_or_buf\u001b[38;5;132;01m}\u001b[39;00m\u001b[38;5;124m does not exist\u001b[39m\u001b[38;5;124m\"\u001b[39m)\n\u001b[0;32m--> 426\u001b[0m store \u001b[38;5;241m=\u001b[39m \u001b[43mHDFStore\u001b[49m\u001b[43m(\u001b[49m\u001b[43mpath_or_buf\u001b[49m\u001b[43m,\u001b[49m\u001b[43m \u001b[49m\u001b[43mmode\u001b[49m\u001b[38;5;241;43m=\u001b[39;49m\u001b[43mmode\u001b[49m\u001b[43m,\u001b[49m\u001b[43m \u001b[49m\u001b[43merrors\u001b[49m\u001b[38;5;241;43m=\u001b[39;49m\u001b[43merrors\u001b[49m\u001b[43m,\u001b[49m\u001b[43m \u001b[49m\u001b[38;5;241;43m*\u001b[39;49m\u001b[38;5;241;43m*\u001b[39;49m\u001b[43mkwargs\u001b[49m\u001b[43m)\u001b[49m\n\u001b[1;32m    427\u001b[0m \u001b[38;5;66;03m# can't auto open/close if we are using an iterator\u001b[39;00m\n\u001b[1;32m    428\u001b[0m \u001b[38;5;66;03m# so delegate to the iterator\u001b[39;00m\n\u001b[1;32m    429\u001b[0m auto_close \u001b[38;5;241m=\u001b[39m \u001b[38;5;28;01mTrue\u001b[39;00m\n",
      "File \u001b[0;32m~/PycharmProjects/machine_learning/.venv/lib/python3.10/site-packages/pandas/io/pytables.py:566\u001b[0m, in \u001b[0;36mHDFStore.__init__\u001b[0;34m(self, path, mode, complevel, complib, fletcher32, **kwargs)\u001b[0m\n\u001b[1;32m    563\u001b[0m \u001b[38;5;28;01mif\u001b[39;00m \u001b[38;5;124m\"\u001b[39m\u001b[38;5;124mformat\u001b[39m\u001b[38;5;124m\"\u001b[39m \u001b[38;5;129;01min\u001b[39;00m kwargs:\n\u001b[1;32m    564\u001b[0m     \u001b[38;5;28;01mraise\u001b[39;00m \u001b[38;5;167;01mValueError\u001b[39;00m(\u001b[38;5;124m\"\u001b[39m\u001b[38;5;124mformat is not a defined argument for HDFStore\u001b[39m\u001b[38;5;124m\"\u001b[39m)\n\u001b[0;32m--> 566\u001b[0m tables \u001b[38;5;241m=\u001b[39m \u001b[43mimport_optional_dependency\u001b[49m\u001b[43m(\u001b[49m\u001b[38;5;124;43m\"\u001b[39;49m\u001b[38;5;124;43mtables\u001b[39;49m\u001b[38;5;124;43m\"\u001b[39;49m\u001b[43m)\u001b[49m\n\u001b[1;32m    568\u001b[0m \u001b[38;5;28;01mif\u001b[39;00m complib \u001b[38;5;129;01mis\u001b[39;00m \u001b[38;5;129;01mnot\u001b[39;00m \u001b[38;5;28;01mNone\u001b[39;00m \u001b[38;5;129;01mand\u001b[39;00m complib \u001b[38;5;129;01mnot\u001b[39;00m \u001b[38;5;129;01min\u001b[39;00m tables\u001b[38;5;241m.\u001b[39mfilters\u001b[38;5;241m.\u001b[39mall_complibs:\n\u001b[1;32m    569\u001b[0m     \u001b[38;5;28;01mraise\u001b[39;00m \u001b[38;5;167;01mValueError\u001b[39;00m(\n\u001b[1;32m    570\u001b[0m         \u001b[38;5;124mf\u001b[39m\u001b[38;5;124m\"\u001b[39m\u001b[38;5;124mcomplib only supports \u001b[39m\u001b[38;5;132;01m{\u001b[39;00mtables\u001b[38;5;241m.\u001b[39mfilters\u001b[38;5;241m.\u001b[39mall_complibs\u001b[38;5;132;01m}\u001b[39;00m\u001b[38;5;124m compression.\u001b[39m\u001b[38;5;124m\"\u001b[39m\n\u001b[1;32m    571\u001b[0m     )\n",
      "File \u001b[0;32m~/PycharmProjects/machine_learning/.venv/lib/python3.10/site-packages/pandas/compat/_optional.py:138\u001b[0m, in \u001b[0;36mimport_optional_dependency\u001b[0;34m(name, extra, errors, min_version)\u001b[0m\n\u001b[1;32m    136\u001b[0m \u001b[38;5;28;01mexcept\u001b[39;00m \u001b[38;5;167;01mImportError\u001b[39;00m:\n\u001b[1;32m    137\u001b[0m     \u001b[38;5;28;01mif\u001b[39;00m errors \u001b[38;5;241m==\u001b[39m \u001b[38;5;124m\"\u001b[39m\u001b[38;5;124mraise\u001b[39m\u001b[38;5;124m\"\u001b[39m:\n\u001b[0;32m--> 138\u001b[0m         \u001b[38;5;28;01mraise\u001b[39;00m \u001b[38;5;167;01mImportError\u001b[39;00m(msg)\n\u001b[1;32m    139\u001b[0m     \u001b[38;5;28;01mreturn\u001b[39;00m \u001b[38;5;28;01mNone\u001b[39;00m\n\u001b[1;32m    141\u001b[0m \u001b[38;5;66;03m# Handle submodules: if we have submodule, grab parent module from sys.modules\u001b[39;00m\n",
      "\u001b[0;31mImportError\u001b[0m: Missing optional dependency 'pytables'.  Use pip or conda to install pytables."
     ]
    }
   ],
   "source": [
    "day_close = pd.read_hdf(\"./stock_day/day_close.h5\")"
   ]
  },
  {
   "cell_type": "code",
   "execution_count": null,
   "id": "15cc880f-b21c-40ba-b6c0-80bedd2b03e9",
   "metadata": {},
   "outputs": [],
   "source": []
  }
 ],
 "metadata": {
  "kernelspec": {
   "display_name": "Python 3 (ipykernel)",
   "language": "python",
   "name": "python3"
  },
  "language_info": {
   "codemirror_mode": {
    "name": "ipython",
    "version": 3
   },
   "file_extension": ".py",
   "mimetype": "text/x-python",
   "name": "python",
   "nbconvert_exporter": "python",
   "pygments_lexer": "ipython3",
   "version": "3.10.12"
  }
 },
 "nbformat": 4,
 "nbformat_minor": 5
}

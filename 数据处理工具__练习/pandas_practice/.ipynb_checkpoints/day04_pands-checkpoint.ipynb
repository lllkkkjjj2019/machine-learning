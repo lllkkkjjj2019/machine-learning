{
 "cells": [
  {
   "cell_type": "code",
   "execution_count": null,
   "id": "e22464f6-f3c3-48ca-89a1-ad77e0ebff39",
   "metadata": {},
   "outputs": [],
   "source": [
    "# NaN类型的缺失值"
   ]
  },
  {
   "cell_type": "code",
   "execution_count": 1,
   "id": "9ff98561-689e-4dd6-bb36-124b7316b1ab",
   "metadata": {},
   "outputs": [],
   "source": [
    "import pandas as pd"
   ]
  },
  {
   "cell_type": "code",
   "execution_count": 3,
   "id": "f6efc143-75e2-418b-8fbb-40fbac235b5e",
   "metadata": {},
   "outputs": [],
   "source": [
    "movie = pd.read_csv(\"./02-代码/IMDB/IMDB-Movie-Data.csv\")"
   ]
  },
  {
   "cell_type": "code",
   "execution_count": 8,
   "id": "bdaf04e2-51f0-439b-b8ba-19350766ae66",
   "metadata": {},
   "outputs": [],
   "source": [
    "import numpy as np"
   ]
  },
  {
   "cell_type": "code",
   "execution_count": 9,
   "id": "d7bc5dac-119e-4cbd-bd95-183dcd24d47b",
   "metadata": {},
   "outputs": [
    {
     "data": {
      "text/plain": [
       "np.True_"
      ]
     },
     "execution_count": 9,
     "metadata": {},
     "output_type": "execute_result"
    }
   ],
   "source": [
    "np.any(pd.isnull(movie))"
   ]
  },
  {
   "cell_type": "code",
   "execution_count": 10,
   "id": "1d8423d6-df97-4157-b891-af3a3b36ee60",
   "metadata": {},
   "outputs": [
    {
     "data": {
      "text/plain": [
       "Rank                  False\n",
       "Title                 False\n",
       "Genre                 False\n",
       "Description           False\n",
       "Director              False\n",
       "Actors                False\n",
       "Year                  False\n",
       "Runtime (Minutes)     False\n",
       "Rating                False\n",
       "Votes                 False\n",
       "Revenue (Millions)     True\n",
       "Metascore              True\n",
       "dtype: bool"
      ]
     },
     "execution_count": 10,
     "metadata": {},
     "output_type": "execute_result"
    }
   ],
   "source": [
    "pd.isnull(movie).any()"
   ]
  },
  {
   "cell_type": "code",
   "execution_count": 14,
   "id": "04f75f37-5548-4a25-a2d3-6b349a6278d2",
   "metadata": {},
   "outputs": [],
   "source": [
    "data1 = movie.dropna(inplace=False)"
   ]
  },
  {
   "cell_type": "code",
   "execution_count": 15,
   "id": "acee96ec-a4a3-4577-b2c9-0958ccaf1a6b",
   "metadata": {},
   "outputs": [
    {
     "data": {
      "text/plain": [
       "Rank                  False\n",
       "Title                 False\n",
       "Genre                 False\n",
       "Description           False\n",
       "Director              False\n",
       "Actors                False\n",
       "Year                  False\n",
       "Runtime (Minutes)     False\n",
       "Rating                False\n",
       "Votes                 False\n",
       "Revenue (Millions)    False\n",
       "Metascore             False\n",
       "dtype: bool"
      ]
     },
     "execution_count": 15,
     "metadata": {},
     "output_type": "execute_result"
    }
   ],
   "source": [
    "pd.isnull(data1).any()"
   ]
  },
  {
   "cell_type": "code",
   "execution_count": 21,
   "id": "53ed250f-7e20-42bb-8708-5c1a603f3c8f",
   "metadata": {},
   "outputs": [],
   "source": [
    "# 含有缺失值的字段\n",
    "# Revenue (Millions)    \n",
    "# Metascore\n",
    "# movie[\"Revenue (Millions)\"] = movie[\"Revenue (Millions)\"].fillna(movie[\"Revenue (Millions)\"].mean())\n",
    "# movie[\"Metascore\"] = movie[\"Metascore\"].fillna(movie[\"Metascore\"].mean())\n",
    "\n",
    "movie.fillna({\"Revenue (Millions)\": movie[\"Revenue (Millions)\"].mean(),\n",
    "              \"Metascore\": movie[\"Metascore\"].mean()}, inplace=True)"
   ]
  },
  {
   "cell_type": "code",
   "execution_count": 22,
   "id": "dab89853-7456-485b-80a7-781387c60158",
   "metadata": {},
   "outputs": [
    {
     "data": {
      "text/plain": [
       "Rank                  False\n",
       "Title                 False\n",
       "Genre                 False\n",
       "Description           False\n",
       "Director              False\n",
       "Actors                False\n",
       "Year                  False\n",
       "Runtime (Minutes)     False\n",
       "Rating                False\n",
       "Votes                 False\n",
       "Revenue (Millions)    False\n",
       "Metascore             False\n",
       "dtype: bool"
      ]
     },
     "execution_count": 22,
     "metadata": {},
     "output_type": "execute_result"
    }
   ],
   "source": [
    "pd.isnull(movie).any()"
   ]
  },
  {
   "cell_type": "code",
   "execution_count": 23,
   "id": "e2c6f038-368a-4dba-a906-7a838e728b00",
   "metadata": {},
   "outputs": [],
   "source": [
    "# 不是缺失值nan，有默认标记的"
   ]
  },
  {
   "cell_type": "code",
   "execution_count": 24,
   "id": "e88bf6af-3647-4c2c-9c38-3f3400b868a6",
   "metadata": {},
   "outputs": [],
   "source": [
    "path = \"https://archive.ics.uci.edu/ml/machine-learning-databases/breast-cancer-wisconsin/breast-cancer-wisconsin.data\"\n",
    "name = [\"Sample code number\", \"Clump Thickness\", \"Uniformity of Cell Size\", \"Uniformity of Cell Shape\", \"Marginal Adhesion\", \"Single Epithelial Cell Size\", \"Bare Nuclei\", \"Bland Chromatin\", \"Normal Nucleoli\", \"Mitoses\", \"Class\"]\n",
    "\n",
    "\n",
    "data = pd.read_csv(path, names=name)"
   ]
  },
  {
   "cell_type": "code",
   "execution_count": 25,
   "id": "23f3874f-c72b-48bb-a92d-a64837999f68",
   "metadata": {},
   "outputs": [
    {
     "data": {
      "text/html": [
       "<div>\n",
       "<style scoped>\n",
       "    .dataframe tbody tr th:only-of-type {\n",
       "        vertical-align: middle;\n",
       "    }\n",
       "\n",
       "    .dataframe tbody tr th {\n",
       "        vertical-align: top;\n",
       "    }\n",
       "\n",
       "    .dataframe thead th {\n",
       "        text-align: right;\n",
       "    }\n",
       "</style>\n",
       "<table border=\"1\" class=\"dataframe\">\n",
       "  <thead>\n",
       "    <tr style=\"text-align: right;\">\n",
       "      <th></th>\n",
       "      <th>Sample code number</th>\n",
       "      <th>Clump Thickness</th>\n",
       "      <th>Uniformity of Cell Size</th>\n",
       "      <th>Uniformity of Cell Shape</th>\n",
       "      <th>Marginal Adhesion</th>\n",
       "      <th>Single Epithelial Cell Size</th>\n",
       "      <th>Bare Nuclei</th>\n",
       "      <th>Bland Chromatin</th>\n",
       "      <th>Normal Nucleoli</th>\n",
       "      <th>Mitoses</th>\n",
       "      <th>Class</th>\n",
       "    </tr>\n",
       "  </thead>\n",
       "  <tbody>\n",
       "    <tr>\n",
       "      <th>0</th>\n",
       "      <td>1000025</td>\n",
       "      <td>5</td>\n",
       "      <td>1</td>\n",
       "      <td>1</td>\n",
       "      <td>1</td>\n",
       "      <td>2</td>\n",
       "      <td>1</td>\n",
       "      <td>3</td>\n",
       "      <td>1</td>\n",
       "      <td>1</td>\n",
       "      <td>2</td>\n",
       "    </tr>\n",
       "    <tr>\n",
       "      <th>1</th>\n",
       "      <td>1002945</td>\n",
       "      <td>5</td>\n",
       "      <td>4</td>\n",
       "      <td>4</td>\n",
       "      <td>5</td>\n",
       "      <td>7</td>\n",
       "      <td>10</td>\n",
       "      <td>3</td>\n",
       "      <td>2</td>\n",
       "      <td>1</td>\n",
       "      <td>2</td>\n",
       "    </tr>\n",
       "    <tr>\n",
       "      <th>2</th>\n",
       "      <td>1015425</td>\n",
       "      <td>3</td>\n",
       "      <td>1</td>\n",
       "      <td>1</td>\n",
       "      <td>1</td>\n",
       "      <td>2</td>\n",
       "      <td>2</td>\n",
       "      <td>3</td>\n",
       "      <td>1</td>\n",
       "      <td>1</td>\n",
       "      <td>2</td>\n",
       "    </tr>\n",
       "    <tr>\n",
       "      <th>3</th>\n",
       "      <td>1016277</td>\n",
       "      <td>6</td>\n",
       "      <td>8</td>\n",
       "      <td>8</td>\n",
       "      <td>1</td>\n",
       "      <td>3</td>\n",
       "      <td>4</td>\n",
       "      <td>3</td>\n",
       "      <td>7</td>\n",
       "      <td>1</td>\n",
       "      <td>2</td>\n",
       "    </tr>\n",
       "    <tr>\n",
       "      <th>4</th>\n",
       "      <td>1017023</td>\n",
       "      <td>4</td>\n",
       "      <td>1</td>\n",
       "      <td>1</td>\n",
       "      <td>3</td>\n",
       "      <td>2</td>\n",
       "      <td>1</td>\n",
       "      <td>3</td>\n",
       "      <td>1</td>\n",
       "      <td>1</td>\n",
       "      <td>2</td>\n",
       "    </tr>\n",
       "  </tbody>\n",
       "</table>\n",
       "</div>"
      ],
      "text/plain": [
       "   Sample code number  Clump Thickness  Uniformity of Cell Size  \\\n",
       "0             1000025                5                        1   \n",
       "1             1002945                5                        4   \n",
       "2             1015425                3                        1   \n",
       "3             1016277                6                        8   \n",
       "4             1017023                4                        1   \n",
       "\n",
       "   Uniformity of Cell Shape  Marginal Adhesion  Single Epithelial Cell Size  \\\n",
       "0                         1                  1                            2   \n",
       "1                         4                  5                            7   \n",
       "2                         1                  1                            2   \n",
       "3                         8                  1                            3   \n",
       "4                         1                  3                            2   \n",
       "\n",
       "  Bare Nuclei  Bland Chromatin  Normal Nucleoli  Mitoses  Class  \n",
       "0           1                3                1        1      2  \n",
       "1          10                3                2        1      2  \n",
       "2           2                3                1        1      2  \n",
       "3           4                3                7        1      2  \n",
       "4           1                3                1        1      2  "
      ]
     },
     "execution_count": 25,
     "metadata": {},
     "output_type": "execute_result"
    }
   ],
   "source": [
    "data.head()"
   ]
  },
  {
   "cell_type": "code",
   "execution_count": 26,
   "id": "c500618b-0788-40ed-b615-e0233829de89",
   "metadata": {},
   "outputs": [],
   "source": [
    "new_data = data.replace(to_replace=\"?\",value=np.nan)"
   ]
  },
  {
   "cell_type": "code",
   "execution_count": 27,
   "id": "97b5a1d1-556f-40ed-95fd-eba0706db5b1",
   "metadata": {},
   "outputs": [
    {
     "data": {
      "text/plain": [
       "Sample code number             False\n",
       "Clump Thickness                False\n",
       "Uniformity of Cell Size        False\n",
       "Uniformity of Cell Shape       False\n",
       "Marginal Adhesion              False\n",
       "Single Epithelial Cell Size    False\n",
       "Bare Nuclei                     True\n",
       "Bland Chromatin                False\n",
       "Normal Nucleoli                False\n",
       "Mitoses                        False\n",
       "Class                          False\n",
       "dtype: bool"
      ]
     },
     "execution_count": 27,
     "metadata": {},
     "output_type": "execute_result"
    }
   ],
   "source": [
    "pd.isnull(new_data).any()"
   ]
  },
  {
   "cell_type": "code",
   "execution_count": 28,
   "id": "f9092ed4-80c1-41d9-bf3b-e088cacf5c97",
   "metadata": {},
   "outputs": [],
   "source": [
    "new_data.dropna(inplace=True)"
   ]
  },
  {
   "cell_type": "code",
   "execution_count": 29,
   "id": "5d4f6123-16ea-4639-9263-a314906741fa",
   "metadata": {},
   "outputs": [
    {
     "data": {
      "text/plain": [
       "Sample code number             False\n",
       "Clump Thickness                False\n",
       "Uniformity of Cell Size        False\n",
       "Uniformity of Cell Shape       False\n",
       "Marginal Adhesion              False\n",
       "Single Epithelial Cell Size    False\n",
       "Bare Nuclei                    False\n",
       "Bland Chromatin                False\n",
       "Normal Nucleoli                False\n",
       "Mitoses                        False\n",
       "Class                          False\n",
       "dtype: bool"
      ]
     },
     "execution_count": 29,
     "metadata": {},
     "output_type": "execute_result"
    }
   ],
   "source": [
    "new_data.isnull().any()"
   ]
  },
  {
   "cell_type": "code",
   "execution_count": 30,
   "id": "d9de7660-0d08-40f8-8e1b-8548bca1baeb",
   "metadata": {},
   "outputs": [],
   "source": [
    "# 数据离散化"
   ]
  },
  {
   "cell_type": "code",
   "execution_count": 31,
   "id": "4c2b9c24-ad3c-4533-839c-e411966e6d1f",
   "metadata": {},
   "outputs": [],
   "source": [
    "# 自动分组"
   ]
  },
  {
   "cell_type": "code",
   "execution_count": 32,
   "id": "d05a388e-e604-4730-87b1-c99ad295174f",
   "metadata": {},
   "outputs": [],
   "source": [
    " # 1）准备数据\n",
    "data = pd.Series([165,174,160,180,159,163,192,184], index=['No1:165', 'No2:174','No3:160', 'No4:180', 'No5:159', 'No6:163', 'No7:192', 'No8:184']) "
   ]
  },
  {
   "cell_type": "code",
   "execution_count": 33,
   "id": "e8159616-54e8-42dc-9b61-89cba6664a25",
   "metadata": {},
   "outputs": [
    {
     "data": {
      "text/plain": [
       "No1:165    165\n",
       "No2:174    174\n",
       "No3:160    160\n",
       "No4:180    180\n",
       "No5:159    159\n",
       "dtype: int64"
      ]
     },
     "execution_count": 33,
     "metadata": {},
     "output_type": "execute_result"
    }
   ],
   "source": [
    "data.head()"
   ]
  },
  {
   "cell_type": "code",
   "execution_count": 35,
   "id": "3b2f1d4b-8eb4-4582-8f5a-86c49018e9ab",
   "metadata": {},
   "outputs": [],
   "source": [
    "sr = pd.qcut(data,3)"
   ]
  },
  {
   "cell_type": "code",
   "execution_count": 36,
   "id": "b56fd720-f864-43f9-a26c-46d8270ad6a0",
   "metadata": {},
   "outputs": [
    {
     "data": {
      "text/plain": [
       "No1:165      (163.667, 178.0]\n",
       "No2:174      (163.667, 178.0]\n",
       "No3:160    (158.999, 163.667]\n",
       "No4:180        (178.0, 192.0]\n",
       "No5:159    (158.999, 163.667]\n",
       "No6:163    (158.999, 163.667]\n",
       "No7:192        (178.0, 192.0]\n",
       "No8:184        (178.0, 192.0]\n",
       "dtype: category\n",
       "Categories (3, interval[float64, right]): [(158.999, 163.667] < (163.667, 178.0] < (178.0, 192.0]]"
      ]
     },
     "execution_count": 36,
     "metadata": {},
     "output_type": "execute_result"
    }
   ],
   "source": [
    "sr"
   ]
  },
  {
   "cell_type": "code",
   "execution_count": 37,
   "id": "b927bfd2-25c1-42fc-b1c9-718d25c2bf7d",
   "metadata": {},
   "outputs": [
    {
     "data": {
      "text/plain": [
       "(158.999, 163.667]    3\n",
       "(178.0, 192.0]        3\n",
       "(163.667, 178.0]      2\n",
       "Name: count, dtype: int64"
      ]
     },
     "execution_count": 37,
     "metadata": {},
     "output_type": "execute_result"
    }
   ],
   "source": [
    "sr.value_counts()"
   ]
  },
  {
   "cell_type": "code",
   "execution_count": 38,
   "id": "1240714b-f1b6-479a-8ff6-a0ced875cc17",
   "metadata": {},
   "outputs": [
    {
     "data": {
      "text/html": [
       "<div>\n",
       "<style scoped>\n",
       "    .dataframe tbody tr th:only-of-type {\n",
       "        vertical-align: middle;\n",
       "    }\n",
       "\n",
       "    .dataframe tbody tr th {\n",
       "        vertical-align: top;\n",
       "    }\n",
       "\n",
       "    .dataframe thead th {\n",
       "        text-align: right;\n",
       "    }\n",
       "</style>\n",
       "<table border=\"1\" class=\"dataframe\">\n",
       "  <thead>\n",
       "    <tr style=\"text-align: right;\">\n",
       "      <th></th>\n",
       "      <th>height_(158.999, 163.667]</th>\n",
       "      <th>height_(163.667, 178.0]</th>\n",
       "      <th>height_(178.0, 192.0]</th>\n",
       "    </tr>\n",
       "  </thead>\n",
       "  <tbody>\n",
       "    <tr>\n",
       "      <th>No1:165</th>\n",
       "      <td>False</td>\n",
       "      <td>True</td>\n",
       "      <td>False</td>\n",
       "    </tr>\n",
       "    <tr>\n",
       "      <th>No2:174</th>\n",
       "      <td>False</td>\n",
       "      <td>True</td>\n",
       "      <td>False</td>\n",
       "    </tr>\n",
       "    <tr>\n",
       "      <th>No3:160</th>\n",
       "      <td>True</td>\n",
       "      <td>False</td>\n",
       "      <td>False</td>\n",
       "    </tr>\n",
       "    <tr>\n",
       "      <th>No4:180</th>\n",
       "      <td>False</td>\n",
       "      <td>False</td>\n",
       "      <td>True</td>\n",
       "    </tr>\n",
       "    <tr>\n",
       "      <th>No5:159</th>\n",
       "      <td>True</td>\n",
       "      <td>False</td>\n",
       "      <td>False</td>\n",
       "    </tr>\n",
       "    <tr>\n",
       "      <th>No6:163</th>\n",
       "      <td>True</td>\n",
       "      <td>False</td>\n",
       "      <td>False</td>\n",
       "    </tr>\n",
       "    <tr>\n",
       "      <th>No7:192</th>\n",
       "      <td>False</td>\n",
       "      <td>False</td>\n",
       "      <td>True</td>\n",
       "    </tr>\n",
       "    <tr>\n",
       "      <th>No8:184</th>\n",
       "      <td>False</td>\n",
       "      <td>False</td>\n",
       "      <td>True</td>\n",
       "    </tr>\n",
       "  </tbody>\n",
       "</table>\n",
       "</div>"
      ],
      "text/plain": [
       "         height_(158.999, 163.667]  height_(163.667, 178.0]  \\\n",
       "No1:165                      False                     True   \n",
       "No2:174                      False                     True   \n",
       "No3:160                       True                    False   \n",
       "No4:180                      False                    False   \n",
       "No5:159                       True                    False   \n",
       "No6:163                       True                    False   \n",
       "No7:192                      False                    False   \n",
       "No8:184                      False                    False   \n",
       "\n",
       "         height_(178.0, 192.0]  \n",
       "No1:165                  False  \n",
       "No2:174                  False  \n",
       "No3:160                  False  \n",
       "No4:180                   True  \n",
       "No5:159                  False  \n",
       "No6:163                  False  \n",
       "No7:192                   True  \n",
       "No8:184                   True  "
      ]
     },
     "execution_count": 38,
     "metadata": {},
     "output_type": "execute_result"
    }
   ],
   "source": [
    "pd.get_dummies(sr,prefix=\"height\")"
   ]
  },
  {
   "cell_type": "code",
   "execution_count": 39,
   "id": "7ead37a6-9fba-48a6-91ad-f73ef315f7bc",
   "metadata": {},
   "outputs": [],
   "source": [
    "# 自定义"
   ]
  },
  {
   "cell_type": "code",
   "execution_count": 40,
   "id": "540cfd79-c42a-4d2e-a953-123c68f20f59",
   "metadata": {},
   "outputs": [],
   "source": [
    "bins = [150,165,180,195]"
   ]
  },
  {
   "cell_type": "code",
   "execution_count": 42,
   "id": "50e9f8a5-c2ac-43e7-89a1-705be2c70a6b",
   "metadata": {},
   "outputs": [],
   "source": [
    "sr = pd.cut(data,bins)"
   ]
  },
  {
   "cell_type": "code",
   "execution_count": 43,
   "id": "ae488f83-b987-48f5-a36f-7a6b2946e83d",
   "metadata": {},
   "outputs": [
    {
     "data": {
      "text/plain": [
       "No1:165    (150, 165]\n",
       "No2:174    (165, 180]\n",
       "No3:160    (150, 165]\n",
       "No4:180    (165, 180]\n",
       "No5:159    (150, 165]\n",
       "No6:163    (150, 165]\n",
       "No7:192    (180, 195]\n",
       "No8:184    (180, 195]\n",
       "dtype: category\n",
       "Categories (3, interval[int64, right]): [(150, 165] < (165, 180] < (180, 195]]"
      ]
     },
     "execution_count": 43,
     "metadata": {},
     "output_type": "execute_result"
    }
   ],
   "source": [
    "sr"
   ]
  },
  {
   "cell_type": "code",
   "execution_count": 44,
   "id": "f9f022f4-2bec-405c-9399-bb260b3fa4a3",
   "metadata": {},
   "outputs": [
    {
     "data": {
      "text/html": [
       "<div>\n",
       "<style scoped>\n",
       "    .dataframe tbody tr th:only-of-type {\n",
       "        vertical-align: middle;\n",
       "    }\n",
       "\n",
       "    .dataframe tbody tr th {\n",
       "        vertical-align: top;\n",
       "    }\n",
       "\n",
       "    .dataframe thead th {\n",
       "        text-align: right;\n",
       "    }\n",
       "</style>\n",
       "<table border=\"1\" class=\"dataframe\">\n",
       "  <thead>\n",
       "    <tr style=\"text-align: right;\">\n",
       "      <th></th>\n",
       "      <th>height_(150, 165]</th>\n",
       "      <th>height_(165, 180]</th>\n",
       "      <th>height_(180, 195]</th>\n",
       "    </tr>\n",
       "  </thead>\n",
       "  <tbody>\n",
       "    <tr>\n",
       "      <th>No1:165</th>\n",
       "      <td>True</td>\n",
       "      <td>False</td>\n",
       "      <td>False</td>\n",
       "    </tr>\n",
       "    <tr>\n",
       "      <th>No2:174</th>\n",
       "      <td>False</td>\n",
       "      <td>True</td>\n",
       "      <td>False</td>\n",
       "    </tr>\n",
       "    <tr>\n",
       "      <th>No3:160</th>\n",
       "      <td>True</td>\n",
       "      <td>False</td>\n",
       "      <td>False</td>\n",
       "    </tr>\n",
       "    <tr>\n",
       "      <th>No4:180</th>\n",
       "      <td>False</td>\n",
       "      <td>True</td>\n",
       "      <td>False</td>\n",
       "    </tr>\n",
       "    <tr>\n",
       "      <th>No5:159</th>\n",
       "      <td>True</td>\n",
       "      <td>False</td>\n",
       "      <td>False</td>\n",
       "    </tr>\n",
       "    <tr>\n",
       "      <th>No6:163</th>\n",
       "      <td>True</td>\n",
       "      <td>False</td>\n",
       "      <td>False</td>\n",
       "    </tr>\n",
       "    <tr>\n",
       "      <th>No7:192</th>\n",
       "      <td>False</td>\n",
       "      <td>False</td>\n",
       "      <td>True</td>\n",
       "    </tr>\n",
       "    <tr>\n",
       "      <th>No8:184</th>\n",
       "      <td>False</td>\n",
       "      <td>False</td>\n",
       "      <td>True</td>\n",
       "    </tr>\n",
       "  </tbody>\n",
       "</table>\n",
       "</div>"
      ],
      "text/plain": [
       "         height_(150, 165]  height_(165, 180]  height_(180, 195]\n",
       "No1:165               True              False              False\n",
       "No2:174              False               True              False\n",
       "No3:160               True              False              False\n",
       "No4:180              False               True              False\n",
       "No5:159               True              False              False\n",
       "No6:163               True              False              False\n",
       "No7:192              False              False               True\n",
       "No8:184              False              False               True"
      ]
     },
     "execution_count": 44,
     "metadata": {},
     "output_type": "execute_result"
    }
   ],
   "source": [
    "pd.get_dummies(sr,prefix=\"height\")"
   ]
  },
  {
   "cell_type": "code",
   "execution_count": 45,
   "id": "4227d55a-eeb1-47b1-a4bb-c491e8fa108a",
   "metadata": {},
   "outputs": [],
   "source": [
    "stock = pd.read_csv(\"./stock_day/stock_day.csv\")"
   ]
  },
  {
   "cell_type": "code",
   "execution_count": 46,
   "id": "7526709f-c83d-4b7b-92d9-2c66be613c05",
   "metadata": {},
   "outputs": [],
   "source": [
    "p_change = stock[\"p_change\"]"
   ]
  },
  {
   "cell_type": "code",
   "execution_count": 47,
   "id": "6525d9b1-4c99-4861-8f1b-89058481e469",
   "metadata": {},
   "outputs": [],
   "source": [
    "# 自定义分组\n",
    "bins = [-100, -7, -5, -3, 0, 3, 5, 7, 100]\n",
    "sr = pd.cut(p_change, bins)"
   ]
  },
  {
   "cell_type": "code",
   "execution_count": 48,
   "id": "3b502414-2f84-48fc-a2a9-4b39c8a9b0a3",
   "metadata": {},
   "outputs": [
    {
     "data": {
      "text/html": [
       "<div>\n",
       "<style scoped>\n",
       "    .dataframe tbody tr th:only-of-type {\n",
       "        vertical-align: middle;\n",
       "    }\n",
       "\n",
       "    .dataframe tbody tr th {\n",
       "        vertical-align: top;\n",
       "    }\n",
       "\n",
       "    .dataframe thead th {\n",
       "        text-align: right;\n",
       "    }\n",
       "</style>\n",
       "<table border=\"1\" class=\"dataframe\">\n",
       "  <thead>\n",
       "    <tr style=\"text-align: right;\">\n",
       "      <th></th>\n",
       "      <th>rise_(-100, -7]</th>\n",
       "      <th>rise_(-7, -5]</th>\n",
       "      <th>rise_(-5, -3]</th>\n",
       "      <th>rise_(-3, 0]</th>\n",
       "      <th>rise_(0, 3]</th>\n",
       "      <th>rise_(3, 5]</th>\n",
       "      <th>rise_(5, 7]</th>\n",
       "      <th>rise_(7, 100]</th>\n",
       "    </tr>\n",
       "  </thead>\n",
       "  <tbody>\n",
       "    <tr>\n",
       "      <th>2018-02-27</th>\n",
       "      <td>False</td>\n",
       "      <td>False</td>\n",
       "      <td>False</td>\n",
       "      <td>False</td>\n",
       "      <td>True</td>\n",
       "      <td>False</td>\n",
       "      <td>False</td>\n",
       "      <td>False</td>\n",
       "    </tr>\n",
       "    <tr>\n",
       "      <th>2018-02-26</th>\n",
       "      <td>False</td>\n",
       "      <td>False</td>\n",
       "      <td>False</td>\n",
       "      <td>False</td>\n",
       "      <td>False</td>\n",
       "      <td>True</td>\n",
       "      <td>False</td>\n",
       "      <td>False</td>\n",
       "    </tr>\n",
       "    <tr>\n",
       "      <th>2018-02-23</th>\n",
       "      <td>False</td>\n",
       "      <td>False</td>\n",
       "      <td>False</td>\n",
       "      <td>False</td>\n",
       "      <td>True</td>\n",
       "      <td>False</td>\n",
       "      <td>False</td>\n",
       "      <td>False</td>\n",
       "    </tr>\n",
       "    <tr>\n",
       "      <th>2018-02-22</th>\n",
       "      <td>False</td>\n",
       "      <td>False</td>\n",
       "      <td>False</td>\n",
       "      <td>False</td>\n",
       "      <td>True</td>\n",
       "      <td>False</td>\n",
       "      <td>False</td>\n",
       "      <td>False</td>\n",
       "    </tr>\n",
       "    <tr>\n",
       "      <th>2018-02-14</th>\n",
       "      <td>False</td>\n",
       "      <td>False</td>\n",
       "      <td>False</td>\n",
       "      <td>False</td>\n",
       "      <td>True</td>\n",
       "      <td>False</td>\n",
       "      <td>False</td>\n",
       "      <td>False</td>\n",
       "    </tr>\n",
       "  </tbody>\n",
       "</table>\n",
       "</div>"
      ],
      "text/plain": [
       "            rise_(-100, -7]  rise_(-7, -5]  rise_(-5, -3]  rise_(-3, 0]  \\\n",
       "2018-02-27            False          False          False         False   \n",
       "2018-02-26            False          False          False         False   \n",
       "2018-02-23            False          False          False         False   \n",
       "2018-02-22            False          False          False         False   \n",
       "2018-02-14            False          False          False         False   \n",
       "\n",
       "            rise_(0, 3]  rise_(3, 5]  rise_(5, 7]  rise_(7, 100]  \n",
       "2018-02-27         True        False        False          False  \n",
       "2018-02-26        False         True        False          False  \n",
       "2018-02-23         True        False        False          False  \n",
       "2018-02-22         True        False        False          False  \n",
       "2018-02-14         True        False        False          False  "
      ]
     },
     "execution_count": 48,
     "metadata": {},
     "output_type": "execute_result"
    }
   ],
   "source": [
    "# one-hot\n",
    "pd.get_dummies(sr, prefix=\"rise\").head()"
   ]
  },
  {
   "cell_type": "code",
   "execution_count": 49,
   "id": "32e9905d-47e7-4f98-af96-5c7788b85b60",
   "metadata": {},
   "outputs": [],
   "source": [
    "stock_change = pd.get_dummies(sr, prefix=\"rise\")"
   ]
  },
  {
   "cell_type": "code",
   "execution_count": 50,
   "id": "097c6a92-a700-48ad-ab79-aa263caa93b3",
   "metadata": {},
   "outputs": [],
   "source": [
    "# 合并"
   ]
  },
  {
   "cell_type": "code",
   "execution_count": 52,
   "id": "d8a89a66-390a-4c86-b23a-c09bb8028502",
   "metadata": {},
   "outputs": [
    {
     "data": {
      "text/html": [
       "<div>\n",
       "<style scoped>\n",
       "    .dataframe tbody tr th:only-of-type {\n",
       "        vertical-align: middle;\n",
       "    }\n",
       "\n",
       "    .dataframe tbody tr th {\n",
       "        vertical-align: top;\n",
       "    }\n",
       "\n",
       "    .dataframe thead th {\n",
       "        text-align: right;\n",
       "    }\n",
       "</style>\n",
       "<table border=\"1\" class=\"dataframe\">\n",
       "  <thead>\n",
       "    <tr style=\"text-align: right;\">\n",
       "      <th></th>\n",
       "      <th>open</th>\n",
       "      <th>high</th>\n",
       "      <th>close</th>\n",
       "      <th>low</th>\n",
       "      <th>volume</th>\n",
       "      <th>price_change</th>\n",
       "      <th>p_change</th>\n",
       "      <th>ma5</th>\n",
       "      <th>ma10</th>\n",
       "      <th>ma20</th>\n",
       "      <th>...</th>\n",
       "      <th>v_ma20</th>\n",
       "      <th>turnover</th>\n",
       "      <th>rise_(-100, -7]</th>\n",
       "      <th>rise_(-7, -5]</th>\n",
       "      <th>rise_(-5, -3]</th>\n",
       "      <th>rise_(-3, 0]</th>\n",
       "      <th>rise_(0, 3]</th>\n",
       "      <th>rise_(3, 5]</th>\n",
       "      <th>rise_(5, 7]</th>\n",
       "      <th>rise_(7, 100]</th>\n",
       "    </tr>\n",
       "  </thead>\n",
       "  <tbody>\n",
       "    <tr>\n",
       "      <th>2018-02-27</th>\n",
       "      <td>23.53</td>\n",
       "      <td>25.88</td>\n",
       "      <td>24.16</td>\n",
       "      <td>23.53</td>\n",
       "      <td>95578.03</td>\n",
       "      <td>0.63</td>\n",
       "      <td>2.68</td>\n",
       "      <td>22.942</td>\n",
       "      <td>22.142</td>\n",
       "      <td>22.875</td>\n",
       "      <td>...</td>\n",
       "      <td>55576.11</td>\n",
       "      <td>2.39</td>\n",
       "      <td>False</td>\n",
       "      <td>False</td>\n",
       "      <td>False</td>\n",
       "      <td>False</td>\n",
       "      <td>True</td>\n",
       "      <td>False</td>\n",
       "      <td>False</td>\n",
       "      <td>False</td>\n",
       "    </tr>\n",
       "    <tr>\n",
       "      <th>2018-02-26</th>\n",
       "      <td>22.80</td>\n",
       "      <td>23.78</td>\n",
       "      <td>23.53</td>\n",
       "      <td>22.80</td>\n",
       "      <td>60985.11</td>\n",
       "      <td>0.69</td>\n",
       "      <td>3.02</td>\n",
       "      <td>22.406</td>\n",
       "      <td>21.955</td>\n",
       "      <td>22.942</td>\n",
       "      <td>...</td>\n",
       "      <td>56007.50</td>\n",
       "      <td>1.53</td>\n",
       "      <td>False</td>\n",
       "      <td>False</td>\n",
       "      <td>False</td>\n",
       "      <td>False</td>\n",
       "      <td>False</td>\n",
       "      <td>True</td>\n",
       "      <td>False</td>\n",
       "      <td>False</td>\n",
       "    </tr>\n",
       "    <tr>\n",
       "      <th>2018-02-23</th>\n",
       "      <td>22.88</td>\n",
       "      <td>23.37</td>\n",
       "      <td>22.82</td>\n",
       "      <td>22.71</td>\n",
       "      <td>52914.01</td>\n",
       "      <td>0.54</td>\n",
       "      <td>2.42</td>\n",
       "      <td>21.938</td>\n",
       "      <td>21.929</td>\n",
       "      <td>23.022</td>\n",
       "      <td>...</td>\n",
       "      <td>56372.85</td>\n",
       "      <td>1.32</td>\n",
       "      <td>False</td>\n",
       "      <td>False</td>\n",
       "      <td>False</td>\n",
       "      <td>False</td>\n",
       "      <td>True</td>\n",
       "      <td>False</td>\n",
       "      <td>False</td>\n",
       "      <td>False</td>\n",
       "    </tr>\n",
       "    <tr>\n",
       "      <th>2018-02-22</th>\n",
       "      <td>22.25</td>\n",
       "      <td>22.76</td>\n",
       "      <td>22.28</td>\n",
       "      <td>22.02</td>\n",
       "      <td>36105.01</td>\n",
       "      <td>0.36</td>\n",
       "      <td>1.64</td>\n",
       "      <td>21.446</td>\n",
       "      <td>21.909</td>\n",
       "      <td>23.137</td>\n",
       "      <td>...</td>\n",
       "      <td>60149.60</td>\n",
       "      <td>0.90</td>\n",
       "      <td>False</td>\n",
       "      <td>False</td>\n",
       "      <td>False</td>\n",
       "      <td>False</td>\n",
       "      <td>True</td>\n",
       "      <td>False</td>\n",
       "      <td>False</td>\n",
       "      <td>False</td>\n",
       "    </tr>\n",
       "    <tr>\n",
       "      <th>2018-02-14</th>\n",
       "      <td>21.49</td>\n",
       "      <td>21.99</td>\n",
       "      <td>21.92</td>\n",
       "      <td>21.48</td>\n",
       "      <td>23331.04</td>\n",
       "      <td>0.44</td>\n",
       "      <td>2.05</td>\n",
       "      <td>21.366</td>\n",
       "      <td>21.923</td>\n",
       "      <td>23.253</td>\n",
       "      <td>...</td>\n",
       "      <td>61716.11</td>\n",
       "      <td>0.58</td>\n",
       "      <td>False</td>\n",
       "      <td>False</td>\n",
       "      <td>False</td>\n",
       "      <td>False</td>\n",
       "      <td>True</td>\n",
       "      <td>False</td>\n",
       "      <td>False</td>\n",
       "      <td>False</td>\n",
       "    </tr>\n",
       "  </tbody>\n",
       "</table>\n",
       "<p>5 rows × 22 columns</p>\n",
       "</div>"
      ],
      "text/plain": [
       "             open   high  close    low    volume  price_change  p_change  \\\n",
       "2018-02-27  23.53  25.88  24.16  23.53  95578.03          0.63      2.68   \n",
       "2018-02-26  22.80  23.78  23.53  22.80  60985.11          0.69      3.02   \n",
       "2018-02-23  22.88  23.37  22.82  22.71  52914.01          0.54      2.42   \n",
       "2018-02-22  22.25  22.76  22.28  22.02  36105.01          0.36      1.64   \n",
       "2018-02-14  21.49  21.99  21.92  21.48  23331.04          0.44      2.05   \n",
       "\n",
       "               ma5    ma10    ma20  ...    v_ma20  turnover  rise_(-100, -7]  \\\n",
       "2018-02-27  22.942  22.142  22.875  ...  55576.11      2.39            False   \n",
       "2018-02-26  22.406  21.955  22.942  ...  56007.50      1.53            False   \n",
       "2018-02-23  21.938  21.929  23.022  ...  56372.85      1.32            False   \n",
       "2018-02-22  21.446  21.909  23.137  ...  60149.60      0.90            False   \n",
       "2018-02-14  21.366  21.923  23.253  ...  61716.11      0.58            False   \n",
       "\n",
       "            rise_(-7, -5]  rise_(-5, -3]  rise_(-3, 0]  rise_(0, 3]  \\\n",
       "2018-02-27          False          False         False         True   \n",
       "2018-02-26          False          False         False        False   \n",
       "2018-02-23          False          False         False         True   \n",
       "2018-02-22          False          False         False         True   \n",
       "2018-02-14          False          False         False         True   \n",
       "\n",
       "            rise_(3, 5]  rise_(5, 7]  rise_(7, 100]  \n",
       "2018-02-27        False        False          False  \n",
       "2018-02-26         True        False          False  \n",
       "2018-02-23        False        False          False  \n",
       "2018-02-22        False        False          False  \n",
       "2018-02-14        False        False          False  \n",
       "\n",
       "[5 rows x 22 columns]"
      ]
     },
     "execution_count": 52,
     "metadata": {},
     "output_type": "execute_result"
    }
   ],
   "source": [
    "pd.concat([stock, stock_change], axis=1).head()"
   ]
  },
  {
   "cell_type": "code",
   "execution_count": 53,
   "id": "8211d407-fe5e-4e92-9592-7645740c91e0",
   "metadata": {},
   "outputs": [
    {
     "name": "stdout",
     "output_type": "stream",
     "text": [
      "The history saving thread hit an unexpected error (OperationalError('attempt to write a readonly database')).History will not be written to the database.\n"
     ]
    }
   ],
   "source": [
    "# pd.merge合并"
   ]
  },
  {
   "cell_type": "code",
   "execution_count": null,
   "id": "391be8f4-a2ef-451f-b93b-646bd73c7a7f",
   "metadata": {},
   "outputs": [],
   "source": []
  }
 ],
 "metadata": {
  "kernelspec": {
   "display_name": "Python 3 (ipykernel)",
   "language": "python",
   "name": "python3"
  },
  "language_info": {
   "codemirror_mode": {
    "name": "ipython",
    "version": 3
   },
   "file_extension": ".py",
   "mimetype": "text/x-python",
   "name": "python",
   "nbconvert_exporter": "python",
   "pygments_lexer": "ipython3",
   "version": "3.10.12"
  }
 },
 "nbformat": 4,
 "nbformat_minor": 5
}

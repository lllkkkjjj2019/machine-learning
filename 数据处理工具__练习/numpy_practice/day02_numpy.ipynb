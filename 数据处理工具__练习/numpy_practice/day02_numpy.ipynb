{
 "cells": [
  {
   "cell_type": "code",
   "execution_count": 2,
   "id": "1ddf87b5-c26a-42db-9a88-38b203a97951",
   "metadata": {},
   "outputs": [],
   "source": [
    "import numpy as np"
   ]
  },
  {
   "cell_type": "code",
   "execution_count": 3,
   "id": "8b2199e4-2984-4f13-8dd8-254069f83a63",
   "metadata": {},
   "outputs": [],
   "source": [
    "score = np.array([[80, 89, 86, 67, 79],\n",
    "[78, 97, 89, 67, 81],\n",
    "[90, 94, 78, 67, 74],\n",
    "[91, 91, 90, 67, 69],\n",
    "[76, 87, 75, 67, 86],\n",
    "[70, 79, 84, 67, 84],\n",
    "[94, 92, 93, 67, 64],\n",
    "[86, 85, 83, 67, 80]])"
   ]
  },
  {
   "cell_type": "code",
   "execution_count": 5,
   "id": "99979bfc-13a5-4c19-bd4f-96dfb5194437",
   "metadata": {},
   "outputs": [
    {
     "data": {
      "text/plain": [
       "(8, 5)"
      ]
     },
     "execution_count": 5,
     "metadata": {},
     "output_type": "execute_result"
    }
   ],
   "source": [
    "score.shape"
   ]
  },
  {
   "cell_type": "code",
   "execution_count": 6,
   "id": "53a51fb9-b239-4b67-bb1b-8096937cb54d",
   "metadata": {},
   "outputs": [
    {
     "data": {
      "text/plain": [
       "2"
      ]
     },
     "execution_count": 6,
     "metadata": {},
     "output_type": "execute_result"
    }
   ],
   "source": [
    "score.ndim"
   ]
  },
  {
   "cell_type": "code",
   "execution_count": 7,
   "id": "f5e1b442-b499-4ebc-a58e-f6e72b204e31",
   "metadata": {},
   "outputs": [
    {
     "data": {
      "text/plain": [
       "40"
      ]
     },
     "execution_count": 7,
     "metadata": {},
     "output_type": "execute_result"
    }
   ],
   "source": [
    "score.size"
   ]
  },
  {
   "cell_type": "code",
   "execution_count": 8,
   "id": "b3540403-266c-4249-88bc-36ba7b11c9c8",
   "metadata": {},
   "outputs": [
    {
     "data": {
      "text/plain": [
       "dtype('int64')"
      ]
     },
     "execution_count": 8,
     "metadata": {},
     "output_type": "execute_result"
    }
   ],
   "source": [
    "score.dtype"
   ]
  },
  {
   "cell_type": "code",
   "execution_count": 9,
   "id": "950134a7-315c-4a8c-a3f0-3e6508d22d73",
   "metadata": {},
   "outputs": [
    {
     "data": {
      "text/plain": [
       "8"
      ]
     },
     "execution_count": 9,
     "metadata": {},
     "output_type": "execute_result"
    }
   ],
   "source": [
    "score.itemsize"
   ]
  },
  {
   "cell_type": "code",
   "execution_count": 10,
   "id": "0ca9fe78-cceb-4d37-972f-bf6e0fbf1238",
   "metadata": {},
   "outputs": [],
   "source": [
    "a = np.array([[1,2,3],[4,5,6]])\n",
    "b = np.array([1,2,3,4])\n",
    "c = np.array([[[1,2,3],[4,5,6]],[[1,2,3],[4,5,6]]])"
   ]
  },
  {
   "cell_type": "code",
   "execution_count": 11,
   "id": "ab74d4c9-bf91-4a90-8846-2ef4bec5a6f3",
   "metadata": {},
   "outputs": [
    {
     "data": {
      "text/plain": [
       "array([[1, 2, 3],\n",
       "       [4, 5, 6]])"
      ]
     },
     "execution_count": 11,
     "metadata": {},
     "output_type": "execute_result"
    }
   ],
   "source": [
    "a"
   ]
  },
  {
   "cell_type": "code",
   "execution_count": 12,
   "id": "0ebbde43-7314-43db-97fd-a50ab351d5d9",
   "metadata": {},
   "outputs": [
    {
     "data": {
      "text/plain": [
       "array([1, 2, 3, 4])"
      ]
     },
     "execution_count": 12,
     "metadata": {},
     "output_type": "execute_result"
    }
   ],
   "source": [
    "b"
   ]
  },
  {
   "cell_type": "code",
   "execution_count": 13,
   "id": "525e0107-e5a2-4b4d-97eb-56e845469288",
   "metadata": {},
   "outputs": [
    {
     "data": {
      "text/plain": [
       "array([[[1, 2, 3],\n",
       "        [4, 5, 6]],\n",
       "\n",
       "       [[1, 2, 3],\n",
       "        [4, 5, 6]]])"
      ]
     },
     "execution_count": 13,
     "metadata": {},
     "output_type": "execute_result"
    }
   ],
   "source": [
    "c"
   ]
  },
  {
   "cell_type": "code",
   "execution_count": 14,
   "id": "f57bb062-935e-4e39-9bf0-febbe7d8b17c",
   "metadata": {},
   "outputs": [
    {
     "data": {
      "text/plain": [
       "array([[0., 0., 0., 0.],\n",
       "       [0., 0., 0., 0.],\n",
       "       [0., 0., 0., 0.]], dtype=float32)"
      ]
     },
     "execution_count": 14,
     "metadata": {},
     "output_type": "execute_result"
    }
   ],
   "source": [
    "np.zeros(shape=(3,4),dtype=\"float32\")"
   ]
  },
  {
   "cell_type": "code",
   "execution_count": 16,
   "id": "b54437fa-170f-4817-b2dd-024ffc2e110d",
   "metadata": {},
   "outputs": [],
   "source": [
    "data1 =ta np.array(score)\n",
    "data2 = np.asarray(score)\n",
    "data3 = np.copy(score)"
   ]
  },
  {
   "cell_type": "code",
   "execution_count": 21,
   "id": "1661ac12-3d02-4b18-b531-c18c01597e4d",
   "metadata": {},
   "outputs": [],
   "source": [
    "score[1,1] = 10000"
   ]
  },
  {
   "cell_type": "code",
   "execution_count": 22,
   "id": "79da82d2-58b7-4c99-80a3-d74bf0a9e856",
   "metadata": {},
   "outputs": [
    {
     "data": {
      "text/plain": [
       "array([[80, 89, 86, 67, 79],\n",
       "       [78, 97, 89, 67, 81],\n",
       "       [90, 94, 78, 67, 74],\n",
       "       [91, 91, 90, 67, 69],\n",
       "       [76, 87, 75, 67, 86],\n",
       "       [70, 79, 84, 67, 84],\n",
       "       [94, 92, 93, 67, 64],\n",
       "       [86, 85, 83, 67, 80]])"
      ]
     },
     "execution_count": 22,
     "metadata": {},
     "output_type": "execute_result"
    }
   ],
   "source": [
    "data1"
   ]
  },
  {
   "cell_type": "code",
   "execution_count": 23,
   "id": "b497564b-0e44-48e7-b320-c7a3b5f4ad85",
   "metadata": {},
   "outputs": [
    {
     "data": {
      "text/plain": [
       "array([[   80,    89,    86,    67,    79],\n",
       "       [   78, 10000,    89,    67,    81],\n",
       "       [   90,    94,    78,    67,    74],\n",
       "       [   91, 10000,    90,    67,    69],\n",
       "       [   76,    87,    75,    67,    86],\n",
       "       [   70,    79,    84,    67,    84],\n",
       "       [   94,    92,    93,    67,    64],\n",
       "       [   86,    85,    83,    67,    80]])"
      ]
     },
     "execution_count": 23,
     "metadata": {},
     "output_type": "execute_result"
    }
   ],
   "source": [
    "data2"
   ]
  },
  {
   "cell_type": "code",
   "execution_count": 24,
   "id": "cac5a48f-7640-4b9c-861c-1b0b95c7d9e3",
   "metadata": {},
   "outputs": [
    {
     "data": {
      "text/plain": [
       "array([[80, 89, 86, 67, 79],\n",
       "       [78, 97, 89, 67, 81],\n",
       "       [90, 94, 78, 67, 74],\n",
       "       [91, 91, 90, 67, 69],\n",
       "       [76, 87, 75, 67, 86],\n",
       "       [70, 79, 84, 67, 84],\n",
       "       [94, 92, 93, 67, 64],\n",
       "       [86, 85, 83, 67, 80]])"
      ]
     },
     "execution_count": 24,
     "metadata": {},
     "output_type": "execute_result"
    }
   ],
   "source": [
    "data3"
   ]
  },
  {
   "cell_type": "code",
   "execution_count": 26,
   "id": "4ebaf5d9-783f-4e15-a9b0-08d77f2d8b17",
   "metadata": {},
   "outputs": [
    {
     "data": {
      "text/plain": [
       "array([ 0.        ,  0.52631579,  1.05263158,  1.57894737,  2.10526316,\n",
       "        2.63157895,  3.15789474,  3.68421053,  4.21052632,  4.73684211,\n",
       "        5.26315789,  5.78947368,  6.31578947,  6.84210526,  7.36842105,\n",
       "        7.89473684,  8.42105263,  8.94736842,  9.47368421, 10.        ])"
      ]
     },
     "execution_count": 26,
     "metadata": {},
     "output_type": "execute_result"
    }
   ],
   "source": [
    "np.linspace(0,10,20)"
   ]
  },
  {
   "cell_type": "code",
   "execution_count": 28,
   "id": "db2e8364-2a84-45ba-9490-0b21c18fea50",
   "metadata": {},
   "outputs": [
    {
     "data": {
      "text/plain": [
       "array([0, 2, 4, 6, 8])"
      ]
     },
     "execution_count": 28,
     "metadata": {},
     "output_type": "execute_result"
    }
   ],
   "source": [
    "np.arange(0,10,2)"
   ]
  },
  {
   "cell_type": "code",
   "execution_count": 30,
   "id": "17be9675-d302-4e38-a2c8-90812ac27a76",
   "metadata": {},
   "outputs": [],
   "source": [
    "data01 = np.random.uniform(low=-1,high=1,size=1000000)"
   ]
  },
  {
   "cell_type": "code",
   "execution_count": 31,
   "id": "2a46ba12-733e-42ad-aefc-0af329d8da22",
   "metadata": {},
   "outputs": [
    {
     "data": {
      "text/plain": [
       "array([-0.3582941 ,  0.43817464, -0.58155453, ..., -0.51445759,\n",
       "       -0.44976088,  0.07755636], shape=(1000000,))"
      ]
     },
     "execution_count": 31,
     "metadata": {},
     "output_type": "execute_result"
    }
   ],
   "source": [
    "data01"
   ]
  },
  {
   "cell_type": "code",
   "execution_count": 33,
   "id": "bffe4e6e-5a24-4161-ab9d-b926c332dd50",
   "metadata": {},
   "outputs": [],
   "source": [
    "import matplotlib.pyplot as plt"
   ]
  },
  {
   "cell_type": "code",
   "execution_count": 36,
   "id": "ecd7cdc1-2ebf-4da5-a23d-49d7362e7f0c",
   "metadata": {},
   "outputs": [
    {
     "data": {
      "image/png": "[encoded data removed]",
      "text/plain": [
       "<Figure size 1600x640 with 1 Axes>"
      ]
     },
     "metadata": {},
     "output_type": "display_data"
    }
   ],
   "source": [
    "plt.figure(figsize=(20,8),dpi=80)\n",
    "plt.hist(data01,1000)\n",
    "plt.show()"
   ]
  },
  {
   "cell_type": "code",
   "execution_count": 37,
   "id": "3b439814-d864-4a88-889a-72c8162f6f84",
   "metadata": {},
   "outputs": [],
   "source": [
    "data02 = np.random.normal(loc=1.75,scale=0.1,size=1000000)"
   ]
  },
  {
   "cell_type": "code",
   "execution_count": 38,
   "id": "a2c17593-7c4a-47a7-9f77-1aae26feb0ae",
   "metadata": {},
   "outputs": [
    {
     "data": {
      "image/png": "[encoded data removed]",
      "text/plain": [
       "<Figure size 1600x640 with 1 Axes>"
      ]
     },
     "metadata": {},
     "output_type": "display_data"
    }
   ],
   "source": [
    "plt.figure(figsize=(20,8),dpi=80)\n",
    "plt.hist(data02,1000)\n",
    "plt.show()"
   ]
  },
  {
   "cell_type": "markdown",
   "id": "2f4cdbf4-3599-48e9-9177-0c58540e3e3a",
   "metadata": {},
   "source": [
    "###  基本运算小案例"
   ]
  },
  {
   "cell_type": "code",
   "execution_count": 40,
   "id": "678fc38a-fa79-46c6-b640-ccf7bbeb41fc",
   "metadata": {},
   "outputs": [],
   "source": [
    "stock_change = np.random.normal(loc=0,scale=1,size=(8,10))"
   ]
  },
  {
   "cell_type": "code",
   "execution_count": 41,
   "id": "a9d2452a-74c0-47ab-b58f-8b90d628f45f",
   "metadata": {},
   "outputs": [
    {
     "data": {
      "text/plain": [
       "array([0.40129923, 2.21653346, 1.53904123])"
      ]
     },
     "execution_count": 41,
     "metadata": {},
     "output_type": "execute_result"
    }
   ],
   "source": [
    "stock_change[1,:3]"
   ]
  },
  {
   "cell_type": "code",
   "execution_count": 43,
   "id": "b2d41e62-1a6c-477c-8063-4ab29be33a47",
   "metadata": {},
   "outputs": [
    {
     "data": {
      "text/plain": [
       "array([[-2.6173507 , -0.23283798, -0.38412069,  0.32670488,  0.36444039,\n",
       "        -0.35901697,  0.2664121 ,  0.61380235],\n",
       "       [ 1.00806629,  1.19932576,  0.40129923,  2.21653346,  1.53904123,\n",
       "         0.22601817, -0.91025698,  0.80027991],\n",
       "       [-0.86585854, -1.36810131, -1.56934441, -0.40398197,  0.01692321,\n",
       "        -0.49924423,  2.51986214,  1.07916588],\n",
       "       [-0.9312006 , -1.90508756, -0.25322614,  0.5123431 ,  0.60401659,\n",
       "         0.19940599,  0.40119283, -0.3971031 ],\n",
       "       [-0.52429844,  0.46496475, -1.17764349, -0.49960115,  0.15204014,\n",
       "         0.62563149,  0.43278239, -0.27512505],\n",
       "       [-0.43374987,  0.49512038,  0.14945187,  1.19577133,  0.05386776,\n",
       "        -0.21236236, -0.02726912,  0.66594815],\n",
       "       [ 0.77706211,  1.31749506,  0.49017649,  1.16148035, -0.66470656,\n",
       "         1.61982   , -0.49404629, -0.34933297],\n",
       "       [-0.20665378,  0.58603949,  0.14936225,  1.08654363, -0.52872272,\n",
       "         0.54990779, -0.19475827, -0.11921308],\n",
       "       [-0.15252759,  0.91729896,  1.64552472, -1.0020433 ,  0.23746833,\n",
       "         0.62954637,  0.98203872, -0.11039555],\n",
       "       [-0.45142633,  2.78349542,  0.06492996,  0.55772658, -1.67627498,\n",
       "         2.06712289,  0.92968389,  0.11961937]])"
      ]
     },
     "execution_count": 43,
     "metadata": {},
     "output_type": "execute_result"
    }
   ],
   "source": [
    "stock_change.reshape((10,8))"
   ]
  },
  {
   "cell_type": "code",
   "execution_count": 45,
   "id": "5ff8c491-5499-4ffb-856f-a86ab980c841",
   "metadata": {},
   "outputs": [],
   "source": [
    "stock_change.resize((10,8))"
   ]
  },
  {
   "cell_type": "code",
   "execution_count": 47,
   "id": "246a4068-be1f-4790-9e40-870be57cc049",
   "metadata": {},
   "outputs": [],
   "source": [
    "stock_change.resize((8,10))"
   ]
  },
  {
   "cell_type": "code",
   "execution_count": 48,
   "id": "6c9fd95d-ca72-4107-add1-f0a07ca42941",
   "metadata": {},
   "outputs": [
    {
     "data": {
      "text/plain": [
       "array([[-2.6173507 ,  0.40129923,  0.01692321,  0.40119283, -0.43374987,\n",
       "         0.49017649, -0.52872272,  0.98203872],\n",
       "       [-0.23283798,  2.21653346, -0.49924423, -0.3971031 ,  0.49512038,\n",
       "         1.16148035,  0.54990779, -0.11039555],\n",
       "       [-0.38412069,  1.53904123,  2.51986214, -0.52429844,  0.14945187,\n",
       "        -0.66470656, -0.19475827, -0.45142633],\n",
       "       [ 0.32670488,  0.22601817,  1.07916588,  0.46496475,  1.19577133,\n",
       "         1.61982   , -0.11921308,  2.78349542],\n",
       "       [ 0.36444039, -0.91025698, -0.9312006 , -1.17764349,  0.05386776,\n",
       "        -0.49404629, -0.15252759,  0.06492996],\n",
       "       [-0.35901697,  0.80027991, -1.90508756, -0.49960115, -0.21236236,\n",
       "        -0.34933297,  0.91729896,  0.55772658],\n",
       "       [ 0.2664121 , -0.86585854, -0.25322614,  0.15204014, -0.02726912,\n",
       "        -0.20665378,  1.64552472, -1.67627498],\n",
       "       [ 0.61380235, -1.36810131,  0.5123431 ,  0.62563149,  0.66594815,\n",
       "         0.58603949, -1.0020433 ,  2.06712289],\n",
       "       [ 1.00806629, -1.56934441,  0.60401659,  0.43278239,  0.77706211,\n",
       "         0.14936225,  0.23746833,  0.92968389],\n",
       "       [ 1.19932576, -0.40398197,  0.19940599, -0.27512505,  1.31749506,\n",
       "         1.08654363,  0.62954637,  0.11961937]])"
      ]
     },
     "execution_count": 48,
     "metadata": {},
     "output_type": "execute_result"
    }
   ],
   "source": [
    "stock_change.T"
   ]
  },
  {
   "cell_type": "code",
   "execution_count": 49,
   "id": "34f075e1-735a-4c1f-a178-5f0b42c98587",
   "metadata": {
    "scrolled": true
   },
   "outputs": [
    {
     "data": {
      "text/plain": [
       "array([[-2,  0,  0,  0,  0,  0,  0,  0,  1,  1],\n",
       "       [ 0,  2,  1,  0,  0,  0,  0, -1, -1,  0],\n",
       "       [ 0,  0,  2,  1,  0, -1,  0,  0,  0,  0],\n",
       "       [ 0,  0,  0,  0, -1,  0,  0,  0,  0,  0],\n",
       "       [ 0,  0,  0,  1,  0,  0,  0,  0,  0,  1],\n",
       "       [ 0,  1,  0,  1,  0,  0,  0,  0,  0,  1],\n",
       "       [ 0,  0,  0,  0,  0,  0,  1, -1,  0,  0],\n",
       "       [ 0,  0,  0,  2,  0,  0, -1,  2,  0,  0]], dtype=int32)"
      ]
     },
     "execution_count": 49,
     "metadata": {},
     "output_type": "execute_result"
    }
   ],
   "source": [
    "stock_change.astype(\"int32\")"
   ]
  },
  {
   "cell_type": "code",
   "execution_count": 50,
   "id": "7b402962-ebf2-4cf8-930a-7be999bc85ac",
   "metadata": {},
   "outputs": [
    {
     "name": "stderr",
     "output_type": "stream",
     "text": [
      "/tmp/ipykernel_24051/2974151914.py:1: DeprecationWarning: tostring() is deprecated. Use tobytes() instead.\n",
      "  stock_change.tostring()\n"
     ]
    },
    {
     "data": {
      "text/plain": [
       "b'\\xa8\\x1d%\\x90U\\xf0\\x04\\xc0\\xf0t\\xf2\\x80\\xa2\\xcd\\xcd\\xbf_\\x83B\\xf4n\\x95\\xd8\\xbf\\xba\\xe9[\\x92\\xbb\\xe8\\xd4?\\x85J.\\xcd\\xfdR\\xd7?\\xb3\\x97{S\"\\xfa\\xd6\\xbf\\x87\\xe6\\xf5Y\\xe5\\x0c\\xd1?\\x0b(\\xaf\\xd1D\\xa4\\xe3?n\\x9d\\x14\\x1d\\n!\\xf0?\\xb1 86p0\\xf3?\\xe2\\xba\\xfb\\xf5\\xe2\\xae\\xd9?\\xb4\\xf7\\xd0\\xe4u\\xbb\\x01@;s\\xc0\\xb1\\xe9\\x9f\\xf8?G)\\xfd\\xd9)\\xee\\xcc?Vcr?\\xd3 \\xed\\xbf\\xae-\\x85\\x9d\\xe4\\x9b\\xe9?\\x82\\xae\\x00\\xf7\\x1c\\xb5\\xeb\\xbf\\x92\\x9854\\xbe\\xe3\\xf5\\xbf\\xd0y\\xa7\\xe2\\x08\\x1c\\xf9\\xbf\\x1e\\x17\\xfc2\\xd7\\xda\\xd9\\xbf\\xdd\\xf9\\xbfxQT\\x91?\\x8a\\xed\\xd1\\x0c\\x9e\\xf3\\xdf\\xbf\\x95\\xbd\\xe7{\\xad(\\x04@\\xd4\\xde\\xcaqCD\\xf1?1\\xda\\xac1e\\xcc\\xed\\xbf\\xc0\\x0cu\\x17={\\xfe\\xbf\\x7fT\\xdbe\\xdb4\\xd0\\xbf\\xda\\x1e\\xda[\\x1de\\xe0?\\x8aD\\x07\\x97\\x1aT\\xe3?I\\x06\\xa0\\xa6\"\\x86\\xc9?\\xd9\\xeb\\xba\\xae$\\xad\\xd9?\\x90\\xb7\"$#j\\xd9\\xbfk\\x7f\"\\x86\\r\\xc7\\xe0\\xbf\\x93\\xb1a\\x84\\xfb\\xc1\\xdd?\\xe9\\xf5\\x0b\\xb4\\xa0\\xd7\\xf2\\xbf\\xebx{\\x1aw\\xf9\\xdf\\xbf\\x15\\xbe\\xc3\\x19\\rv\\xc3?&\\xbcNU,\\x05\\xe4?\\x14C\\x0b\\xeb\\xb4\\xb2\\xdb?\\xa9v\\xc7\\x1c\\xa6\\x9b\\xd1\\xbfbp\\x8f\\xd3\\x8e\\xc2\\xdb\\xbf\\x97\\xa3\\xcea\\r\\xb0\\xdf?\\x7f\\xe4g\"=!\\xc3?\\x07I\\xa6\\x1e\\xe1!\\xf3?Zc\\\\ \\x8e\\x94\\xab?\\xcb\\xb4\\xfc\\x96\\xb0.\\xcb\\xbf\\xf9\\x93Z\\xe1o\\xec\\x9b\\xbf\\xf6\\xee^|rO\\xe5?t\\xee\\x05Z\\xb1\\xdd\\xe8?\\xff\\xf2\\x08\\xb2u\\x14\\xf5?\\xcbV\\x064\\r_\\xdf?\\xdc\\xdfEll\\x95\\xf2?\\xd4\\xdal\\xafFE\\xe5\\xbf\\x9e\\r3_\\xc8\\xea\\xf9?\\xdfT.Vt\\x9e\\xdf\\xbfj\\x9aQ\\xb1x[\\xd6\\xbf\\x08\\x12\\x07\\x97\\xa1s\\xca\\xbf\\xaf\\\\J\\xe5\\xd5\\xc0\\xe2?v=\\xacbM\\x1e\\xc3?\\xfc\\x07H\\x92{b\\xf1?\\x10U\\xa1\\xeaK\\xeb\\xe0\\xbfF\\xade6\\xd8\\x98\\xe1??`\\t\\xcb\\xd6\\xed\\xc8\\xbf\\xe9\\x92\\xfb\\x8a\\xbf\\x84\\xbe\\xbf\\xea\\x08\\xb1#\\x06\\x86\\xc3\\xbf\\x97^\\xd8Z\\x83Z\\xed?O\\x99Z\\xba\\x11T\\xfa?? +\\x8f^\\x08\\xf0\\xbf\\xbb\\xb8]\\xc2\\\\e\\xce?Ng\\x01m>%\\xe4?\\xaf\\xdf\\x90u\\xdcl\\xef?:h\\xb5\\x0b\\xe2B\\xbc\\xbfw\\xfc\\x85>+\\xe4\\xdc\\xbfu\\x82\\xb4>\\x99D\\x06@7\\xa2\\xee\\x04@\\x9f\\xb0?\\x95\\xde\\xc4i\\xe5\\xd8\\xe1?D\\xc2\\xcf\\xb6\\x05\\xd2\\xfa\\xbf\\x01P]\\xbaw\\x89\\x00@\\x1b\\x85\\x0em\\xf8\\xbf\\xed?\\x97!\\xa9\\xf9_\\x9f\\xbe?'"
      ]
     },
     "execution_count": 50,
     "metadata": {},
     "output_type": "execute_result"
    }
   ],
   "source": [
    "stock_change.tostring()"
   ]
  },
  {
   "cell_type": "code",
   "execution_count": 51,
   "id": "7d512956-b11f-44c5-b764-e0cc7027f25a",
   "metadata": {},
   "outputs": [],
   "source": [
    "temp = np.array([[1, 2, 3, 4],[3, 4, 5, 6]])"
   ]
  },
  {
   "cell_type": "code",
   "execution_count": 52,
   "id": "3f4c3df4-99dd-467b-b189-34f8afa07a00",
   "metadata": {},
   "outputs": [
    {
     "data": {
      "text/plain": [
       "array([1, 2, 3, 4, 5, 6])"
      ]
     },
     "execution_count": 52,
     "metadata": {},
     "output_type": "execute_result"
    }
   ],
   "source": [
    "np.unique(temp)"
   ]
  },
  {
   "cell_type": "code",
   "execution_count": 53,
   "id": "9bb22f02-8abc-4b8c-8097-bbb538c75ea0",
   "metadata": {},
   "outputs": [
    {
     "data": {
      "text/plain": [
       "{np.int64(1), np.int64(2), np.int64(3), np.int64(4), np.int64(5), np.int64(6)}"
      ]
     },
     "execution_count": 53,
     "metadata": {},
     "output_type": "execute_result"
    }
   ],
   "source": [
    "set(temp.flatten())"
   ]
  },
  {
   "cell_type": "markdown",
   "id": "22e636f5-b091-45a4-b494-8822f62285be",
   "metadata": {},
   "source": [
    "### ndarray运算"
   ]
  },
  {
   "cell_type": "markdown",
   "id": "19b17b3a-93a5-4cb0-8573-18941f896969",
   "metadata": {},
   "source": [
    "####  逻辑运算"
   ]
  },
  {
   "cell_type": "code",
   "execution_count": 55,
   "id": "30f4ca76-2be5-4ac1-bfe4-b597403e8c1b",
   "metadata": {},
   "outputs": [],
   "source": [
    "stock_change = np.random.normal(loc=0,scale=1,size=(8,10))"
   ]
  },
  {
   "cell_type": "code",
   "execution_count": 56,
   "id": "1a5bd3cf-3c07-465d-beb0-6190ea74f94b",
   "metadata": {},
   "outputs": [
    {
     "data": {
      "text/plain": [
       "array([[False,  True,  True, False, False,  True, False, False,  True,\n",
       "         True],\n",
       "       [False, False,  True,  True, False, False, False, False, False,\n",
       "         True],\n",
       "       [False, False,  True, False, False, False, False, False, False,\n",
       "        False],\n",
       "       [ True, False, False, False, False, False, False,  True, False,\n",
       "        False],\n",
       "       [ True,  True, False,  True,  True, False, False, False,  True,\n",
       "        False],\n",
       "       [ True,  True, False, False, False, False, False, False,  True,\n",
       "        False],\n",
       "       [False, False,  True,  True,  True, False, False,  True, False,\n",
       "        False],\n",
       "       [ True, False, False, False,  True, False, False, False, False,\n",
       "        False]])"
      ]
     },
     "execution_count": 56,
     "metadata": {},
     "output_type": "execute_result"
    }
   ],
   "source": [
    "stock_change > 0.5"
   ]
  },
  {
   "cell_type": "code",
   "execution_count": 57,
   "id": "fcb8d1fa-9934-4ec1-96ef-3b731e394c86",
   "metadata": {},
   "outputs": [],
   "source": [
    "stock_change[stock_change>0.5] = 1.1"
   ]
  },
  {
   "cell_type": "code",
   "execution_count": 58,
   "id": "d3d56a44-74ec-4613-b28d-758ef5024090",
   "metadata": {},
   "outputs": [
    {
     "data": {
      "text/plain": [
       "array([[-1.01598296,  1.1       ,  1.1       , -1.44097942, -0.28955847,\n",
       "         1.1       , -0.55368915, -0.29745409,  1.1       ,  1.1       ],\n",
       "       [-0.2317918 ,  0.45882881,  1.1       ,  1.1       , -1.32916607,\n",
       "         0.43118237,  0.35604087, -0.69417667, -0.79837929,  1.1       ],\n",
       "       [-0.61568944, -1.22245246,  1.1       , -0.62115567, -0.49594001,\n",
       "        -0.37941142, -0.70135355, -1.12725237, -0.04836721, -0.04967577],\n",
       "       [ 1.1       , -0.91972271, -1.55150688,  0.41397308, -0.76349362,\n",
       "        -1.79449083,  0.38725568,  1.1       ,  0.43736208,  0.42546421],\n",
       "       [ 1.1       ,  1.1       , -0.28560503,  1.1       ,  1.1       ,\n",
       "        -0.28327096, -0.1642258 , -0.34149659,  1.1       , -1.0025306 ],\n",
       "       [ 1.1       ,  1.1       , -1.40272725, -1.30955958, -0.74835539,\n",
       "        -0.47223299, -0.09252698, -0.54576767,  1.1       , -0.44790953],\n",
       "       [ 0.28966983, -0.2268767 ,  1.1       ,  1.1       ,  1.1       ,\n",
       "        -0.28376478, -1.19790106,  1.1       ,  0.16732718, -0.10484479],\n",
       "       [ 1.1       , -0.67042674, -2.04714601,  0.32843846,  1.1       ,\n",
       "         0.31306106,  0.44892638,  0.11546175, -0.25655734,  0.46143757]])"
      ]
     },
     "execution_count": 58,
     "metadata": {},
     "output_type": "execute_result"
    }
   ],
   "source": [
    "stock_change"
   ]
  },
  {
   "cell_type": "code",
   "execution_count": 59,
   "id": "a2c20327-1092-452a-88df-7063ba073c52",
   "metadata": {},
   "outputs": [
    {
     "data": {
      "text/plain": [
       "array([[False,  True,  True, False, False],\n",
       "       [False,  True,  True,  True, False]])"
      ]
     },
     "execution_count": 59,
     "metadata": {},
     "output_type": "execute_result"
    }
   ],
   "source": [
    "# 判断stock_change[0:2, 0:5]是否全是上涨的\n",
    "stock_change[0:2, 0:5] > 0"
   ]
  },
  {
   "cell_type": "code",
   "execution_count": 60,
   "id": "c0a1f029-896b-468b-8e76-0bb5470ee1c2",
   "metadata": {},
   "outputs": [
    {
     "data": {
      "text/plain": [
       "np.False_"
      ]
     },
     "execution_count": 60,
     "metadata": {},
     "output_type": "execute_result"
    }
   ],
   "source": [
    "np.all(stock_change[0:2, 0:5] > 0)"
   ]
  },
  {
   "cell_type": "code",
   "execution_count": 61,
   "id": "5879e4f8-fb0e-4870-87ef-641aef1d829d",
   "metadata": {},
   "outputs": [
    {
     "data": {
      "text/plain": [
       "np.True_"
      ]
     },
     "execution_count": 61,
     "metadata": {},
     "output_type": "execute_result"
    }
   ],
   "source": [
    "np.any(stock_change[0:2, 0:5] > 0)"
   ]
  },
  {
   "cell_type": "code",
   "execution_count": 62,
   "id": "840b319a-f188-47f5-8a6c-c68b7edc7ed2",
   "metadata": {},
   "outputs": [],
   "source": [
    "temp = stock_change[:4,:4]"
   ]
  },
  {
   "cell_type": "code",
   "execution_count": 63,
   "id": "df59f116-4e53-4b55-8c7f-80e70915907c",
   "metadata": {},
   "outputs": [
    {
     "data": {
      "text/plain": [
       "array([[0, 1, 1, 0],\n",
       "       [0, 1, 1, 1],\n",
       "       [0, 0, 1, 0],\n",
       "       [1, 0, 0, 1]])"
      ]
     },
     "execution_count": 63,
     "metadata": {},
     "output_type": "execute_result"
    }
   ],
   "source": [
    "np.where(temp > 0,1,0)"
   ]
  },
  {
   "cell_type": "code",
   "execution_count": 64,
   "id": "33f8f4cc-fbdd-4ba2-85a6-747e4107c27b",
   "metadata": {},
   "outputs": [
    {
     "data": {
      "text/plain": [
       "array([[False, False, False, False],\n",
       "       [False, False, False, False],\n",
       "       [False, False, False, False],\n",
       "       [False, False, False, False]])"
      ]
     },
     "execution_count": 64,
     "metadata": {},
     "output_type": "execute_result"
    }
   ],
   "source": [
    "np.logical_and(temp > 0.5, temp < 1)"
   ]
  },
  {
   "cell_type": "code",
   "execution_count": 65,
   "id": "1366b17d-c401-43eb-ab6b-806a96ada0d6",
   "metadata": {},
   "outputs": [
    {
     "data": {
      "text/plain": [
       "array([[0, 0, 0, 0],\n",
       "       [0, 0, 0, 0],\n",
       "       [0, 0, 0, 0],\n",
       "       [0, 0, 0, 0]])"
      ]
     },
     "execution_count": 65,
     "metadata": {},
     "output_type": "execute_result"
    }
   ],
   "source": [
    "np.where(np.logical_and(temp > 0.5, temp < 1), 1, 0)"
   ]
  },
  {
   "cell_type": "code",
   "execution_count": 66,
   "id": "a6976a4b-7b5e-41bf-9a91-50543a5675b4",
   "metadata": {},
   "outputs": [
    {
     "data": {
      "text/plain": [
       "array([[ True,  True,  True,  True],\n",
       "       [False, False,  True,  True],\n",
       "       [ True,  True,  True,  True],\n",
       "       [ True,  True,  True, False]])"
      ]
     },
     "execution_count": 66,
     "metadata": {},
     "output_type": "execute_result"
    }
   ],
   "source": [
    "np.logical_or(temp > 0.5, temp < -0.5)"
   ]
  },
  {
   "cell_type": "markdown",
   "id": "35f95689-80fb-4b67-b90e-a6bebc951929",
   "metadata": {},
   "source": [
    "####  统计运算"
   ]
  },
  {
   "cell_type": "code",
   "execution_count": 67,
   "id": "c041ad2d-2eac-4787-859f-2905054d0180",
   "metadata": {},
   "outputs": [
    {
     "data": {
      "text/plain": [
       "array([[-1.01598296,  1.1       ,  1.1       , -1.44097942],\n",
       "       [-0.2317918 ,  0.45882881,  1.1       ,  1.1       ],\n",
       "       [-0.61568944, -1.22245246,  1.1       , -0.62115567],\n",
       "       [ 1.1       , -0.91972271, -1.55150688,  0.41397308]])"
      ]
     },
     "execution_count": 67,
     "metadata": {},
     "output_type": "execute_result"
    }
   ],
   "source": [
    "temp"
   ]
  },
  {
   "cell_type": "code",
   "execution_count": 68,
   "id": "b0251461-ef86-4f22-ac70-a8265c28beef",
   "metadata": {},
   "outputs": [
    {
     "data": {
      "text/plain": [
       "np.float64(1.1)"
      ]
     },
     "execution_count": 68,
     "metadata": {},
     "output_type": "execute_result"
    }
   ],
   "source": [
    "temp.max()"
   ]
  },
  {
   "cell_type": "code",
   "execution_count": 69,
   "id": "25ce19ac-ba20-4cf7-a278-6b043bea7e85",
   "metadata": {},
   "outputs": [
    {
     "data": {
      "text/plain": [
       "np.float64(1.1)"
      ]
     },
     "execution_count": 69,
     "metadata": {},
     "output_type": "execute_result"
    }
   ],
   "source": [
    "np.max(temp)"
   ]
  },
  {
   "cell_type": "code",
   "execution_count": 71,
   "id": "ec3eca3c-0107-42cd-8e57-687bdda0120c",
   "metadata": {},
   "outputs": [
    {
     "data": {
      "text/plain": [
       "array([1.1, 1.1, 1.1, 1.1])"
      ]
     },
     "execution_count": 71,
     "metadata": {},
     "output_type": "execute_result"
    }
   ],
   "source": [
    "# 前四只股票前四天的最大涨幅\n",
    "temp.max(axis=1)"
   ]
  },
  {
   "cell_type": "code",
   "execution_count": 72,
   "id": "313b3c8e-1cf1-4f3b-9d39-79c045ef4f15",
   "metadata": {},
   "outputs": [
    {
     "data": {
      "text/plain": [
       "array([1, 2, 2, 0])"
      ]
     },
     "execution_count": 72,
     "metadata": {},
     "output_type": "execute_result"
    }
   ],
   "source": [
    "np.argmax(temp,axis=1)"
   ]
  },
  {
   "cell_type": "markdown",
   "id": "0163d008-9046-4cc2-8986-9cfdf1a5b04f",
   "metadata": {},
   "source": [
    "#### 数组间运算"
   ]
  },
  {
   "cell_type": "code",
   "execution_count": 73,
   "id": "9a7e5efe-dabd-4405-864d-41a0e4d8c50d",
   "metadata": {},
   "outputs": [],
   "source": [
    "arr = np.array([[1, 2, 3, 2, 1, 4], [5, 6, 1, 2, 3, 1]])"
   ]
  },
  {
   "cell_type": "code",
   "execution_count": 74,
   "id": "f89c669a-2dca-4099-bb77-bbe149a045ff",
   "metadata": {},
   "outputs": [
    {
     "data": {
      "text/plain": [
       "array([[0.1, 0.2, 0.3, 0.2, 0.1, 0.4],\n",
       "       [0.5, 0.6, 0.1, 0.2, 0.3, 0.1]])"
      ]
     },
     "execution_count": 74,
     "metadata": {},
     "output_type": "execute_result"
    }
   ],
   "source": [
    "arr/10"
   ]
  },
  {
   "cell_type": "code",
   "execution_count": 76,
   "id": "18a09b4a-ff14-4e14-b371-30793d145836",
   "metadata": {},
   "outputs": [],
   "source": [
    "arr1 = np.array([[1, 2, 3, 2, 1, 4], [5, 6, 1, 2, 3, 1]])\n",
    "arr2 = np.array([[1, 2, 3, 4], [3, 4, 5, 6]])"
   ]
  },
  {
   "cell_type": "markdown",
   "id": "8c89e86d-a6d2-4bb2-83bb-1ecf137873af",
   "metadata": {},
   "source": [
    "#### 矩阵运算"
   ]
  },
  {
   "cell_type": "code",
   "execution_count": 77,
   "id": "202c5e07-b0a2-4a67-afc6-2c7d79b12fd3",
   "metadata": {},
   "outputs": [],
   "source": [
    "# ndarray存储矩阵\n",
    "data = np.array([[80, 86],\n",
    "[82, 80],\n",
    "[85, 78],\n",
    "[90, 90],\n",
    "[86, 82],\n",
    "[82, 90],\n",
    "[78, 80],\n",
    "[92, 94]])"
   ]
  },
  {
   "cell_type": "code",
   "execution_count": 79,
   "id": "1febb4c7-1c0e-4ec1-9491-def1a771cae3",
   "metadata": {},
   "outputs": [],
   "source": [
    "# matrix存储矩阵\n",
    "data_mat = np.asmatrix([[80, 86],\n",
    "[82, 80],\n",
    "[85, 78],\n",
    "[90, 90],\n",
    "[86, 82],\n",
    "[82, 90],\n",
    "[78, 80],\n",
    "[92, 94]])"
   ]
  },
  {
   "cell_type": "code",
   "execution_count": 80,
   "id": "2608d5db-98a7-41e0-8241-7769e372e9be",
   "metadata": {},
   "outputs": [],
   "source": [
    "weights = np.array([[0.3], [0.7]])"
   ]
  },
  {
   "cell_type": "code",
   "execution_count": 81,
   "id": "4ab919e8-35f2-4efd-b908-815d724025c2",
   "metadata": {},
   "outputs": [
    {
     "ename": "ValueError",
     "evalue": "operands could not be broadcast together with shapes (8,2) (2,1) ",
     "output_type": "error",
     "traceback": [
      "\u001b[0;31m---------------------------------------------------------------------------\u001b[0m",
      "\u001b[0;31mValueError\u001b[0m                                Traceback (most recent call last)",
      "Cell \u001b[0;32mIn[81], line 1\u001b[0m\n\u001b[0;32m----> 1\u001b[0m \u001b[43mdata\u001b[49m\u001b[38;5;241;43m*\u001b[39;49m\u001b[43mweights\u001b[49m\n",
      "\u001b[0;31mValueError\u001b[0m: operands could not be broadcast together with shapes (8,2) (2,1) "
     ]
    }
   ],
   "source": [
    "data*weights"
   ]
  },
  {
   "cell_type": "code",
   "execution_count": 82,
   "id": "7326709d-1382-4159-a27a-916cd65fc78f",
   "metadata": {},
   "outputs": [
    {
     "data": {
      "text/plain": [
       "array([[84.2],\n",
       "       [80.6],\n",
       "       [80.1],\n",
       "       [90. ],\n",
       "       [83.2],\n",
       "       [87.6],\n",
       "       [79.4],\n",
       "       [93.4]])"
      ]
     },
     "execution_count": 82,
     "metadata": {},
     "output_type": "execute_result"
    }
   ],
   "source": [
    "np.matmul(data,weights)"
   ]
  },
  {
   "cell_type": "code",
   "execution_count": 83,
   "id": "ee11255b-980c-4b2c-88c7-4c5ad3bdf3b3",
   "metadata": {},
   "outputs": [
    {
     "data": {
      "text/plain": [
       "array([[84.2],\n",
       "       [80.6],\n",
       "       [80.1],\n",
       "       [90. ],\n",
       "       [83.2],\n",
       "       [87.6],\n",
       "       [79.4],\n",
       "       [93.4]])"
      ]
     },
     "execution_count": 83,
     "metadata": {},
     "output_type": "execute_result"
    }
   ],
   "source": [
    "np.dot(data,weights)"
   ]
  },
  {
   "cell_type": "markdown",
   "id": "14bab9df-1115-4319-a233-e22af50672df",
   "metadata": {},
   "source": [
    "####  合并分割"
   ]
  },
  {
   "cell_type": "code",
   "execution_count": 84,
   "id": "a5f73fde-ee99-479f-8626-e80e74c2a276",
   "metadata": {},
   "outputs": [],
   "source": [
    "a = stock_change[:2, 0:4]\n",
    "b = stock_change[4:6, 0:4]"
   ]
  },
  {
   "cell_type": "code",
   "execution_count": 85,
   "id": "c992584f-f2ca-4d17-aef8-cdf8ada0b0ca",
   "metadata": {},
   "outputs": [
    {
     "data": {
      "text/plain": [
       "array([[-1.01598296,  1.1       ,  1.1       , -1.44097942],\n",
       "       [-0.2317918 ,  0.45882881,  1.1       ,  1.1       ]])"
      ]
     },
     "execution_count": 85,
     "metadata": {},
     "output_type": "execute_result"
    }
   ],
   "source": [
    "a"
   ]
  },
  {
   "cell_type": "code",
   "execution_count": 86,
   "id": "4cbb1137-cd45-40a8-935c-267cb6b18de8",
   "metadata": {},
   "outputs": [
    {
     "data": {
      "text/plain": [
       "array([[ 1.1       ,  1.1       , -0.28560503,  1.1       ],\n",
       "       [ 1.1       ,  1.1       , -1.40272725, -1.30955958]])"
      ]
     },
     "execution_count": 86,
     "metadata": {},
     "output_type": "execute_result"
    }
   ],
   "source": [
    "b"
   ]
  },
  {
   "cell_type": "code",
   "execution_count": 87,
   "id": "9615870f-70e6-4021-b58f-c576c73b1e27",
   "metadata": {},
   "outputs": [
    {
     "data": {
      "text/plain": [
       "array([[-1.01598296,  1.1       ,  1.1       , -1.44097942,  1.1       ,\n",
       "         1.1       , -0.28560503,  1.1       ],\n",
       "       [-0.2317918 ,  0.45882881,  1.1       ,  1.1       ,  1.1       ,\n",
       "         1.1       , -1.40272725, -1.30955958]])"
      ]
     },
     "execution_count": 87,
     "metadata": {},
     "output_type": "execute_result"
    }
   ],
   "source": [
    "np.hstack((a,b))"
   ]
  },
  {
   "cell_type": "code",
   "execution_count": 88,
   "id": "eea28391-8093-4c48-857b-a7884f8f95ae",
   "metadata": {},
   "outputs": [
    {
     "data": {
      "text/plain": [
       "array([[-1.01598296,  1.1       ,  1.1       , -1.44097942,  1.1       ,\n",
       "         1.1       , -0.28560503,  1.1       ],\n",
       "       [-0.2317918 ,  0.45882881,  1.1       ,  1.1       ,  1.1       ,\n",
       "         1.1       , -1.40272725, -1.30955958]])"
      ]
     },
     "execution_count": 88,
     "metadata": {},
     "output_type": "execute_result"
    }
   ],
   "source": [
    "np.concatenate((a, b), axis=1)"
   ]
  },
  {
   "cell_type": "code",
   "execution_count": 89,
   "id": "b2dd6a5d-3603-4549-9266-f0d881453e59",
   "metadata": {},
   "outputs": [
    {
     "data": {
      "text/plain": [
       "array([[-1.01598296,  1.1       ,  1.1       , -1.44097942],\n",
       "       [-0.2317918 ,  0.45882881,  1.1       ,  1.1       ],\n",
       "       [ 1.1       ,  1.1       , -0.28560503,  1.1       ],\n",
       "       [ 1.1       ,  1.1       , -1.40272725, -1.30955958]])"
      ]
     },
     "execution_count": 89,
     "metadata": {},
     "output_type": "execute_result"
    }
   ],
   "source": [
    "np.vstack((a, b))"
   ]
  },
  {
   "cell_type": "code",
   "execution_count": 90,
   "id": "bb6d9fb8-f3a6-436f-80a8-e61c008173a7",
   "metadata": {},
   "outputs": [
    {
     "data": {
      "text/plain": [
       "array([[-1.01598296,  1.1       ,  1.1       , -1.44097942],\n",
       "       [-0.2317918 ,  0.45882881,  1.1       ,  1.1       ],\n",
       "       [ 1.1       ,  1.1       , -0.28560503,  1.1       ],\n",
       "       [ 1.1       ,  1.1       , -1.40272725, -1.30955958]])"
      ]
     },
     "execution_count": 90,
     "metadata": {},
     "output_type": "execute_result"
    }
   ],
   "source": [
    "np.concatenate((a, b), axis=0)"
   ]
  },
  {
   "cell_type": "markdown",
   "id": "9f3eda63-3a20-45ae-ac49-41cf20b012af",
   "metadata": {},
   "source": [
    "###  读取操作"
   ]
  },
  {
   "cell_type": "code",
   "execution_count": 98,
   "id": "b729d3df-cf8f-488b-ae3d-746965548bb0",
   "metadata": {},
   "outputs": [],
   "source": [
    "data111 = np.genfromtxt(\"test.csv\",delimiter=\",\")"
   ]
  },
  {
   "cell_type": "code",
   "execution_count": 96,
   "id": "8a2ce05b-66e4-44ef-ba55-5e77a9b3ffb1",
   "metadata": {},
   "outputs": [
    {
     "data": {
      "text/plain": [
       "numpy.float64"
      ]
     },
     "execution_count": 96,
     "metadata": {},
     "output_type": "execute_result"
    }
   ],
   "source": [
    "type(data[2, 2])"
   ]
  }
 ],
 "metadata": {
  "kernelspec": {
   "display_name": "Python 3 (ipykernel)",
   "language": "python",
   "name": "python3"
  },
  "language_info": {
   "codemirror_mode": {
    "name": "ipython",
    "version": 3
   },
   "file_extension": ".py",
   "mimetype": "text/x-python",
   "name": "python",
   "nbconvert_exporter": "python",
   "pygments_lexer": "ipython3",
   "version": "3.10.12"
  }
 },
 "nbformat": 4,
 "nbformat_minor": 5
}
